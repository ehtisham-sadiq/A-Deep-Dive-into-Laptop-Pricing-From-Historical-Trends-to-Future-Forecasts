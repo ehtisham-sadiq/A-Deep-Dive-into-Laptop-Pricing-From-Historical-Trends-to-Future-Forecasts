{
 "cells": [
  {
   "cell_type": "markdown",
   "id": "bee50eb3",
   "metadata": {},
   "source": [
    "## A Deep Dive into Laptop Pricing From Historical Trends to Future Forecasts\n",
    "\n",
    "### Learning Agenda of Notebook:\n",
    "\n",
    "- **Machine Learning Project LifeCycle**\n",
    "- **Problem Statement** \n",
    "- **Data Collection/ Data Acquisition**\n",
    "- **Basic Understanding of Data**\n",
    "- **Data Pre-processing** \n",
    "- **Exploratory Data Analysis**\n",
    "- **Feature Engineering**\n",
    "- **Model Building**\n",
    "- **Model Evaluation**\n",
    "- **Cross Validation and Hyper-Parameter Tunning**\n",
    "- **Web Application using Streamlit**\n",
    "- **Containerizing the WebApp using Docker**\n",
    "- **Bonus: Scaling our Docker Container using Kubernetes**"
   ]
  },
  {
   "cell_type": "code",
   "execution_count": null,
   "id": "e9ef1ba7",
   "metadata": {},
   "outputs": [],
   "source": []
  },
  {
   "cell_type": "markdown",
   "id": "897d7b38",
   "metadata": {},
   "source": [
    "## Machine Learning Project LifeCycle\n",
    "\n",
    "<img src=\"images/lifeCycle.png\" height=500px width=500px>\n",
    "\n",
    "<br/>\n",
    "\n",
    "The **machine learning project lifecycle** refers to the stages involved in developing and deploying a machine learning model. The project lifecycle typically includes the following stages:\n",
    "<br/>\n",
    "\n",
    "\n",
    "\n",
    "- **Problem Definition:** The first step is to define the problem we want to solve. This includes identifying the business or research problem, defining the data requirements, and determining the objectives and metrics for success.\n",
    "<br/>\n",
    "- **Data Collection:** The second step is to collect the data that we will use to build your model. This may involve acquiring data from various sources, including internal and external databases, APIs, and web scraping.\n",
    "<br/>\n",
    "\n",
    "- **Data Cleaning and Preparation:** Once we have collected the data, we need to clean and prepare it for analysis. This involves tasks such as removing duplicates, handling missing data, transforming the data into the appropriate format.\n",
    "<br/>\n",
    "\n",
    "- **Data Analysis and Visualization:** With the data cleaned and prepared, the next step is to analyze and visualize the data to gain insights into the problem we are trying to solve. This may include exploratory data analysis, data visualization, and feature selection.\n",
    "<br/>\n",
    "\n",
    "- **Model Selection and Training:** Once we have a clear understanding of the data, the next step is to select an appropriate machine learning model and train it on the data, before training we need to split the data into training and testing sets.. This step involves evaluating different models and selecting the one that provides the best performance.\n",
    "<br/>\n",
    "\n",
    "- **Model Evaluation:** Once we have trained the model, we need to evaluate its performance on a holdout test set. This involves calculating various metrics, such as mse, rmse, r2,  accuracy, precision, recall, and F1 score.\n",
    "<br/>\n",
    "\n",
    "- **Model Deployment:** If the model performs well, the next step is to deploy it in a production environment. This may involve integrating it with existing systems or building a custom application to provide access to the model.\n",
    "<br/>\n",
    "\n",
    "- **Model Maintenance and Monitoring:** After the model has been deployed, it is important to monitor its performance and ensure that it continues to provide accurate results. This involves tasks such as updating the model as new data becomes available, retraining the model periodically, and monitoring for drift or changes in the data distribution.\n",
    "<br/>\n",
    "\n"
   ]
  },
  {
   "cell_type": "code",
   "execution_count": null,
   "id": "c9f6d895",
   "metadata": {},
   "outputs": [],
   "source": []
  },
  {
   "cell_type": "code",
   "execution_count": null,
   "id": "e296824f",
   "metadata": {},
   "outputs": [],
   "source": []
  },
  {
   "cell_type": "markdown",
   "id": "4645e5c4",
   "metadata": {},
   "source": [
    "## Problem Statement\n",
    "\n",
    "<img src=\"images/problem.webp\">\n",
    "\n",
    "<h6>The purpose of this project is to provide a comprehensive analysis of the laptop market and forecast future prices based on historical trends and market dynamics. The project aims to inform decision making for industry participants and consumers alike and provide valuable insights into the laptop market.\n",
    "\n",
    "<br/>\n",
    "<br/>\n",
    "\n",
    "    \n",
    "The laptop market is constantly changing, with new models being introduced, technology advancements, and fluctuations in consumer demand. The challenge is to accurately predict future prices based on the vast amount of data available and changing market conditions.</h6>"
   ]
  },
  {
   "cell_type": "code",
   "execution_count": null,
   "id": "991c3a5c",
   "metadata": {},
   "outputs": [],
   "source": []
  },
  {
   "cell_type": "code",
   "execution_count": null,
   "id": "d68e72f5",
   "metadata": {},
   "outputs": [],
   "source": []
  },
  {
   "cell_type": "code",
   "execution_count": null,
   "id": "ac60a175",
   "metadata": {},
   "outputs": [],
   "source": []
  },
  {
   "cell_type": "markdown",
   "id": "5bf17fca",
   "metadata": {},
   "source": [
    "## Data Collection / Data Acquisition\n",
    "\n",
    "<br/>\n",
    "<img src=\"images/data_collection.jpg\" height=400px width=400px>\n",
    "<br/>\n",
    "\n",
    "Here you can download the [dataset-kaggle](https://www.kaggle.com/datasets/ehtishamsadiq/uncleaned-laptop-price-dataset)"
   ]
  },
  {
   "cell_type": "code",
   "execution_count": 320,
   "id": "7a4e60aa",
   "metadata": {},
   "outputs": [],
   "source": [
    "# import all necessary libraries\n",
    "import pandas as pd\n",
    "import numpy as np\n",
    "import matplotlib.pyplot as plt\n",
    "import seaborn as sns\n",
    "from sklearn.model_selection import train_test_split\n",
    "from sklearn.linear_model import LinearRegression, Lasso, Ridge\n",
    "import warnings\n",
    "warnings.filterwarnings('ignore')\n",
    "import re"
   ]
  },
  {
   "cell_type": "code",
   "execution_count": null,
   "id": "b1d19400",
   "metadata": {},
   "outputs": [],
   "source": []
  },
  {
   "cell_type": "code",
   "execution_count": 321,
   "id": "a9626fd1",
   "metadata": {},
   "outputs": [],
   "source": [
    "# After downloading dataset, to load dataset we use `pd.read_csv` function\n",
    "df = pd.read_csv('datasets/laptopData.csv')"
   ]
  },
  {
   "cell_type": "code",
   "execution_count": null,
   "id": "51b97386",
   "metadata": {},
   "outputs": [],
   "source": []
  },
  {
   "cell_type": "code",
   "execution_count": null,
   "id": "20798774",
   "metadata": {},
   "outputs": [],
   "source": []
  },
  {
   "cell_type": "markdown",
   "id": "1643fc26",
   "metadata": {},
   "source": [
    "## Basic Understanding of Data\n",
    "\n",
    "- View first/last five rows\n",
    "- Dimension of data\n",
    "- Data types of each column\n",
    "- Descriptive View of data\n",
    "- Check missing values\n",
    "- Check duplicate values"
   ]
  },
  {
   "cell_type": "code",
   "execution_count": 322,
   "id": "d130bd2b",
   "metadata": {},
   "outputs": [
    {
     "data": {
      "text/html": [
       "<div>\n",
       "<style scoped>\n",
       "    .dataframe tbody tr th:only-of-type {\n",
       "        vertical-align: middle;\n",
       "    }\n",
       "\n",
       "    .dataframe tbody tr th {\n",
       "        vertical-align: top;\n",
       "    }\n",
       "\n",
       "    .dataframe thead th {\n",
       "        text-align: right;\n",
       "    }\n",
       "</style>\n",
       "<table border=\"1\" class=\"dataframe\">\n",
       "  <thead>\n",
       "    <tr style=\"text-align: right;\">\n",
       "      <th></th>\n",
       "      <th>Unnamed: 0</th>\n",
       "      <th>Company</th>\n",
       "      <th>TypeName</th>\n",
       "      <th>Inches</th>\n",
       "      <th>ScreenResolution</th>\n",
       "      <th>Cpu</th>\n",
       "      <th>Ram</th>\n",
       "      <th>Memory</th>\n",
       "      <th>Gpu</th>\n",
       "      <th>OpSys</th>\n",
       "      <th>Weight</th>\n",
       "      <th>Price</th>\n",
       "    </tr>\n",
       "  </thead>\n",
       "  <tbody>\n",
       "    <tr>\n",
       "      <th>0</th>\n",
       "      <td>0.0</td>\n",
       "      <td>Apple</td>\n",
       "      <td>Ultrabook</td>\n",
       "      <td>13.3</td>\n",
       "      <td>IPS Panel Retina Display 2560x1600</td>\n",
       "      <td>Intel Core i5 2.3GHz</td>\n",
       "      <td>8GB</td>\n",
       "      <td>128GB SSD</td>\n",
       "      <td>Intel Iris Plus Graphics 640</td>\n",
       "      <td>macOS</td>\n",
       "      <td>1.37kg</td>\n",
       "      <td>71378.6832</td>\n",
       "    </tr>\n",
       "    <tr>\n",
       "      <th>1</th>\n",
       "      <td>1.0</td>\n",
       "      <td>Apple</td>\n",
       "      <td>Ultrabook</td>\n",
       "      <td>13.3</td>\n",
       "      <td>1440x900</td>\n",
       "      <td>Intel Core i5 1.8GHz</td>\n",
       "      <td>8GB</td>\n",
       "      <td>128GB Flash Storage</td>\n",
       "      <td>Intel HD Graphics 6000</td>\n",
       "      <td>macOS</td>\n",
       "      <td>1.34kg</td>\n",
       "      <td>47895.5232</td>\n",
       "    </tr>\n",
       "    <tr>\n",
       "      <th>2</th>\n",
       "      <td>2.0</td>\n",
       "      <td>HP</td>\n",
       "      <td>Notebook</td>\n",
       "      <td>15.6</td>\n",
       "      <td>Full HD 1920x1080</td>\n",
       "      <td>Intel Core i5 7200U 2.5GHz</td>\n",
       "      <td>8GB</td>\n",
       "      <td>256GB SSD</td>\n",
       "      <td>Intel HD Graphics 620</td>\n",
       "      <td>No OS</td>\n",
       "      <td>1.86kg</td>\n",
       "      <td>30636.0000</td>\n",
       "    </tr>\n",
       "  </tbody>\n",
       "</table>\n",
       "</div>"
      ],
      "text/plain": [
       "   Unnamed: 0 Company   TypeName Inches                    ScreenResolution  \\\n",
       "0         0.0   Apple  Ultrabook   13.3  IPS Panel Retina Display 2560x1600   \n",
       "1         1.0   Apple  Ultrabook   13.3                            1440x900   \n",
       "2         2.0      HP   Notebook   15.6                   Full HD 1920x1080   \n",
       "\n",
       "                          Cpu  Ram               Memory  \\\n",
       "0        Intel Core i5 2.3GHz  8GB            128GB SSD   \n",
       "1        Intel Core i5 1.8GHz  8GB  128GB Flash Storage   \n",
       "2  Intel Core i5 7200U 2.5GHz  8GB            256GB SSD   \n",
       "\n",
       "                            Gpu  OpSys  Weight       Price  \n",
       "0  Intel Iris Plus Graphics 640  macOS  1.37kg  71378.6832  \n",
       "1        Intel HD Graphics 6000  macOS  1.34kg  47895.5232  \n",
       "2         Intel HD Graphics 620  No OS  1.86kg  30636.0000  "
      ]
     },
     "execution_count": 322,
     "metadata": {},
     "output_type": "execute_result"
    }
   ],
   "source": [
    "# View first records\n",
    "df.head(3)"
   ]
  },
  {
   "cell_type": "code",
   "execution_count": 323,
   "id": "d584f7f3",
   "metadata": {},
   "outputs": [
    {
     "data": {
      "text/html": [
       "<div>\n",
       "<style scoped>\n",
       "    .dataframe tbody tr th:only-of-type {\n",
       "        vertical-align: middle;\n",
       "    }\n",
       "\n",
       "    .dataframe tbody tr th {\n",
       "        vertical-align: top;\n",
       "    }\n",
       "\n",
       "    .dataframe thead th {\n",
       "        text-align: right;\n",
       "    }\n",
       "</style>\n",
       "<table border=\"1\" class=\"dataframe\">\n",
       "  <thead>\n",
       "    <tr style=\"text-align: right;\">\n",
       "      <th></th>\n",
       "      <th>Unnamed: 0</th>\n",
       "      <th>Company</th>\n",
       "      <th>TypeName</th>\n",
       "      <th>Inches</th>\n",
       "      <th>ScreenResolution</th>\n",
       "      <th>Cpu</th>\n",
       "      <th>Ram</th>\n",
       "      <th>Memory</th>\n",
       "      <th>Gpu</th>\n",
       "      <th>OpSys</th>\n",
       "      <th>Weight</th>\n",
       "      <th>Price</th>\n",
       "    </tr>\n",
       "  </thead>\n",
       "  <tbody>\n",
       "    <tr>\n",
       "      <th>1300</th>\n",
       "      <td>1300.0</td>\n",
       "      <td>Lenovo</td>\n",
       "      <td>Notebook</td>\n",
       "      <td>14</td>\n",
       "      <td>1366x768</td>\n",
       "      <td>Intel Celeron Dual Core N3050 1.6GHz</td>\n",
       "      <td>2GB</td>\n",
       "      <td>64GB Flash Storage</td>\n",
       "      <td>Intel HD Graphics</td>\n",
       "      <td>Windows 10</td>\n",
       "      <td>1.5kg</td>\n",
       "      <td>12201.12</td>\n",
       "    </tr>\n",
       "    <tr>\n",
       "      <th>1301</th>\n",
       "      <td>1301.0</td>\n",
       "      <td>HP</td>\n",
       "      <td>Notebook</td>\n",
       "      <td>15.6</td>\n",
       "      <td>1366x768</td>\n",
       "      <td>Intel Core i7 6500U 2.5GHz</td>\n",
       "      <td>6GB</td>\n",
       "      <td>1TB HDD</td>\n",
       "      <td>AMD Radeon R5 M330</td>\n",
       "      <td>Windows 10</td>\n",
       "      <td>2.19kg</td>\n",
       "      <td>40705.92</td>\n",
       "    </tr>\n",
       "    <tr>\n",
       "      <th>1302</th>\n",
       "      <td>1302.0</td>\n",
       "      <td>Asus</td>\n",
       "      <td>Notebook</td>\n",
       "      <td>15.6</td>\n",
       "      <td>1366x768</td>\n",
       "      <td>Intel Celeron Dual Core N3050 1.6GHz</td>\n",
       "      <td>4GB</td>\n",
       "      <td>500GB HDD</td>\n",
       "      <td>Intel HD Graphics</td>\n",
       "      <td>Windows 10</td>\n",
       "      <td>2.2kg</td>\n",
       "      <td>19660.32</td>\n",
       "    </tr>\n",
       "  </tbody>\n",
       "</table>\n",
       "</div>"
      ],
      "text/plain": [
       "      Unnamed: 0 Company  TypeName Inches ScreenResolution  \\\n",
       "1300      1300.0  Lenovo  Notebook     14         1366x768   \n",
       "1301      1301.0      HP  Notebook   15.6         1366x768   \n",
       "1302      1302.0    Asus  Notebook   15.6         1366x768   \n",
       "\n",
       "                                       Cpu  Ram              Memory  \\\n",
       "1300  Intel Celeron Dual Core N3050 1.6GHz  2GB  64GB Flash Storage   \n",
       "1301            Intel Core i7 6500U 2.5GHz  6GB             1TB HDD   \n",
       "1302  Intel Celeron Dual Core N3050 1.6GHz  4GB           500GB HDD   \n",
       "\n",
       "                     Gpu       OpSys  Weight     Price  \n",
       "1300   Intel HD Graphics  Windows 10   1.5kg  12201.12  \n",
       "1301  AMD Radeon R5 M330  Windows 10  2.19kg  40705.92  \n",
       "1302   Intel HD Graphics  Windows 10   2.2kg  19660.32  "
      ]
     },
     "execution_count": 323,
     "metadata": {},
     "output_type": "execute_result"
    }
   ],
   "source": [
    "# View last records\n",
    "df.tail(3)"
   ]
  },
  {
   "cell_type": "code",
   "execution_count": 324,
   "id": "46b72074",
   "metadata": {},
   "outputs": [
    {
     "data": {
      "text/plain": [
       "(1303, 12)"
      ]
     },
     "execution_count": 324,
     "metadata": {},
     "output_type": "execute_result"
    }
   ],
   "source": [
    "# Dimension of Data\n",
    "df.shape"
   ]
  },
  {
   "cell_type": "code",
   "execution_count": null,
   "id": "e895ccc3",
   "metadata": {},
   "outputs": [],
   "source": []
  },
  {
   "cell_type": "code",
   "execution_count": 325,
   "id": "673f2256",
   "metadata": {},
   "outputs": [
    {
     "data": {
      "text/plain": [
       "Unnamed: 0          30\n",
       "Company             30\n",
       "TypeName            30\n",
       "Inches              30\n",
       "ScreenResolution    30\n",
       "Cpu                 30\n",
       "Ram                 30\n",
       "Memory              30\n",
       "Gpu                 30\n",
       "OpSys               30\n",
       "Weight              30\n",
       "Price               30\n",
       "dtype: int64"
      ]
     },
     "execution_count": 325,
     "metadata": {},
     "output_type": "execute_result"
    }
   ],
   "source": [
    "# Check missing values\n",
    "df.isna().sum()"
   ]
  },
  {
   "cell_type": "markdown",
   "id": "bf92fca7",
   "metadata": {},
   "source": [
    "> **Observation:** All columns have some percentage of missing values."
   ]
  },
  {
   "cell_type": "code",
   "execution_count": null,
   "id": "8bfd1d3e",
   "metadata": {},
   "outputs": [],
   "source": []
  },
  {
   "cell_type": "code",
   "execution_count": 95,
   "id": "1147ce4e",
   "metadata": {},
   "outputs": [
    {
     "data": {
      "text/plain": [
       "Unnamed: 0          float64\n",
       "Company              object\n",
       "TypeName             object\n",
       "Inches               object\n",
       "ScreenResolution     object\n",
       "Cpu                  object\n",
       "Ram                  object\n",
       "Memory               object\n",
       "Gpu                  object\n",
       "OpSys                object\n",
       "Weight               object\n",
       "Price               float64\n",
       "dtype: object"
      ]
     },
     "execution_count": 95,
     "metadata": {},
     "output_type": "execute_result"
    }
   ],
   "source": [
    "# Data-types of each column\n",
    "df.dtypes"
   ]
  },
  {
   "cell_type": "markdown",
   "id": "cc6c0b0c",
   "metadata": {},
   "source": [
    "> **Observation:** Some columns like `Inches`, `Ram` and `Weight` have `Object` data-type, we need to modify the data types of these columns.\n"
   ]
  },
  {
   "cell_type": "code",
   "execution_count": 96,
   "id": "a40979cd",
   "metadata": {},
   "outputs": [
    {
     "data": {
      "text/html": [
       "<div>\n",
       "<style scoped>\n",
       "    .dataframe tbody tr th:only-of-type {\n",
       "        vertical-align: middle;\n",
       "    }\n",
       "\n",
       "    .dataframe tbody tr th {\n",
       "        vertical-align: top;\n",
       "    }\n",
       "\n",
       "    .dataframe thead th {\n",
       "        text-align: right;\n",
       "    }\n",
       "</style>\n",
       "<table border=\"1\" class=\"dataframe\">\n",
       "  <thead>\n",
       "    <tr style=\"text-align: right;\">\n",
       "      <th></th>\n",
       "      <th>Unnamed: 0</th>\n",
       "      <th>Price</th>\n",
       "    </tr>\n",
       "  </thead>\n",
       "  <tbody>\n",
       "    <tr>\n",
       "      <th>count</th>\n",
       "      <td>1273.000000</td>\n",
       "      <td>1273.000000</td>\n",
       "    </tr>\n",
       "    <tr>\n",
       "      <th>mean</th>\n",
       "      <td>652.674784</td>\n",
       "      <td>59955.814073</td>\n",
       "    </tr>\n",
       "    <tr>\n",
       "      <th>std</th>\n",
       "      <td>376.493027</td>\n",
       "      <td>37332.251005</td>\n",
       "    </tr>\n",
       "    <tr>\n",
       "      <th>min</th>\n",
       "      <td>0.000000</td>\n",
       "      <td>9270.720000</td>\n",
       "    </tr>\n",
       "    <tr>\n",
       "      <th>25%</th>\n",
       "      <td>327.000000</td>\n",
       "      <td>31914.720000</td>\n",
       "    </tr>\n",
       "    <tr>\n",
       "      <th>50%</th>\n",
       "      <td>652.000000</td>\n",
       "      <td>52161.120000</td>\n",
       "    </tr>\n",
       "    <tr>\n",
       "      <th>75%</th>\n",
       "      <td>980.000000</td>\n",
       "      <td>79333.387200</td>\n",
       "    </tr>\n",
       "    <tr>\n",
       "      <th>max</th>\n",
       "      <td>1302.000000</td>\n",
       "      <td>324954.720000</td>\n",
       "    </tr>\n",
       "  </tbody>\n",
       "</table>\n",
       "</div>"
      ],
      "text/plain": [
       "        Unnamed: 0          Price\n",
       "count  1273.000000    1273.000000\n",
       "mean    652.674784   59955.814073\n",
       "std     376.493027   37332.251005\n",
       "min       0.000000    9270.720000\n",
       "25%     327.000000   31914.720000\n",
       "50%     652.000000   52161.120000\n",
       "75%     980.000000   79333.387200\n",
       "max    1302.000000  324954.720000"
      ]
     },
     "execution_count": 96,
     "metadata": {},
     "output_type": "execute_result"
    }
   ],
   "source": [
    "# Descriptive view of data\n",
    "df.describe()"
   ]
  },
  {
   "cell_type": "code",
   "execution_count": null,
   "id": "030502bb",
   "metadata": {},
   "outputs": [],
   "source": []
  },
  {
   "cell_type": "code",
   "execution_count": 97,
   "id": "4c187442",
   "metadata": {},
   "outputs": [
    {
     "data": {
      "text/plain": [
       "29"
      ]
     },
     "execution_count": 97,
     "metadata": {},
     "output_type": "execute_result"
    }
   ],
   "source": [
    "# Check Duplicate values\n",
    "df.duplicated().sum()"
   ]
  },
  {
   "cell_type": "code",
   "execution_count": null,
   "id": "a89cd1f1",
   "metadata": {},
   "outputs": [],
   "source": []
  },
  {
   "cell_type": "markdown",
   "id": "f8bcd1ec",
   "metadata": {},
   "source": [
    "## Data Preprocessing\n",
    "- Convert all columns into lowercase and replace spaces with `_`\n",
    "- Drop Un-necessary columns"
   ]
  },
  {
   "cell_type": "code",
   "execution_count": 326,
   "id": "2c637062",
   "metadata": {},
   "outputs": [],
   "source": [
    "# Convert all columns into lowercase and replace spaces with _\n",
    "df.columns = df.columns.str.lower().str.replace(\" \",\"_\")"
   ]
  },
  {
   "cell_type": "code",
   "execution_count": 327,
   "id": "8402e447",
   "metadata": {},
   "outputs": [
    {
     "data": {
      "text/plain": [
       "Index(['unnamed:_0', 'company', 'typename', 'inches', 'screenresolution',\n",
       "       'cpu', 'ram', 'memory', 'gpu', 'opsys', 'weight', 'price'],\n",
       "      dtype='object')"
      ]
     },
     "execution_count": 327,
     "metadata": {},
     "output_type": "execute_result"
    }
   ],
   "source": [
    "df.columns"
   ]
  },
  {
   "cell_type": "code",
   "execution_count": 328,
   "id": "73382d44",
   "metadata": {},
   "outputs": [],
   "source": [
    "# Drop Un-necessary columns\n",
    "df.drop('unnamed:_0', axis=1, inplace=True)"
   ]
  },
  {
   "cell_type": "code",
   "execution_count": 329,
   "id": "1e1c929a",
   "metadata": {},
   "outputs": [
    {
     "data": {
      "text/plain": [
       "Index(['company', 'typename', 'inches', 'screenresolution', 'cpu', 'ram',\n",
       "       'memory', 'gpu', 'opsys', 'weight', 'price'],\n",
       "      dtype='object')"
      ]
     },
     "execution_count": 329,
     "metadata": {},
     "output_type": "execute_result"
    }
   ],
   "source": [
    "df.columns"
   ]
  },
  {
   "cell_type": "code",
   "execution_count": null,
   "id": "12a609d0",
   "metadata": {},
   "outputs": [],
   "source": []
  },
  {
   "cell_type": "code",
   "execution_count": null,
   "id": "509c8aa9",
   "metadata": {},
   "outputs": [],
   "source": []
  },
  {
   "cell_type": "markdown",
   "id": "20088624",
   "metadata": {},
   "source": [
    "### Cleaning of `Ram` Column"
   ]
  },
  {
   "cell_type": "code",
   "execution_count": 330,
   "id": "c76a3068",
   "metadata": {},
   "outputs": [
    {
     "data": {
      "text/plain": [
       "array(['8GB', '16GB', '4GB', nan, '2GB', '12GB', '64GB', '6GB', '32GB',\n",
       "       '24GB', '1GB'], dtype=object)"
      ]
     },
     "execution_count": 330,
     "metadata": {},
     "output_type": "execute_result"
    }
   ],
   "source": [
    "# In this column we remove  characters from the value of the column\n",
    "# unique values in the ram column\n",
    "df.ram.unique()"
   ]
  },
  {
   "cell_type": "code",
   "execution_count": 331,
   "id": "cfc35d9c",
   "metadata": {},
   "outputs": [],
   "source": [
    "\n",
    "# \"8GB\".replace(\"GB\",\"\")\n",
    "\n",
    "df.ram =  df.ram.str.replace(\"GB\",\"\")"
   ]
  },
  {
   "cell_type": "code",
   "execution_count": 332,
   "id": "1d35bfa0",
   "metadata": {},
   "outputs": [
    {
     "data": {
      "text/html": [
       "<div>\n",
       "<style scoped>\n",
       "    .dataframe tbody tr th:only-of-type {\n",
       "        vertical-align: middle;\n",
       "    }\n",
       "\n",
       "    .dataframe tbody tr th {\n",
       "        vertical-align: top;\n",
       "    }\n",
       "\n",
       "    .dataframe thead th {\n",
       "        text-align: right;\n",
       "    }\n",
       "</style>\n",
       "<table border=\"1\" class=\"dataframe\">\n",
       "  <thead>\n",
       "    <tr style=\"text-align: right;\">\n",
       "      <th></th>\n",
       "      <th>company</th>\n",
       "      <th>typename</th>\n",
       "      <th>inches</th>\n",
       "      <th>screenresolution</th>\n",
       "      <th>cpu</th>\n",
       "      <th>ram</th>\n",
       "      <th>memory</th>\n",
       "      <th>gpu</th>\n",
       "      <th>opsys</th>\n",
       "      <th>weight</th>\n",
       "      <th>price</th>\n",
       "    </tr>\n",
       "  </thead>\n",
       "  <tbody>\n",
       "    <tr>\n",
       "      <th>0</th>\n",
       "      <td>Apple</td>\n",
       "      <td>Ultrabook</td>\n",
       "      <td>13.3</td>\n",
       "      <td>IPS Panel Retina Display 2560x1600</td>\n",
       "      <td>Intel Core i5 2.3GHz</td>\n",
       "      <td>8</td>\n",
       "      <td>128GB SSD</td>\n",
       "      <td>Intel Iris Plus Graphics 640</td>\n",
       "      <td>macOS</td>\n",
       "      <td>1.37kg</td>\n",
       "      <td>71378.6832</td>\n",
       "    </tr>\n",
       "    <tr>\n",
       "      <th>1</th>\n",
       "      <td>Apple</td>\n",
       "      <td>Ultrabook</td>\n",
       "      <td>13.3</td>\n",
       "      <td>1440x900</td>\n",
       "      <td>Intel Core i5 1.8GHz</td>\n",
       "      <td>8</td>\n",
       "      <td>128GB Flash Storage</td>\n",
       "      <td>Intel HD Graphics 6000</td>\n",
       "      <td>macOS</td>\n",
       "      <td>1.34kg</td>\n",
       "      <td>47895.5232</td>\n",
       "    </tr>\n",
       "  </tbody>\n",
       "</table>\n",
       "</div>"
      ],
      "text/plain": [
       "  company   typename inches                    screenresolution  \\\n",
       "0   Apple  Ultrabook   13.3  IPS Panel Retina Display 2560x1600   \n",
       "1   Apple  Ultrabook   13.3                            1440x900   \n",
       "\n",
       "                    cpu ram               memory  \\\n",
       "0  Intel Core i5 2.3GHz   8            128GB SSD   \n",
       "1  Intel Core i5 1.8GHz   8  128GB Flash Storage   \n",
       "\n",
       "                            gpu  opsys  weight       price  \n",
       "0  Intel Iris Plus Graphics 640  macOS  1.37kg  71378.6832  \n",
       "1        Intel HD Graphics 6000  macOS  1.34kg  47895.5232  "
      ]
     },
     "execution_count": 332,
     "metadata": {},
     "output_type": "execute_result"
    }
   ],
   "source": [
    "df.head(2)"
   ]
  },
  {
   "cell_type": "code",
   "execution_count": null,
   "id": "1e72a7ad",
   "metadata": {},
   "outputs": [],
   "source": []
  },
  {
   "cell_type": "markdown",
   "id": "9ddf83b0",
   "metadata": {},
   "source": [
    "### Cleaning of `Weight` Column"
   ]
  },
  {
   "cell_type": "code",
   "execution_count": 333,
   "id": "a3f46cc5",
   "metadata": {},
   "outputs": [],
   "source": [
    "# In this column we remove  characters like `kg` from the value of the column\n",
    "# df.weight.unique()"
   ]
  },
  {
   "cell_type": "code",
   "execution_count": 334,
   "id": "4e4e185c",
   "metadata": {},
   "outputs": [],
   "source": [
    "df.weight  =  df.weight.str.replace(\"kg\",\"\")"
   ]
  },
  {
   "cell_type": "code",
   "execution_count": 335,
   "id": "3d195892",
   "metadata": {},
   "outputs": [
    {
     "data": {
      "text/html": [
       "<div>\n",
       "<style scoped>\n",
       "    .dataframe tbody tr th:only-of-type {\n",
       "        vertical-align: middle;\n",
       "    }\n",
       "\n",
       "    .dataframe tbody tr th {\n",
       "        vertical-align: top;\n",
       "    }\n",
       "\n",
       "    .dataframe thead th {\n",
       "        text-align: right;\n",
       "    }\n",
       "</style>\n",
       "<table border=\"1\" class=\"dataframe\">\n",
       "  <thead>\n",
       "    <tr style=\"text-align: right;\">\n",
       "      <th></th>\n",
       "      <th>company</th>\n",
       "      <th>typename</th>\n",
       "      <th>inches</th>\n",
       "      <th>screenresolution</th>\n",
       "      <th>cpu</th>\n",
       "      <th>ram</th>\n",
       "      <th>memory</th>\n",
       "      <th>gpu</th>\n",
       "      <th>opsys</th>\n",
       "      <th>weight</th>\n",
       "      <th>price</th>\n",
       "    </tr>\n",
       "  </thead>\n",
       "  <tbody>\n",
       "    <tr>\n",
       "      <th>0</th>\n",
       "      <td>Apple</td>\n",
       "      <td>Ultrabook</td>\n",
       "      <td>13.3</td>\n",
       "      <td>IPS Panel Retina Display 2560x1600</td>\n",
       "      <td>Intel Core i5 2.3GHz</td>\n",
       "      <td>8</td>\n",
       "      <td>128GB SSD</td>\n",
       "      <td>Intel Iris Plus Graphics 640</td>\n",
       "      <td>macOS</td>\n",
       "      <td>1.37</td>\n",
       "      <td>71378.6832</td>\n",
       "    </tr>\n",
       "    <tr>\n",
       "      <th>1</th>\n",
       "      <td>Apple</td>\n",
       "      <td>Ultrabook</td>\n",
       "      <td>13.3</td>\n",
       "      <td>1440x900</td>\n",
       "      <td>Intel Core i5 1.8GHz</td>\n",
       "      <td>8</td>\n",
       "      <td>128GB Flash Storage</td>\n",
       "      <td>Intel HD Graphics 6000</td>\n",
       "      <td>macOS</td>\n",
       "      <td>1.34</td>\n",
       "      <td>47895.5232</td>\n",
       "    </tr>\n",
       "  </tbody>\n",
       "</table>\n",
       "</div>"
      ],
      "text/plain": [
       "  company   typename inches                    screenresolution  \\\n",
       "0   Apple  Ultrabook   13.3  IPS Panel Retina Display 2560x1600   \n",
       "1   Apple  Ultrabook   13.3                            1440x900   \n",
       "\n",
       "                    cpu ram               memory  \\\n",
       "0  Intel Core i5 2.3GHz   8            128GB SSD   \n",
       "1  Intel Core i5 1.8GHz   8  128GB Flash Storage   \n",
       "\n",
       "                            gpu  opsys weight       price  \n",
       "0  Intel Iris Plus Graphics 640  macOS   1.37  71378.6832  \n",
       "1        Intel HD Graphics 6000  macOS   1.34  47895.5232  "
      ]
     },
     "execution_count": 335,
     "metadata": {},
     "output_type": "execute_result"
    }
   ],
   "source": [
    "df.head(2)"
   ]
  },
  {
   "cell_type": "code",
   "execution_count": null,
   "id": "2754736a",
   "metadata": {},
   "outputs": [],
   "source": []
  },
  {
   "cell_type": "code",
   "execution_count": null,
   "id": "46b880a3",
   "metadata": {},
   "outputs": [],
   "source": []
  },
  {
   "cell_type": "markdown",
   "id": "e2685bc9",
   "metadata": {},
   "source": [
    "### Cleaning of `gpu` column"
   ]
  },
  {
   "cell_type": "code",
   "execution_count": 336,
   "id": "be541a0c",
   "metadata": {},
   "outputs": [
    {
     "data": {
      "text/plain": [
       "Intel HD Graphics 620      271\n",
       "Intel HD Graphics 520      181\n",
       "Intel UHD Graphics 620      66\n",
       "Nvidia GeForce GTX 1050     64\n",
       "Nvidia GeForce GTX 1060     48\n",
       "                          ... \n",
       "AMD Radeon R5 520            1\n",
       "AMD Radeon R7                1\n",
       "Intel HD Graphics 540        1\n",
       "AMD Radeon 540               1\n",
       "ARM Mali T860 MP4            1\n",
       "Name: gpu, Length: 110, dtype: int64"
      ]
     },
     "execution_count": 336,
     "metadata": {},
     "output_type": "execute_result"
    }
   ],
   "source": [
    "# gpu column contains many unique values\n",
    "df.gpu.value_counts()"
   ]
  },
  {
   "cell_type": "code",
   "execution_count": 337,
   "id": "60cef573",
   "metadata": {},
   "outputs": [
    {
     "data": {
      "text/plain": [
       "'Intel'"
      ]
     },
     "execution_count": 337,
     "metadata": {},
     "output_type": "execute_result"
    }
   ],
   "source": [
    "df.gpu[0].split()[0]"
   ]
  },
  {
   "cell_type": "code",
   "execution_count": 64,
   "id": "aa9c9747",
   "metadata": {},
   "outputs": [],
   "source": [
    "# Here we just fetch the brand of the gpu and contain a new column which \n",
    "# contains the information related to gpu brand\n",
    "\n",
    "\n",
    "\n",
    "# But, when we run this code, it will raise an error because our column\n",
    "# also contain some missing values\n",
    "df.gpu.apply(lambda x :x.split()[0])"
   ]
  },
  {
   "cell_type": "code",
   "execution_count": 338,
   "id": "e0ce4725",
   "metadata": {},
   "outputs": [],
   "source": [
    "# To handle this error, we need to create a function \n",
    "\n",
    "def gpu_modification(value):\n",
    "    if type(value) == str:\n",
    "        return value.split()[0]\n",
    "    else:\n",
    "        return value        "
   ]
  },
  {
   "cell_type": "code",
   "execution_count": 339,
   "id": "58a4b1f2",
   "metadata": {},
   "outputs": [],
   "source": [
    "df['gpu_brand'] =  df.gpu.apply(gpu_modification)"
   ]
  },
  {
   "cell_type": "code",
   "execution_count": 341,
   "id": "6cb81d12",
   "metadata": {},
   "outputs": [
    {
     "data": {
      "text/plain": [
       "Intel     703\n",
       "Nvidia    393\n",
       "AMD       176\n",
       "ARM         1\n",
       "Name: gpu_brand, dtype: int64"
      ]
     },
     "execution_count": 341,
     "metadata": {},
     "output_type": "execute_result"
    }
   ],
   "source": [
    "# unique values in gpu_brand column\n",
    "df.gpu_brand.value_counts()"
   ]
  },
  {
   "cell_type": "code",
   "execution_count": 342,
   "id": "98913433",
   "metadata": {},
   "outputs": [],
   "source": [
    "# we delete a row which contain `ARM` value because of imbalance data\n",
    "df = df[df.gpu_brand != 'ARM' ]"
   ]
  },
  {
   "cell_type": "code",
   "execution_count": 343,
   "id": "0b3826a1",
   "metadata": {},
   "outputs": [
    {
     "data": {
      "text/plain": [
       "Intel     703\n",
       "Nvidia    393\n",
       "AMD       176\n",
       "Name: gpu_brand, dtype: int64"
      ]
     },
     "execution_count": 343,
     "metadata": {},
     "output_type": "execute_result"
    }
   ],
   "source": [
    "# unique values in gpu_brand column\n",
    "df.gpu_brand.value_counts()"
   ]
  },
  {
   "cell_type": "code",
   "execution_count": 344,
   "id": "65521b3e",
   "metadata": {},
   "outputs": [],
   "source": [
    "# now, delete `gpu` column from the dataframe\n",
    "df.drop('gpu', axis=1, inplace=True)"
   ]
  },
  {
   "cell_type": "code",
   "execution_count": 345,
   "id": "edd177c8",
   "metadata": {},
   "outputs": [
    {
     "data": {
      "text/html": [
       "<div>\n",
       "<style scoped>\n",
       "    .dataframe tbody tr th:only-of-type {\n",
       "        vertical-align: middle;\n",
       "    }\n",
       "\n",
       "    .dataframe tbody tr th {\n",
       "        vertical-align: top;\n",
       "    }\n",
       "\n",
       "    .dataframe thead th {\n",
       "        text-align: right;\n",
       "    }\n",
       "</style>\n",
       "<table border=\"1\" class=\"dataframe\">\n",
       "  <thead>\n",
       "    <tr style=\"text-align: right;\">\n",
       "      <th></th>\n",
       "      <th>company</th>\n",
       "      <th>typename</th>\n",
       "      <th>inches</th>\n",
       "      <th>screenresolution</th>\n",
       "      <th>cpu</th>\n",
       "      <th>ram</th>\n",
       "      <th>memory</th>\n",
       "      <th>opsys</th>\n",
       "      <th>weight</th>\n",
       "      <th>price</th>\n",
       "      <th>gpu_brand</th>\n",
       "    </tr>\n",
       "  </thead>\n",
       "  <tbody>\n",
       "    <tr>\n",
       "      <th>0</th>\n",
       "      <td>Apple</td>\n",
       "      <td>Ultrabook</td>\n",
       "      <td>13.3</td>\n",
       "      <td>IPS Panel Retina Display 2560x1600</td>\n",
       "      <td>Intel Core i5 2.3GHz</td>\n",
       "      <td>8</td>\n",
       "      <td>128GB SSD</td>\n",
       "      <td>macOS</td>\n",
       "      <td>1.37</td>\n",
       "      <td>71378.6832</td>\n",
       "      <td>Intel</td>\n",
       "    </tr>\n",
       "    <tr>\n",
       "      <th>1</th>\n",
       "      <td>Apple</td>\n",
       "      <td>Ultrabook</td>\n",
       "      <td>13.3</td>\n",
       "      <td>1440x900</td>\n",
       "      <td>Intel Core i5 1.8GHz</td>\n",
       "      <td>8</td>\n",
       "      <td>128GB Flash Storage</td>\n",
       "      <td>macOS</td>\n",
       "      <td>1.34</td>\n",
       "      <td>47895.5232</td>\n",
       "      <td>Intel</td>\n",
       "    </tr>\n",
       "  </tbody>\n",
       "</table>\n",
       "</div>"
      ],
      "text/plain": [
       "  company   typename inches                    screenresolution  \\\n",
       "0   Apple  Ultrabook   13.3  IPS Panel Retina Display 2560x1600   \n",
       "1   Apple  Ultrabook   13.3                            1440x900   \n",
       "\n",
       "                    cpu ram               memory  opsys weight       price  \\\n",
       "0  Intel Core i5 2.3GHz   8            128GB SSD  macOS   1.37  71378.6832   \n",
       "1  Intel Core i5 1.8GHz   8  128GB Flash Storage  macOS   1.34  47895.5232   \n",
       "\n",
       "  gpu_brand  \n",
       "0     Intel  \n",
       "1     Intel  "
      ]
     },
     "execution_count": 345,
     "metadata": {},
     "output_type": "execute_result"
    }
   ],
   "source": [
    "df.head(2)"
   ]
  },
  {
   "cell_type": "code",
   "execution_count": null,
   "id": "8c4b9406",
   "metadata": {},
   "outputs": [],
   "source": []
  },
  {
   "cell_type": "code",
   "execution_count": null,
   "id": "a33a3773",
   "metadata": {},
   "outputs": [],
   "source": []
  },
  {
   "cell_type": "markdown",
   "id": "ad372cd4",
   "metadata": {},
   "source": [
    "### Cleaning of `opsys` column"
   ]
  },
  {
   "cell_type": "code",
   "execution_count": 346,
   "id": "42e2b3a8",
   "metadata": {},
   "outputs": [
    {
     "data": {
      "text/plain": [
       "Windows 10      1047\n",
       "No OS             63\n",
       "Linux             61\n",
       "Windows 7         45\n",
       "Chrome OS         26\n",
       "macOS             13\n",
       "Mac OS X           8\n",
       "Windows 10 S       8\n",
       "Android            1\n",
       "Name: opsys, dtype: int64"
      ]
     },
     "execution_count": 346,
     "metadata": {},
     "output_type": "execute_result"
    }
   ],
   "source": [
    "df.opsys.value_counts()"
   ]
  },
  {
   "cell_type": "code",
   "execution_count": 347,
   "id": "50548313",
   "metadata": {},
   "outputs": [],
   "source": [
    "def os_types(value):\n",
    "    if value =='Windows 10' or value == 'Windows 7' or value == 'Windows 10 s':\n",
    "        return 'Windows'\n",
    "    elif value == 'macOS' or value =='Mac OS X':\n",
    "        return 'Mac'\n",
    "    elif type(value) ==float:\n",
    "        return value\n",
    "    else:\n",
    "        return 'Others/No OS/ Linux'"
   ]
  },
  {
   "cell_type": "code",
   "execution_count": 348,
   "id": "8051a2ff",
   "metadata": {},
   "outputs": [],
   "source": [
    "df['os'] =  df.opsys.apply(os_types)"
   ]
  },
  {
   "cell_type": "code",
   "execution_count": 349,
   "id": "8c0fa118",
   "metadata": {},
   "outputs": [
    {
     "data": {
      "text/plain": [
       "Windows                1092\n",
       "Others/No OS/ Linux     159\n",
       "Mac                      21\n",
       "Name: os, dtype: int64"
      ]
     },
     "execution_count": 349,
     "metadata": {},
     "output_type": "execute_result"
    }
   ],
   "source": [
    "df.os.value_counts()"
   ]
  },
  {
   "cell_type": "code",
   "execution_count": 350,
   "id": "8ef384f3",
   "metadata": {},
   "outputs": [],
   "source": [
    "# now, delete `opsys` column from the dataframe\n",
    "df.drop('opsys', axis=1, inplace=True)"
   ]
  },
  {
   "cell_type": "code",
   "execution_count": null,
   "id": "7e9c13e3",
   "metadata": {},
   "outputs": [],
   "source": []
  },
  {
   "cell_type": "code",
   "execution_count": null,
   "id": "701d0c6c",
   "metadata": {},
   "outputs": [],
   "source": []
  },
  {
   "cell_type": "markdown",
   "id": "41cf0cab",
   "metadata": {},
   "source": [
    "### Cleaning of `cpu` column"
   ]
  },
  {
   "cell_type": "code",
   "execution_count": 351,
   "id": "c072e2e2",
   "metadata": {},
   "outputs": [
    {
     "data": {
      "text/plain": [
       "Intel Core i5 7200U 2.5GHz     183\n",
       "Intel Core i7 7700HQ 2.8GHz    142\n",
       "Intel Core i7 7500U 2.7GHz     128\n",
       "Intel Core i7 8550U 1.8GHz      72\n",
       "Intel Core i5 8250U 1.6GHz      68\n",
       "                              ... \n",
       "Intel Core M M3-6Y30 0.9GHz      1\n",
       "AMD A9-Series 9420 2.9GHz        1\n",
       "Intel Core i7 2.2GHz             1\n",
       "AMD A6-Series 7310 2GHz          1\n",
       "AMD E-Series 9000e 1.5GHz        1\n",
       "Name: cpu, Length: 117, dtype: int64"
      ]
     },
     "execution_count": 351,
     "metadata": {},
     "output_type": "execute_result"
    }
   ],
   "source": [
    "# unique values in `cpu` column\n",
    "df.cpu.value_counts()"
   ]
  },
  {
   "cell_type": "code",
   "execution_count": 352,
   "id": "9a4e5bf2",
   "metadata": {},
   "outputs": [],
   "source": [
    "# \" \".join(df.cpu[0].split(\" \")[:3])"
   ]
  },
  {
   "cell_type": "code",
   "execution_count": 353,
   "id": "d2cc84d9",
   "metadata": {},
   "outputs": [],
   "source": [
    "# Here we create a function to fetch name of the cpu\n",
    "def cpu_name(value):\n",
    "    if type(value) == float:\n",
    "        return value\n",
    "    else:\n",
    "        return \" \".join(value.split(\" \")[:3])"
   ]
  },
  {
   "cell_type": "code",
   "execution_count": 354,
   "id": "839b0633",
   "metadata": {},
   "outputs": [],
   "source": [
    "df['cpu_name'] =  df.cpu.apply(cpu_name)"
   ]
  },
  {
   "cell_type": "code",
   "execution_count": 355,
   "id": "c3ea67ec",
   "metadata": {},
   "outputs": [
    {
     "data": {
      "text/plain": [
       "Intel Core i7               515\n",
       "Intel Core i5               410\n",
       "Intel Core i3               134\n",
       "Intel Celeron Dual           79\n",
       "Intel Pentium Quad           27\n",
       "Intel Core M                 19\n",
       "AMD A9-Series 9420           12\n",
       "Intel Celeron Quad            8\n",
       "AMD A6-Series 9220            8\n",
       "AMD A12-Series 9720P          7\n",
       "Intel Atom x5-Z8350           4\n",
       "AMD A8-Series 7410            4\n",
       "AMD A9-Series 9410            3\n",
       "Intel Atom x5-Z8550           3\n",
       "Intel Pentium Dual            3\n",
       "AMD Ryzen 1700                3\n",
       "AMD E-Series E2-9000e         2\n",
       "Intel Atom X5-Z8350           2\n",
       "Intel Xeon E3-1535M           2\n",
       "AMD A9-Series A9-9420         2\n",
       "AMD A10-Series 9620P          2\n",
       "AMD E-Series 7110             2\n",
       "Intel Xeon E3-1505M           2\n",
       "AMD A10-Series 9600P          2\n",
       "AMD A6-Series A6-9220         2\n",
       "AMD A10-Series A10-9620P      2\n",
       "AMD Ryzen 1600                1\n",
       "AMD A12-Series 9700P          1\n",
       "AMD E-Series 9000             1\n",
       "AMD E-Series 9000e            1\n",
       "AMD FX 8800P                  1\n",
       "AMD A4-Series 7210            1\n",
       "Intel Atom Z8350              1\n",
       "Intel Atom x5-Z8300           1\n",
       "AMD A6-Series 7310            1\n",
       "AMD E-Series E2-9000          1\n",
       "AMD E-Series 6110             1\n",
       "AMD E-Series E2-6110          1\n",
       "AMD FX 9830P                  1\n",
       "Name: cpu_name, dtype: int64"
      ]
     },
     "execution_count": 355,
     "metadata": {},
     "output_type": "execute_result"
    }
   ],
   "source": [
    "df.cpu_name.value_counts()"
   ]
  },
  {
   "cell_type": "code",
   "execution_count": 356,
   "id": "e975a0d6",
   "metadata": {},
   "outputs": [],
   "source": [
    "def fetch_processor(value):\n",
    "    if value == 'Intel Core i7' or value == 'Intel Core i5' or value == 'Intel Core i3':\n",
    "        return value\n",
    "    elif type(value) == float:\n",
    "        return value\n",
    "    else:\n",
    "        if value.split()[0] == 'Intel':\n",
    "            return 'Other Intel Processor'\n",
    "        else:\n",
    "            return 'AMD Processor'"
   ]
  },
  {
   "cell_type": "code",
   "execution_count": 357,
   "id": "49177b2a",
   "metadata": {},
   "outputs": [],
   "source": [
    "df['cpu_brand'] = df.cpu_name.apply(fetch_processor)"
   ]
  },
  {
   "cell_type": "code",
   "execution_count": 358,
   "id": "08064368",
   "metadata": {},
   "outputs": [
    {
     "data": {
      "text/plain": [
       "Intel Core i7            515\n",
       "Intel Core i5            410\n",
       "Other Intel Processor    151\n",
       "Intel Core i3            134\n",
       "AMD Processor             62\n",
       "Name: cpu_brand, dtype: int64"
      ]
     },
     "execution_count": 358,
     "metadata": {},
     "output_type": "execute_result"
    }
   ],
   "source": [
    "df.cpu_brand.value_counts()"
   ]
  },
  {
   "cell_type": "code",
   "execution_count": 359,
   "id": "8c1c9332",
   "metadata": {},
   "outputs": [
    {
     "data": {
      "text/html": [
       "<div>\n",
       "<style scoped>\n",
       "    .dataframe tbody tr th:only-of-type {\n",
       "        vertical-align: middle;\n",
       "    }\n",
       "\n",
       "    .dataframe tbody tr th {\n",
       "        vertical-align: top;\n",
       "    }\n",
       "\n",
       "    .dataframe thead th {\n",
       "        text-align: right;\n",
       "    }\n",
       "</style>\n",
       "<table border=\"1\" class=\"dataframe\">\n",
       "  <thead>\n",
       "    <tr style=\"text-align: right;\">\n",
       "      <th></th>\n",
       "      <th>company</th>\n",
       "      <th>typename</th>\n",
       "      <th>inches</th>\n",
       "      <th>screenresolution</th>\n",
       "      <th>cpu</th>\n",
       "      <th>ram</th>\n",
       "      <th>memory</th>\n",
       "      <th>weight</th>\n",
       "      <th>price</th>\n",
       "      <th>gpu_brand</th>\n",
       "      <th>os</th>\n",
       "      <th>cpu_name</th>\n",
       "      <th>cpu_brand</th>\n",
       "    </tr>\n",
       "  </thead>\n",
       "  <tbody>\n",
       "    <tr>\n",
       "      <th>0</th>\n",
       "      <td>Apple</td>\n",
       "      <td>Ultrabook</td>\n",
       "      <td>13.3</td>\n",
       "      <td>IPS Panel Retina Display 2560x1600</td>\n",
       "      <td>Intel Core i5 2.3GHz</td>\n",
       "      <td>8</td>\n",
       "      <td>128GB SSD</td>\n",
       "      <td>1.37</td>\n",
       "      <td>71378.6832</td>\n",
       "      <td>Intel</td>\n",
       "      <td>Mac</td>\n",
       "      <td>Intel Core i5</td>\n",
       "      <td>Intel Core i5</td>\n",
       "    </tr>\n",
       "    <tr>\n",
       "      <th>1</th>\n",
       "      <td>Apple</td>\n",
       "      <td>Ultrabook</td>\n",
       "      <td>13.3</td>\n",
       "      <td>1440x900</td>\n",
       "      <td>Intel Core i5 1.8GHz</td>\n",
       "      <td>8</td>\n",
       "      <td>128GB Flash Storage</td>\n",
       "      <td>1.34</td>\n",
       "      <td>47895.5232</td>\n",
       "      <td>Intel</td>\n",
       "      <td>Mac</td>\n",
       "      <td>Intel Core i5</td>\n",
       "      <td>Intel Core i5</td>\n",
       "    </tr>\n",
       "  </tbody>\n",
       "</table>\n",
       "</div>"
      ],
      "text/plain": [
       "  company   typename inches                    screenresolution  \\\n",
       "0   Apple  Ultrabook   13.3  IPS Panel Retina Display 2560x1600   \n",
       "1   Apple  Ultrabook   13.3                            1440x900   \n",
       "\n",
       "                    cpu ram               memory weight       price gpu_brand  \\\n",
       "0  Intel Core i5 2.3GHz   8            128GB SSD   1.37  71378.6832     Intel   \n",
       "1  Intel Core i5 1.8GHz   8  128GB Flash Storage   1.34  47895.5232     Intel   \n",
       "\n",
       "    os       cpu_name      cpu_brand  \n",
       "0  Mac  Intel Core i5  Intel Core i5  \n",
       "1  Mac  Intel Core i5  Intel Core i5  "
      ]
     },
     "execution_count": 359,
     "metadata": {},
     "output_type": "execute_result"
    }
   ],
   "source": [
    "df.head(2)"
   ]
  },
  {
   "cell_type": "code",
   "execution_count": 361,
   "id": "7ea66b4e",
   "metadata": {},
   "outputs": [],
   "source": [
    "# now delete `cpu`, `cpu_name` column from the dataframe\n",
    "df.drop(['cpu','cpu_name'], axis=1, inplace=True)"
   ]
  },
  {
   "cell_type": "code",
   "execution_count": 362,
   "id": "f401ff36",
   "metadata": {},
   "outputs": [
    {
     "data": {
      "text/html": [
       "<div>\n",
       "<style scoped>\n",
       "    .dataframe tbody tr th:only-of-type {\n",
       "        vertical-align: middle;\n",
       "    }\n",
       "\n",
       "    .dataframe tbody tr th {\n",
       "        vertical-align: top;\n",
       "    }\n",
       "\n",
       "    .dataframe thead th {\n",
       "        text-align: right;\n",
       "    }\n",
       "</style>\n",
       "<table border=\"1\" class=\"dataframe\">\n",
       "  <thead>\n",
       "    <tr style=\"text-align: right;\">\n",
       "      <th></th>\n",
       "      <th>company</th>\n",
       "      <th>typename</th>\n",
       "      <th>inches</th>\n",
       "      <th>screenresolution</th>\n",
       "      <th>ram</th>\n",
       "      <th>memory</th>\n",
       "      <th>weight</th>\n",
       "      <th>price</th>\n",
       "      <th>gpu_brand</th>\n",
       "      <th>os</th>\n",
       "      <th>cpu_brand</th>\n",
       "    </tr>\n",
       "  </thead>\n",
       "  <tbody>\n",
       "    <tr>\n",
       "      <th>0</th>\n",
       "      <td>Apple</td>\n",
       "      <td>Ultrabook</td>\n",
       "      <td>13.3</td>\n",
       "      <td>IPS Panel Retina Display 2560x1600</td>\n",
       "      <td>8</td>\n",
       "      <td>128GB SSD</td>\n",
       "      <td>1.37</td>\n",
       "      <td>71378.6832</td>\n",
       "      <td>Intel</td>\n",
       "      <td>Mac</td>\n",
       "      <td>Intel Core i5</td>\n",
       "    </tr>\n",
       "    <tr>\n",
       "      <th>1</th>\n",
       "      <td>Apple</td>\n",
       "      <td>Ultrabook</td>\n",
       "      <td>13.3</td>\n",
       "      <td>1440x900</td>\n",
       "      <td>8</td>\n",
       "      <td>128GB Flash Storage</td>\n",
       "      <td>1.34</td>\n",
       "      <td>47895.5232</td>\n",
       "      <td>Intel</td>\n",
       "      <td>Mac</td>\n",
       "      <td>Intel Core i5</td>\n",
       "    </tr>\n",
       "  </tbody>\n",
       "</table>\n",
       "</div>"
      ],
      "text/plain": [
       "  company   typename inches                    screenresolution ram  \\\n",
       "0   Apple  Ultrabook   13.3  IPS Panel Retina Display 2560x1600   8   \n",
       "1   Apple  Ultrabook   13.3                            1440x900   8   \n",
       "\n",
       "                memory weight       price gpu_brand   os      cpu_brand  \n",
       "0            128GB SSD   1.37  71378.6832     Intel  Mac  Intel Core i5  \n",
       "1  128GB Flash Storage   1.34  47895.5232     Intel  Mac  Intel Core i5  "
      ]
     },
     "execution_count": 362,
     "metadata": {},
     "output_type": "execute_result"
    }
   ],
   "source": [
    "df.head(2)"
   ]
  },
  {
   "cell_type": "code",
   "execution_count": null,
   "id": "cfc71818",
   "metadata": {},
   "outputs": [],
   "source": []
  },
  {
   "cell_type": "markdown",
   "id": "a3bc22e6",
   "metadata": {},
   "source": [
    "### Cleaning of `Screen Resolution` Column"
   ]
  },
  {
   "cell_type": "code",
   "execution_count": 363,
   "id": "95ddba43",
   "metadata": {},
   "outputs": [
    {
     "data": {
      "text/plain": [
       "Full HD 1920x1080                                495\n",
       "1366x768                                         274\n",
       "IPS Panel Full HD 1920x1080                      226\n",
       "IPS Panel Full HD / Touchscreen 1920x1080         52\n",
       "Full HD / Touchscreen 1920x1080                   45\n",
       "1600x900                                          23\n",
       "Touchscreen 1366x768                              16\n",
       "Quad HD+ / Touchscreen 3200x1800                  14\n",
       "IPS Panel 4K Ultra HD 3840x2160                   12\n",
       "IPS Panel 4K Ultra HD / Touchscreen 3840x2160     11\n",
       "4K Ultra HD / Touchscreen 3840x2160                9\n",
       "4K Ultra HD 3840x2160                              7\n",
       "IPS Panel 1366x768                                 7\n",
       "IPS Panel Quad HD+ / Touchscreen 3200x1800         6\n",
       "Touchscreen 2560x1440                              6\n",
       "IPS Panel Retina Display 2560x1600                 6\n",
       "IPS Panel Retina Display 2304x1440                 6\n",
       "Touchscreen 2256x1504                              6\n",
       "IPS Panel Touchscreen 2560x1440                    5\n",
       "1440x900                                           4\n",
       "IPS Panel 2560x1440                                4\n",
       "IPS Panel Retina Display 2880x1800                 4\n",
       "IPS Panel Quad HD+ 2560x1440                       3\n",
       "IPS Panel Touchscreen 1366x768                     3\n",
       "IPS Panel Touchscreen 1920x1200                    3\n",
       "Quad HD+ 3200x1800                                 3\n",
       "Touchscreen 2400x1600                              3\n",
       "2560x1440                                          3\n",
       "1920x1080                                          3\n",
       "IPS Panel Touchscreen / 4K Ultra HD 3840x2160      2\n",
       "IPS Panel Full HD 2160x1440                        2\n",
       "IPS Panel Quad HD+ 3200x1800                       2\n",
       "IPS Panel Full HD 1920x1200                        1\n",
       "IPS Panel Retina Display 2736x1824                 1\n",
       "IPS Panel Full HD 2560x1440                        1\n",
       "Touchscreen / Full HD 1920x1080                    1\n",
       "IPS Panel Full HD 1366x768                         1\n",
       "Touchscreen / Quad HD+ 3200x1800                   1\n",
       "Touchscreen / 4K Ultra HD 3840x2160                1\n",
       "Name: screenresolution, dtype: int64"
      ]
     },
     "execution_count": 363,
     "metadata": {},
     "output_type": "execute_result"
    }
   ],
   "source": [
    "df.screenresolution.value_counts()"
   ]
  },
  {
   "cell_type": "code",
   "execution_count": 364,
   "id": "1ecb1634",
   "metadata": {},
   "outputs": [],
   "source": [
    "# our dataframe contains some systems which have touchscreen, first of all\n",
    "# we will create a new column which will store information related to this column\n",
    "\n",
    "def fetch_touchscreen(value):\n",
    "    if type(value) == float:\n",
    "        return value\n",
    "    elif 'Touchscreen' in value:\n",
    "        return 1\n",
    "    else:\n",
    "        return 0"
   ]
  },
  {
   "cell_type": "code",
   "execution_count": 365,
   "id": "4eb9bad1",
   "metadata": {},
   "outputs": [],
   "source": [
    "df['touchscreen']=  df.screenresolution.apply(fetch_touchscreen)\n"
   ]
  },
  {
   "cell_type": "code",
   "execution_count": 366,
   "id": "a00b7a98",
   "metadata": {},
   "outputs": [
    {
     "data": {
      "text/plain": [
       "0.0    1088\n",
       "1.0     184\n",
       "Name: touchscreen, dtype: int64"
      ]
     },
     "execution_count": 366,
     "metadata": {},
     "output_type": "execute_result"
    }
   ],
   "source": [
    "df.touchscreen.value_counts()"
   ]
  },
  {
   "cell_type": "markdown",
   "id": "7a573421",
   "metadata": {},
   "source": [
    "> **IPS (in-plane switching) is a screen technology for liquid-crystal displays (LCDs). In IPS, a layer of liquid crystals is sandwiched between two glass surfaces.**"
   ]
  },
  {
   "cell_type": "code",
   "execution_count": 367,
   "id": "3b9a720e",
   "metadata": {},
   "outputs": [],
   "source": [
    "# our dataframe contains some systems which have ips, first of all\n",
    "# we will create a new column which will store information related to this column\n",
    "\n",
    "def fetch_ips(value):\n",
    "    if type(value) == float:\n",
    "        return value\n",
    "    elif 'IPS' in value:\n",
    "        return 1\n",
    "    else:\n",
    "        return 0"
   ]
  },
  {
   "cell_type": "code",
   "execution_count": 368,
   "id": "b6f5245a",
   "metadata": {},
   "outputs": [],
   "source": [
    "df['ips'] = df.screenresolution.apply(fetch_ips)"
   ]
  },
  {
   "cell_type": "code",
   "execution_count": 369,
   "id": "49711fba",
   "metadata": {},
   "outputs": [
    {
     "data": {
      "text/plain": [
       "0.0    914\n",
       "1.0    358\n",
       "Name: ips, dtype: int64"
      ]
     },
     "execution_count": 369,
     "metadata": {},
     "output_type": "execute_result"
    }
   ],
   "source": [
    "df.ips.value_counts()"
   ]
  },
  {
   "cell_type": "code",
   "execution_count": null,
   "id": "a719a044",
   "metadata": {},
   "outputs": [],
   "source": []
  },
  {
   "cell_type": "code",
   "execution_count": null,
   "id": "7fb86207",
   "metadata": {},
   "outputs": [],
   "source": []
  },
  {
   "cell_type": "code",
   "execution_count": 370,
   "id": "7df170c1",
   "metadata": {},
   "outputs": [],
   "source": [
    "# Here screenresolution column contains screen resolution in both width and\n",
    "# height , we will create a new column from these two values , which is Pixel per Inch(ppi)\n",
    "# ppip is calculated by dividing the diagonal resolution of the display device by its diagonal size in inches. \n",
    "# For example, a display monitor with 12-inch width and \n",
    "# 9-inch height has a PPI of 85 in both the horizontal and vertical directions. \n",
    "# Higher resolution will result in more PPI\n"
   ]
  },
  {
   "cell_type": "code",
   "execution_count": 371,
   "id": "57ff4309",
   "metadata": {},
   "outputs": [],
   "source": [
    "\n",
    "# df.screenresolution[0].split(\"x\")"
   ]
  },
  {
   "cell_type": "code",
   "execution_count": 372,
   "id": "44ea9551",
   "metadata": {},
   "outputs": [
    {
     "data": {
      "text/html": [
       "<div>\n",
       "<style scoped>\n",
       "    .dataframe tbody tr th:only-of-type {\n",
       "        vertical-align: middle;\n",
       "    }\n",
       "\n",
       "    .dataframe tbody tr th {\n",
       "        vertical-align: top;\n",
       "    }\n",
       "\n",
       "    .dataframe thead th {\n",
       "        text-align: right;\n",
       "    }\n",
       "</style>\n",
       "<table border=\"1\" class=\"dataframe\">\n",
       "  <thead>\n",
       "    <tr style=\"text-align: right;\">\n",
       "      <th></th>\n",
       "      <th>0</th>\n",
       "      <th>1</th>\n",
       "    </tr>\n",
       "  </thead>\n",
       "  <tbody>\n",
       "    <tr>\n",
       "      <th>0</th>\n",
       "      <td>IPS Panel Retina Display 2560</td>\n",
       "      <td>1600</td>\n",
       "    </tr>\n",
       "    <tr>\n",
       "      <th>1</th>\n",
       "      <td>1440</td>\n",
       "      <td>900</td>\n",
       "    </tr>\n",
       "    <tr>\n",
       "      <th>2</th>\n",
       "      <td>Full HD 1920</td>\n",
       "      <td>1080</td>\n",
       "    </tr>\n",
       "    <tr>\n",
       "      <th>3</th>\n",
       "      <td>IPS Panel Retina Display 2880</td>\n",
       "      <td>1800</td>\n",
       "    </tr>\n",
       "    <tr>\n",
       "      <th>4</th>\n",
       "      <td>IPS Panel Retina Display 2560</td>\n",
       "      <td>1600</td>\n",
       "    </tr>\n",
       "    <tr>\n",
       "      <th>...</th>\n",
       "      <td>...</td>\n",
       "      <td>...</td>\n",
       "    </tr>\n",
       "    <tr>\n",
       "      <th>1298</th>\n",
       "      <td>IPS Panel Full HD / Touchscreen 1920</td>\n",
       "      <td>1080</td>\n",
       "    </tr>\n",
       "    <tr>\n",
       "      <th>1299</th>\n",
       "      <td>IPS Panel Quad HD+ / Touchscreen 3200</td>\n",
       "      <td>1800</td>\n",
       "    </tr>\n",
       "    <tr>\n",
       "      <th>1300</th>\n",
       "      <td>1366</td>\n",
       "      <td>768</td>\n",
       "    </tr>\n",
       "    <tr>\n",
       "      <th>1301</th>\n",
       "      <td>1366</td>\n",
       "      <td>768</td>\n",
       "    </tr>\n",
       "    <tr>\n",
       "      <th>1302</th>\n",
       "      <td>1366</td>\n",
       "      <td>768</td>\n",
       "    </tr>\n",
       "  </tbody>\n",
       "</table>\n",
       "<p>1302 rows × 2 columns</p>\n",
       "</div>"
      ],
      "text/plain": [
       "                                          0     1\n",
       "0             IPS Panel Retina Display 2560  1600\n",
       "1                                      1440   900\n",
       "2                              Full HD 1920  1080\n",
       "3             IPS Panel Retina Display 2880  1800\n",
       "4             IPS Panel Retina Display 2560  1600\n",
       "...                                     ...   ...\n",
       "1298   IPS Panel Full HD / Touchscreen 1920  1080\n",
       "1299  IPS Panel Quad HD+ / Touchscreen 3200  1800\n",
       "1300                                   1366   768\n",
       "1301                                   1366   768\n",
       "1302                                   1366   768\n",
       "\n",
       "[1302 rows x 2 columns]"
      ]
     },
     "execution_count": 372,
     "metadata": {},
     "output_type": "execute_result"
    }
   ],
   "source": [
    "df.screenresolution.str.split(\"x\", n=1, expand=True)"
   ]
  },
  {
   "cell_type": "code",
   "execution_count": 373,
   "id": "9c6e9d29",
   "metadata": {},
   "outputs": [],
   "source": [
    "df['x_resolution'] = df.screenresolution.str.split(\"x\", n=1, expand=True)[0]\n",
    "df['y_resolution'] = df.screenresolution.str.split(\"x\", n=1, expand=True)[1]"
   ]
  },
  {
   "cell_type": "code",
   "execution_count": 374,
   "id": "a9d6d11b",
   "metadata": {},
   "outputs": [
    {
     "data": {
      "text/plain": [
       "0               IPS Panel Retina Display 2560\n",
       "1                                        1440\n",
       "2                                Full HD 1920\n",
       "3               IPS Panel Retina Display 2880\n",
       "4               IPS Panel Retina Display 2560\n",
       "                        ...                  \n",
       "1298     IPS Panel Full HD / Touchscreen 1920\n",
       "1299    IPS Panel Quad HD+ / Touchscreen 3200\n",
       "1300                                     1366\n",
       "1301                                     1366\n",
       "1302                                     1366\n",
       "Name: x_resolution, Length: 1302, dtype: object"
      ]
     },
     "execution_count": 374,
     "metadata": {},
     "output_type": "execute_result"
    }
   ],
   "source": [
    "df.x_resolution.str.replace(\", \",\"\")"
   ]
  },
  {
   "cell_type": "code",
   "execution_count": 375,
   "id": "a5cb7934",
   "metadata": {},
   "outputs": [
    {
     "data": {
      "text/plain": [
       "0       [2560]\n",
       "1       [1440]\n",
       "2       [1920]\n",
       "3       [2880]\n",
       "4       [2560]\n",
       "         ...  \n",
       "1298    [1920]\n",
       "1299    [3200]\n",
       "1300    [1366]\n",
       "1301    [1366]\n",
       "1302    [1366]\n",
       "Name: x_resolution, Length: 1302, dtype: object"
      ]
     },
     "execution_count": 375,
     "metadata": {},
     "output_type": "execute_result"
    }
   ],
   "source": [
    "df.x_resolution.str.replace(',','').str.findall(r'(\\d+\\.?\\d+)')"
   ]
  },
  {
   "cell_type": "code",
   "execution_count": 376,
   "id": "07511752",
   "metadata": {},
   "outputs": [
    {
     "data": {
      "text/plain": [
       "0       [2560]\n",
       "1       [1440]\n",
       "2       [1920]\n",
       "3       [2880]\n",
       "4       [2560]\n",
       "         ...  \n",
       "1298    [1920]\n",
       "1299    [3200]\n",
       "1300    [1366]\n",
       "1301    [1366]\n",
       "1302    [1366]\n",
       "Name: x_resolution, Length: 1302, dtype: object"
      ]
     },
     "execution_count": 376,
     "metadata": {},
     "output_type": "execute_result"
    }
   ],
   "source": [
    "df.x_resolution.str.replace(',','').str.findall(r'(\\d+\\.?\\d+)')"
   ]
  },
  {
   "cell_type": "code",
   "execution_count": 377,
   "id": "80341d8e",
   "metadata": {},
   "outputs": [],
   "source": [
    "def fetch_res(value):\n",
    "    if type(value) == float:\n",
    "        return value\n",
    "    else:\n",
    "        text = value.replace(\",\",\"\")\n",
    "        return re.findall(r'(\\d+\\.?\\d+)', text)[0]"
   ]
  },
  {
   "cell_type": "code",
   "execution_count": 378,
   "id": "f0039c02",
   "metadata": {},
   "outputs": [],
   "source": [
    "df.x_resolution = df.x_resolution.apply(fetch_res)"
   ]
  },
  {
   "cell_type": "markdown",
   "id": "5d773f1a",
   "metadata": {},
   "source": [
    "now, we calculate PPI from above two columns, The formula to calculate Pixels Per Inch (PPI) using x_resolution, y_resolution, and diagonal size in inches (d) is:\n",
    "\n",
    "$$ PPI = \\frac{\\sqrt{x_{resolution}^2 + y_{resolution}^2}}{diagonal~size~in~inches}$$\n",
    "\n",
    "\n",
    "Where:\n",
    "\n",
    "- x_resolution is the horizontal resolution of the display device\n",
    "- y_resolution is the vertical resolution of the display device\n",
    "- d is the diagonal size of the display device in inches.\n",
    "\n",
    "Note: We could not perform above operation on our columns, because they contain some missing values, to handle this issue, we fill these missing values with `mode`."
   ]
  },
  {
   "cell_type": "code",
   "execution_count": null,
   "id": "b7ad8650",
   "metadata": {},
   "outputs": [],
   "source": []
  },
  {
   "cell_type": "code",
   "execution_count": 379,
   "id": "e214c5c5",
   "metadata": {},
   "outputs": [],
   "source": [
    "x_mode = df.x_resolution.mode()[0]\n",
    "y_mode = df.y_resolution.mode()[0]\n",
    "inches = df.inches.mode()[0]"
   ]
  },
  {
   "cell_type": "code",
   "execution_count": null,
   "id": "eb7d4fa2",
   "metadata": {},
   "outputs": [],
   "source": []
  },
  {
   "cell_type": "code",
   "execution_count": 380,
   "id": "2be9af0d",
   "metadata": {},
   "outputs": [],
   "source": [
    "# Replace NaN values with mode\n",
    "\n",
    "df.x_resolution = df.x_resolution.fillna(x_mode)\n",
    "df.y_resolution = df.y_resolution.fillna(y_mode)\n",
    "df.inches = df.inches.fillna(inches)"
   ]
  },
  {
   "cell_type": "code",
   "execution_count": 381,
   "id": "0e0a2eac",
   "metadata": {},
   "outputs": [],
   "source": [
    "# Convert column to integer\n",
    "df.x_resolution = df.x_resolution.astype(int)\n",
    "df.y_resolution = df.y_resolution.astype(int)\n"
   ]
  },
  {
   "cell_type": "code",
   "execution_count": 382,
   "id": "dfe6bff6",
   "metadata": {},
   "outputs": [
    {
     "data": {
      "text/html": [
       "<div>\n",
       "<style scoped>\n",
       "    .dataframe tbody tr th:only-of-type {\n",
       "        vertical-align: middle;\n",
       "    }\n",
       "\n",
       "    .dataframe tbody tr th {\n",
       "        vertical-align: top;\n",
       "    }\n",
       "\n",
       "    .dataframe thead th {\n",
       "        text-align: right;\n",
       "    }\n",
       "</style>\n",
       "<table border=\"1\" class=\"dataframe\">\n",
       "  <thead>\n",
       "    <tr style=\"text-align: right;\">\n",
       "      <th></th>\n",
       "      <th>company</th>\n",
       "      <th>typename</th>\n",
       "      <th>inches</th>\n",
       "      <th>screenresolution</th>\n",
       "      <th>ram</th>\n",
       "      <th>memory</th>\n",
       "      <th>weight</th>\n",
       "      <th>price</th>\n",
       "      <th>gpu_brand</th>\n",
       "      <th>os</th>\n",
       "      <th>cpu_brand</th>\n",
       "      <th>touchscreen</th>\n",
       "      <th>ips</th>\n",
       "      <th>x_resolution</th>\n",
       "      <th>y_resolution</th>\n",
       "    </tr>\n",
       "  </thead>\n",
       "  <tbody>\n",
       "    <tr>\n",
       "      <th>208</th>\n",
       "      <td>Dell</td>\n",
       "      <td>Ultrabook</td>\n",
       "      <td>13.3</td>\n",
       "      <td>Full HD 1920x1080</td>\n",
       "      <td>8</td>\n",
       "      <td>256GB SSD</td>\n",
       "      <td>?</td>\n",
       "      <td>77202.7200</td>\n",
       "      <td>Intel</td>\n",
       "      <td>Windows</td>\n",
       "      <td>Intel Core i7</td>\n",
       "      <td>0.0</td>\n",
       "      <td>0.0</td>\n",
       "      <td>1920</td>\n",
       "      <td>1080</td>\n",
       "    </tr>\n",
       "    <tr>\n",
       "      <th>476</th>\n",
       "      <td>Dell</td>\n",
       "      <td>Workstation</td>\n",
       "      <td>?</td>\n",
       "      <td>Full HD 1920x1080</td>\n",
       "      <td>8</td>\n",
       "      <td>256GB SSD</td>\n",
       "      <td>1.78</td>\n",
       "      <td>128298.2400</td>\n",
       "      <td>Nvidia</td>\n",
       "      <td>Windows</td>\n",
       "      <td>Intel Core i7</td>\n",
       "      <td>0.0</td>\n",
       "      <td>0.0</td>\n",
       "      <td>1920</td>\n",
       "      <td>1080</td>\n",
       "    </tr>\n",
       "    <tr>\n",
       "      <th>770</th>\n",
       "      <td>Dell</td>\n",
       "      <td>Notebook</td>\n",
       "      <td>15.6</td>\n",
       "      <td>Full HD 1920x1080</td>\n",
       "      <td>16</td>\n",
       "      <td>?</td>\n",
       "      <td>2.3</td>\n",
       "      <td>62938.0656</td>\n",
       "      <td>AMD</td>\n",
       "      <td>Windows</td>\n",
       "      <td>Intel Core i7</td>\n",
       "      <td>0.0</td>\n",
       "      <td>0.0</td>\n",
       "      <td>1920</td>\n",
       "      <td>1080</td>\n",
       "    </tr>\n",
       "  </tbody>\n",
       "</table>\n",
       "</div>"
      ],
      "text/plain": [
       "    company     typename inches   screenresolution ram     memory weight  \\\n",
       "208    Dell    Ultrabook   13.3  Full HD 1920x1080   8  256GB SSD      ?   \n",
       "476    Dell  Workstation      ?  Full HD 1920x1080   8  256GB SSD   1.78   \n",
       "770    Dell     Notebook   15.6  Full HD 1920x1080  16          ?    2.3   \n",
       "\n",
       "           price gpu_brand       os      cpu_brand  touchscreen  ips  \\\n",
       "208   77202.7200     Intel  Windows  Intel Core i7          0.0  0.0   \n",
       "476  128298.2400    Nvidia  Windows  Intel Core i7          0.0  0.0   \n",
       "770   62938.0656       AMD  Windows  Intel Core i7          0.0  0.0   \n",
       "\n",
       "     x_resolution  y_resolution  \n",
       "208          1920          1080  \n",
       "476          1920          1080  \n",
       "770          1920          1080  "
      ]
     },
     "execution_count": 382,
     "metadata": {},
     "output_type": "execute_result"
    }
   ],
   "source": [
    "# when we run this code, we will get an error that out column also contain some values \n",
    "# these values are `?`, we need to modify this column as well as overall dataframe\n",
    "\n",
    "df[df.eq('?').any(1)]"
   ]
  },
  {
   "cell_type": "code",
   "execution_count": 383,
   "id": "102e7930",
   "metadata": {},
   "outputs": [],
   "source": [
    "# We fill all the values with Nan where ? exist\n",
    "df.replace(\"?\", np.nan, inplace=True)"
   ]
  },
  {
   "cell_type": "code",
   "execution_count": 384,
   "id": "72bff5c7",
   "metadata": {},
   "outputs": [
    {
     "data": {
      "text/html": [
       "<div>\n",
       "<style scoped>\n",
       "    .dataframe tbody tr th:only-of-type {\n",
       "        vertical-align: middle;\n",
       "    }\n",
       "\n",
       "    .dataframe tbody tr th {\n",
       "        vertical-align: top;\n",
       "    }\n",
       "\n",
       "    .dataframe thead th {\n",
       "        text-align: right;\n",
       "    }\n",
       "</style>\n",
       "<table border=\"1\" class=\"dataframe\">\n",
       "  <thead>\n",
       "    <tr style=\"text-align: right;\">\n",
       "      <th></th>\n",
       "      <th>company</th>\n",
       "      <th>typename</th>\n",
       "      <th>inches</th>\n",
       "      <th>screenresolution</th>\n",
       "      <th>ram</th>\n",
       "      <th>memory</th>\n",
       "      <th>weight</th>\n",
       "      <th>price</th>\n",
       "      <th>gpu_brand</th>\n",
       "      <th>os</th>\n",
       "      <th>cpu_brand</th>\n",
       "      <th>touchscreen</th>\n",
       "      <th>ips</th>\n",
       "      <th>x_resolution</th>\n",
       "      <th>y_resolution</th>\n",
       "    </tr>\n",
       "  </thead>\n",
       "  <tbody>\n",
       "  </tbody>\n",
       "</table>\n",
       "</div>"
      ],
      "text/plain": [
       "Empty DataFrame\n",
       "Columns: [company, typename, inches, screenresolution, ram, memory, weight, price, gpu_brand, os, cpu_brand, touchscreen, ips, x_resolution, y_resolution]\n",
       "Index: []"
      ]
     },
     "execution_count": 384,
     "metadata": {},
     "output_type": "execute_result"
    }
   ],
   "source": [
    "df[df.eq('?').any(1)]\n",
    "# done"
   ]
  },
  {
   "cell_type": "code",
   "execution_count": 385,
   "id": "e77037c0",
   "metadata": {},
   "outputs": [],
   "source": [
    "df.inches = df.inches.astype(float)"
   ]
  },
  {
   "cell_type": "code",
   "execution_count": 386,
   "id": "11049907",
   "metadata": {},
   "outputs": [
    {
     "data": {
      "text/plain": [
       "0       226.983005\n",
       "1       127.677940\n",
       "2       141.211998\n",
       "3       220.534624\n",
       "4       226.983005\n",
       "           ...    \n",
       "1298    157.350512\n",
       "1299    276.053530\n",
       "1300    111.935204\n",
       "1301    100.454670\n",
       "1302    100.454670\n",
       "Length: 1302, dtype: float64"
      ]
     },
     "execution_count": 386,
     "metadata": {},
     "output_type": "execute_result"
    }
   ],
   "source": [
    "(((df.x_resolution**2) + (df.y_resolution**2))**0.5/df.inches).astype('float')"
   ]
  },
  {
   "cell_type": "code",
   "execution_count": 387,
   "id": "569bd866",
   "metadata": {},
   "outputs": [],
   "source": [
    "df['ppi'] =(((df.x_resolution**2) + (df.y_resolution**2))**0.5/df.inches).astype('float')"
   ]
  },
  {
   "cell_type": "code",
   "execution_count": 388,
   "id": "e2fb50fb",
   "metadata": {},
   "outputs": [
    {
     "data": {
      "text/html": [
       "<div>\n",
       "<style scoped>\n",
       "    .dataframe tbody tr th:only-of-type {\n",
       "        vertical-align: middle;\n",
       "    }\n",
       "\n",
       "    .dataframe tbody tr th {\n",
       "        vertical-align: top;\n",
       "    }\n",
       "\n",
       "    .dataframe thead th {\n",
       "        text-align: right;\n",
       "    }\n",
       "</style>\n",
       "<table border=\"1\" class=\"dataframe\">\n",
       "  <thead>\n",
       "    <tr style=\"text-align: right;\">\n",
       "      <th></th>\n",
       "      <th>company</th>\n",
       "      <th>typename</th>\n",
       "      <th>inches</th>\n",
       "      <th>screenresolution</th>\n",
       "      <th>ram</th>\n",
       "      <th>memory</th>\n",
       "      <th>weight</th>\n",
       "      <th>price</th>\n",
       "      <th>gpu_brand</th>\n",
       "      <th>os</th>\n",
       "      <th>cpu_brand</th>\n",
       "      <th>touchscreen</th>\n",
       "      <th>ips</th>\n",
       "      <th>x_resolution</th>\n",
       "      <th>y_resolution</th>\n",
       "      <th>ppi</th>\n",
       "    </tr>\n",
       "  </thead>\n",
       "  <tbody>\n",
       "    <tr>\n",
       "      <th>0</th>\n",
       "      <td>Apple</td>\n",
       "      <td>Ultrabook</td>\n",
       "      <td>13.3</td>\n",
       "      <td>IPS Panel Retina Display 2560x1600</td>\n",
       "      <td>8</td>\n",
       "      <td>128GB SSD</td>\n",
       "      <td>1.37</td>\n",
       "      <td>71378.6832</td>\n",
       "      <td>Intel</td>\n",
       "      <td>Mac</td>\n",
       "      <td>Intel Core i5</td>\n",
       "      <td>0.0</td>\n",
       "      <td>1.0</td>\n",
       "      <td>2560</td>\n",
       "      <td>1600</td>\n",
       "      <td>226.983005</td>\n",
       "    </tr>\n",
       "    <tr>\n",
       "      <th>1</th>\n",
       "      <td>Apple</td>\n",
       "      <td>Ultrabook</td>\n",
       "      <td>13.3</td>\n",
       "      <td>1440x900</td>\n",
       "      <td>8</td>\n",
       "      <td>128GB Flash Storage</td>\n",
       "      <td>1.34</td>\n",
       "      <td>47895.5232</td>\n",
       "      <td>Intel</td>\n",
       "      <td>Mac</td>\n",
       "      <td>Intel Core i5</td>\n",
       "      <td>0.0</td>\n",
       "      <td>0.0</td>\n",
       "      <td>1440</td>\n",
       "      <td>900</td>\n",
       "      <td>127.677940</td>\n",
       "    </tr>\n",
       "  </tbody>\n",
       "</table>\n",
       "</div>"
      ],
      "text/plain": [
       "  company   typename  inches                    screenresolution ram  \\\n",
       "0   Apple  Ultrabook    13.3  IPS Panel Retina Display 2560x1600   8   \n",
       "1   Apple  Ultrabook    13.3                            1440x900   8   \n",
       "\n",
       "                memory weight       price gpu_brand   os      cpu_brand  \\\n",
       "0            128GB SSD   1.37  71378.6832     Intel  Mac  Intel Core i5   \n",
       "1  128GB Flash Storage   1.34  47895.5232     Intel  Mac  Intel Core i5   \n",
       "\n",
       "   touchscreen  ips  x_resolution  y_resolution         ppi  \n",
       "0          0.0  1.0          2560          1600  226.983005  \n",
       "1          0.0  0.0          1440           900  127.677940  "
      ]
     },
     "execution_count": 388,
     "metadata": {},
     "output_type": "execute_result"
    }
   ],
   "source": [
    "df.head(2)"
   ]
  },
  {
   "cell_type": "code",
   "execution_count": 389,
   "id": "c6ae338a",
   "metadata": {},
   "outputs": [
    {
     "data": {
      "text/plain": [
       "Index(['company', 'typename', 'inches', 'screenresolution', 'ram', 'memory',\n",
       "       'weight', 'price', 'gpu_brand', 'os', 'cpu_brand', 'touchscreen', 'ips',\n",
       "       'x_resolution', 'y_resolution', 'ppi'],\n",
       "      dtype='object')"
      ]
     },
     "execution_count": 389,
     "metadata": {},
     "output_type": "execute_result"
    }
   ],
   "source": [
    "df.columns"
   ]
  },
  {
   "cell_type": "code",
   "execution_count": 390,
   "id": "2756b29f",
   "metadata": {},
   "outputs": [],
   "source": [
    "# now, we delete unnecessary columns from the dataframe like `inches`, `screenresolution`, `x_resolution`, `y_resolution`\n",
    "df.drop(['inches', 'screenresolution','x_resolution','y_resolution'], axis=1, inplace=True)"
   ]
  },
  {
   "cell_type": "code",
   "execution_count": 391,
   "id": "e3a38277",
   "metadata": {},
   "outputs": [
    {
     "data": {
      "text/html": [
       "<div>\n",
       "<style scoped>\n",
       "    .dataframe tbody tr th:only-of-type {\n",
       "        vertical-align: middle;\n",
       "    }\n",
       "\n",
       "    .dataframe tbody tr th {\n",
       "        vertical-align: top;\n",
       "    }\n",
       "\n",
       "    .dataframe thead th {\n",
       "        text-align: right;\n",
       "    }\n",
       "</style>\n",
       "<table border=\"1\" class=\"dataframe\">\n",
       "  <thead>\n",
       "    <tr style=\"text-align: right;\">\n",
       "      <th></th>\n",
       "      <th>company</th>\n",
       "      <th>typename</th>\n",
       "      <th>ram</th>\n",
       "      <th>memory</th>\n",
       "      <th>weight</th>\n",
       "      <th>price</th>\n",
       "      <th>gpu_brand</th>\n",
       "      <th>os</th>\n",
       "      <th>cpu_brand</th>\n",
       "      <th>touchscreen</th>\n",
       "      <th>ips</th>\n",
       "      <th>ppi</th>\n",
       "    </tr>\n",
       "  </thead>\n",
       "  <tbody>\n",
       "    <tr>\n",
       "      <th>0</th>\n",
       "      <td>Apple</td>\n",
       "      <td>Ultrabook</td>\n",
       "      <td>8</td>\n",
       "      <td>128GB SSD</td>\n",
       "      <td>1.37</td>\n",
       "      <td>71378.6832</td>\n",
       "      <td>Intel</td>\n",
       "      <td>Mac</td>\n",
       "      <td>Intel Core i5</td>\n",
       "      <td>0.0</td>\n",
       "      <td>1.0</td>\n",
       "      <td>226.983005</td>\n",
       "    </tr>\n",
       "    <tr>\n",
       "      <th>1</th>\n",
       "      <td>Apple</td>\n",
       "      <td>Ultrabook</td>\n",
       "      <td>8</td>\n",
       "      <td>128GB Flash Storage</td>\n",
       "      <td>1.34</td>\n",
       "      <td>47895.5232</td>\n",
       "      <td>Intel</td>\n",
       "      <td>Mac</td>\n",
       "      <td>Intel Core i5</td>\n",
       "      <td>0.0</td>\n",
       "      <td>0.0</td>\n",
       "      <td>127.677940</td>\n",
       "    </tr>\n",
       "  </tbody>\n",
       "</table>\n",
       "</div>"
      ],
      "text/plain": [
       "  company   typename ram               memory weight       price gpu_brand  \\\n",
       "0   Apple  Ultrabook   8            128GB SSD   1.37  71378.6832     Intel   \n",
       "1   Apple  Ultrabook   8  128GB Flash Storage   1.34  47895.5232     Intel   \n",
       "\n",
       "    os      cpu_brand  touchscreen  ips         ppi  \n",
       "0  Mac  Intel Core i5          0.0  1.0  226.983005  \n",
       "1  Mac  Intel Core i5          0.0  0.0  127.677940  "
      ]
     },
     "execution_count": 391,
     "metadata": {},
     "output_type": "execute_result"
    }
   ],
   "source": [
    "df.head(2)"
   ]
  },
  {
   "cell_type": "code",
   "execution_count": null,
   "id": "97167e72",
   "metadata": {},
   "outputs": [],
   "source": []
  },
  {
   "cell_type": "markdown",
   "id": "63fb5499",
   "metadata": {},
   "source": [
    "### Cleaning of `memory` Column"
   ]
  },
  {
   "cell_type": "code",
   "execution_count": 392,
   "id": "121b8e1e",
   "metadata": {},
   "outputs": [
    {
     "data": {
      "text/plain": [
       "256GB SSD                        401\n",
       "1TB HDD                          217\n",
       "500GB HDD                        130\n",
       "512GB SSD                        116\n",
       "128GB SSD +  1TB HDD              92\n",
       "128GB SSD                         74\n",
       "256GB SSD +  1TB HDD              71\n",
       "32GB Flash Storage                36\n",
       "2TB HDD                           16\n",
       "64GB Flash Storage                14\n",
       "512GB SSD +  1TB HDD              14\n",
       "1TB SSD                           13\n",
       "256GB SSD +  2TB HDD              10\n",
       "1.0TB Hybrid                       9\n",
       "256GB Flash Storage                8\n",
       "16GB Flash Storage                 7\n",
       "32GB SSD                           6\n",
       "128GB Flash Storage                4\n",
       "180GB SSD                          4\n",
       "512GB SSD +  2TB HDD               3\n",
       "16GB SSD                           3\n",
       "512GB Flash Storage                2\n",
       "1TB SSD +  1TB HDD                 2\n",
       "256GB SSD +  500GB HDD             2\n",
       "128GB SSD +  2TB HDD               2\n",
       "256GB SSD +  256GB SSD             2\n",
       "512GB SSD +  256GB SSD             1\n",
       "512GB SSD +  512GB SSD             1\n",
       "64GB Flash Storage +  1TB HDD      1\n",
       "1TB HDD +  1TB HDD                 1\n",
       "32GB HDD                           1\n",
       "64GB SSD                           1\n",
       "128GB HDD                          1\n",
       "240GB SSD                          1\n",
       "8GB SSD                            1\n",
       "508GB Hybrid                       1\n",
       "1.0TB HDD                          1\n",
       "512GB SSD +  1.0TB Hybrid          1\n",
       "256GB SSD +  1.0TB Hybrid          1\n",
       "Name: memory, dtype: int64"
      ]
     },
     "execution_count": 392,
     "metadata": {},
     "output_type": "execute_result"
    }
   ],
   "source": [
    "df.memory.value_counts()"
   ]
  },
  {
   "cell_type": "code",
   "execution_count": 393,
   "id": "c315b950",
   "metadata": {},
   "outputs": [],
   "source": [
    "df.memory =  df['memory'].astype(str).replace('\\.0', '', regex=True)"
   ]
  },
  {
   "cell_type": "code",
   "execution_count": 394,
   "id": "1650a8b0",
   "metadata": {},
   "outputs": [],
   "source": [
    "df.memory = df.memory.str.replace('GB', '')\n",
    "df.memory = df.memory.str.replace('TB', '000')"
   ]
  },
  {
   "cell_type": "code",
   "execution_count": 395,
   "id": "d70852e7",
   "metadata": {},
   "outputs": [
    {
     "data": {
      "text/plain": [
       "256 SSD                         401\n",
       "1000 HDD                        218\n",
       "500 HDD                         130\n",
       "512 SSD                         116\n",
       "128 SSD +  1000 HDD              92\n",
       "128 SSD                          74\n",
       "256 SSD +  1000 HDD              71\n",
       "32 Flash Storage                 36\n",
       "nan                              31\n",
       "2000 HDD                         16\n",
       "512 SSD +  1000 HDD              14\n",
       "64 Flash Storage                 14\n",
       "1000 SSD                         13\n",
       "256 SSD +  2000 HDD              10\n",
       "1000 Hybrid                       9\n",
       "256 Flash Storage                 8\n",
       "16 Flash Storage                  7\n",
       "32 SSD                            6\n",
       "180 SSD                           4\n",
       "128 Flash Storage                 4\n",
       "16 SSD                            3\n",
       "512 SSD +  2000 HDD               3\n",
       "256 SSD +  500 HDD                2\n",
       "256 SSD +  256 SSD                2\n",
       "128 SSD +  2000 HDD               2\n",
       "1000 SSD +  1000 HDD              2\n",
       "512 Flash Storage                 2\n",
       "512 SSD +  512 SSD                1\n",
       "128 HDD                           1\n",
       "512 SSD +  1000 Hybrid            1\n",
       "508 Hybrid                        1\n",
       "8 SSD                             1\n",
       "240 SSD                           1\n",
       "32 HDD                            1\n",
       "1000 HDD +  1000 HDD              1\n",
       "64 Flash Storage +  1000 HDD      1\n",
       "64 SSD                            1\n",
       "512 SSD +  256 SSD                1\n",
       "256 SSD +  1000 Hybrid            1\n",
       "Name: memory, dtype: int64"
      ]
     },
     "execution_count": 395,
     "metadata": {},
     "output_type": "execute_result"
    }
   ],
   "source": [
    "df.memory.value_counts()"
   ]
  },
  {
   "cell_type": "code",
   "execution_count": 396,
   "id": "6178288e",
   "metadata": {},
   "outputs": [
    {
     "data": {
      "text/html": [
       "<div>\n",
       "<style scoped>\n",
       "    .dataframe tbody tr th:only-of-type {\n",
       "        vertical-align: middle;\n",
       "    }\n",
       "\n",
       "    .dataframe tbody tr th {\n",
       "        vertical-align: top;\n",
       "    }\n",
       "\n",
       "    .dataframe thead th {\n",
       "        text-align: right;\n",
       "    }\n",
       "</style>\n",
       "<table border=\"1\" class=\"dataframe\">\n",
       "  <thead>\n",
       "    <tr style=\"text-align: right;\">\n",
       "      <th></th>\n",
       "      <th>0</th>\n",
       "      <th>1</th>\n",
       "    </tr>\n",
       "  </thead>\n",
       "  <tbody>\n",
       "    <tr>\n",
       "      <th>0</th>\n",
       "      <td>128 SSD</td>\n",
       "      <td>None</td>\n",
       "    </tr>\n",
       "    <tr>\n",
       "      <th>1</th>\n",
       "      <td>128 Flash Storage</td>\n",
       "      <td>None</td>\n",
       "    </tr>\n",
       "    <tr>\n",
       "      <th>2</th>\n",
       "      <td>256 SSD</td>\n",
       "      <td>None</td>\n",
       "    </tr>\n",
       "    <tr>\n",
       "      <th>3</th>\n",
       "      <td>512 SSD</td>\n",
       "      <td>None</td>\n",
       "    </tr>\n",
       "    <tr>\n",
       "      <th>4</th>\n",
       "      <td>256 SSD</td>\n",
       "      <td>None</td>\n",
       "    </tr>\n",
       "    <tr>\n",
       "      <th>...</th>\n",
       "      <td>...</td>\n",
       "      <td>...</td>\n",
       "    </tr>\n",
       "    <tr>\n",
       "      <th>1298</th>\n",
       "      <td>128 SSD</td>\n",
       "      <td>None</td>\n",
       "    </tr>\n",
       "    <tr>\n",
       "      <th>1299</th>\n",
       "      <td>512 SSD</td>\n",
       "      <td>None</td>\n",
       "    </tr>\n",
       "    <tr>\n",
       "      <th>1300</th>\n",
       "      <td>64 Flash Storage</td>\n",
       "      <td>None</td>\n",
       "    </tr>\n",
       "    <tr>\n",
       "      <th>1301</th>\n",
       "      <td>1000 HDD</td>\n",
       "      <td>None</td>\n",
       "    </tr>\n",
       "    <tr>\n",
       "      <th>1302</th>\n",
       "      <td>500 HDD</td>\n",
       "      <td>None</td>\n",
       "    </tr>\n",
       "  </tbody>\n",
       "</table>\n",
       "<p>1302 rows × 2 columns</p>\n",
       "</div>"
      ],
      "text/plain": [
       "                      0     1\n",
       "0               128 SSD  None\n",
       "1     128 Flash Storage  None\n",
       "2               256 SSD  None\n",
       "3               512 SSD  None\n",
       "4               256 SSD  None\n",
       "...                 ...   ...\n",
       "1298            128 SSD  None\n",
       "1299            512 SSD  None\n",
       "1300   64 Flash Storage  None\n",
       "1301           1000 HDD  None\n",
       "1302            500 HDD  None\n",
       "\n",
       "[1302 rows x 2 columns]"
      ]
     },
     "execution_count": 396,
     "metadata": {},
     "output_type": "execute_result"
    }
   ],
   "source": [
    "new = df.memory.str.split(\"+\", n = 1, expand = True)\n",
    "new"
   ]
  },
  {
   "cell_type": "code",
   "execution_count": 397,
   "id": "b0e7eacd",
   "metadata": {},
   "outputs": [],
   "source": [
    "df['first'] = new[0]\n",
    "df['first'] = df['first'].str.strip()"
   ]
  },
  {
   "cell_type": "code",
   "execution_count": 398,
   "id": "87713877",
   "metadata": {},
   "outputs": [
    {
     "data": {
      "text/plain": [
       "0       None\n",
       "1       None\n",
       "2       None\n",
       "3       None\n",
       "4       None\n",
       "        ... \n",
       "1298    None\n",
       "1299    None\n",
       "1300    None\n",
       "1301    None\n",
       "1302    None\n",
       "Name: second, Length: 1302, dtype: object"
      ]
     },
     "execution_count": 398,
     "metadata": {},
     "output_type": "execute_result"
    }
   ],
   "source": [
    "df['second'] = new[1]\n",
    "df.second"
   ]
  },
  {
   "cell_type": "code",
   "execution_count": 399,
   "id": "b8b128a9",
   "metadata": {},
   "outputs": [],
   "source": [
    "df[\"layer1HDD\"] = df[\"first\"].apply(lambda x: 1 if \"HDD\" in x else 0)\n",
    "df[\"layer1SSD\"] = df[\"first\"].apply(lambda x: 1 if \"SSD\" in x else 0)\n",
    "df[\"layer1Hybrid\"] = df[\"first\"].apply(lambda x: 1 if \"Hybrid\" in x else 0)\n",
    "df[\"layer1Flash_Storage\"] = df[\"first\"].apply(lambda x: 1 if \"Flash Storage\" in x else 0)"
   ]
  },
  {
   "cell_type": "code",
   "execution_count": 400,
   "id": "9ccb1b97",
   "metadata": {},
   "outputs": [
    {
     "data": {
      "text/html": [
       "<div>\n",
       "<style scoped>\n",
       "    .dataframe tbody tr th:only-of-type {\n",
       "        vertical-align: middle;\n",
       "    }\n",
       "\n",
       "    .dataframe tbody tr th {\n",
       "        vertical-align: top;\n",
       "    }\n",
       "\n",
       "    .dataframe thead th {\n",
       "        text-align: right;\n",
       "    }\n",
       "</style>\n",
       "<table border=\"1\" class=\"dataframe\">\n",
       "  <thead>\n",
       "    <tr style=\"text-align: right;\">\n",
       "      <th></th>\n",
       "      <th>company</th>\n",
       "      <th>typename</th>\n",
       "      <th>ram</th>\n",
       "      <th>memory</th>\n",
       "      <th>weight</th>\n",
       "      <th>price</th>\n",
       "      <th>gpu_brand</th>\n",
       "      <th>os</th>\n",
       "      <th>cpu_brand</th>\n",
       "      <th>touchscreen</th>\n",
       "      <th>ips</th>\n",
       "      <th>ppi</th>\n",
       "      <th>first</th>\n",
       "      <th>second</th>\n",
       "      <th>layer1HDD</th>\n",
       "      <th>layer1SSD</th>\n",
       "      <th>layer1Hybrid</th>\n",
       "      <th>layer1Flash_Storage</th>\n",
       "    </tr>\n",
       "  </thead>\n",
       "  <tbody>\n",
       "    <tr>\n",
       "      <th>0</th>\n",
       "      <td>Apple</td>\n",
       "      <td>Ultrabook</td>\n",
       "      <td>8</td>\n",
       "      <td>128 SSD</td>\n",
       "      <td>1.37</td>\n",
       "      <td>71378.6832</td>\n",
       "      <td>Intel</td>\n",
       "      <td>Mac</td>\n",
       "      <td>Intel Core i5</td>\n",
       "      <td>0.0</td>\n",
       "      <td>1.0</td>\n",
       "      <td>226.983005</td>\n",
       "      <td>128 SSD</td>\n",
       "      <td>None</td>\n",
       "      <td>0</td>\n",
       "      <td>1</td>\n",
       "      <td>0</td>\n",
       "      <td>0</td>\n",
       "    </tr>\n",
       "    <tr>\n",
       "      <th>1</th>\n",
       "      <td>Apple</td>\n",
       "      <td>Ultrabook</td>\n",
       "      <td>8</td>\n",
       "      <td>128 Flash Storage</td>\n",
       "      <td>1.34</td>\n",
       "      <td>47895.5232</td>\n",
       "      <td>Intel</td>\n",
       "      <td>Mac</td>\n",
       "      <td>Intel Core i5</td>\n",
       "      <td>0.0</td>\n",
       "      <td>0.0</td>\n",
       "      <td>127.677940</td>\n",
       "      <td>128 Flash Storage</td>\n",
       "      <td>None</td>\n",
       "      <td>0</td>\n",
       "      <td>0</td>\n",
       "      <td>0</td>\n",
       "      <td>1</td>\n",
       "    </tr>\n",
       "  </tbody>\n",
       "</table>\n",
       "</div>"
      ],
      "text/plain": [
       "  company   typename ram             memory weight       price gpu_brand   os  \\\n",
       "0   Apple  Ultrabook   8            128 SSD   1.37  71378.6832     Intel  Mac   \n",
       "1   Apple  Ultrabook   8  128 Flash Storage   1.34  47895.5232     Intel  Mac   \n",
       "\n",
       "       cpu_brand  touchscreen  ips         ppi              first second  \\\n",
       "0  Intel Core i5          0.0  1.0  226.983005            128 SSD   None   \n",
       "1  Intel Core i5          0.0  0.0  127.677940  128 Flash Storage   None   \n",
       "\n",
       "   layer1HDD  layer1SSD  layer1Hybrid  layer1Flash_Storage  \n",
       "0          0          1             0                    0  \n",
       "1          0          0             0                    1  "
      ]
     },
     "execution_count": 400,
     "metadata": {},
     "output_type": "execute_result"
    }
   ],
   "source": [
    "df.head(2)"
   ]
  },
  {
   "cell_type": "code",
   "execution_count": 401,
   "id": "ca7d1fd0",
   "metadata": {},
   "outputs": [],
   "source": [
    "df['first'] = df['first'].str.replace(r'\\D', '')"
   ]
  },
  {
   "cell_type": "code",
   "execution_count": 402,
   "id": "8135bd7b",
   "metadata": {},
   "outputs": [
    {
     "data": {
      "text/html": [
       "<div>\n",
       "<style scoped>\n",
       "    .dataframe tbody tr th:only-of-type {\n",
       "        vertical-align: middle;\n",
       "    }\n",
       "\n",
       "    .dataframe tbody tr th {\n",
       "        vertical-align: top;\n",
       "    }\n",
       "\n",
       "    .dataframe thead th {\n",
       "        text-align: right;\n",
       "    }\n",
       "</style>\n",
       "<table border=\"1\" class=\"dataframe\">\n",
       "  <thead>\n",
       "    <tr style=\"text-align: right;\">\n",
       "      <th></th>\n",
       "      <th>company</th>\n",
       "      <th>typename</th>\n",
       "      <th>ram</th>\n",
       "      <th>memory</th>\n",
       "      <th>weight</th>\n",
       "      <th>price</th>\n",
       "      <th>gpu_brand</th>\n",
       "      <th>os</th>\n",
       "      <th>cpu_brand</th>\n",
       "      <th>touchscreen</th>\n",
       "      <th>ips</th>\n",
       "      <th>ppi</th>\n",
       "      <th>first</th>\n",
       "      <th>second</th>\n",
       "      <th>layer1HDD</th>\n",
       "      <th>layer1SSD</th>\n",
       "      <th>layer1Hybrid</th>\n",
       "      <th>layer1Flash_Storage</th>\n",
       "    </tr>\n",
       "  </thead>\n",
       "  <tbody>\n",
       "    <tr>\n",
       "      <th>0</th>\n",
       "      <td>Apple</td>\n",
       "      <td>Ultrabook</td>\n",
       "      <td>8</td>\n",
       "      <td>128 SSD</td>\n",
       "      <td>1.37</td>\n",
       "      <td>71378.6832</td>\n",
       "      <td>Intel</td>\n",
       "      <td>Mac</td>\n",
       "      <td>Intel Core i5</td>\n",
       "      <td>0.0</td>\n",
       "      <td>1.0</td>\n",
       "      <td>226.983005</td>\n",
       "      <td>128</td>\n",
       "      <td>None</td>\n",
       "      <td>0</td>\n",
       "      <td>1</td>\n",
       "      <td>0</td>\n",
       "      <td>0</td>\n",
       "    </tr>\n",
       "    <tr>\n",
       "      <th>1</th>\n",
       "      <td>Apple</td>\n",
       "      <td>Ultrabook</td>\n",
       "      <td>8</td>\n",
       "      <td>128 Flash Storage</td>\n",
       "      <td>1.34</td>\n",
       "      <td>47895.5232</td>\n",
       "      <td>Intel</td>\n",
       "      <td>Mac</td>\n",
       "      <td>Intel Core i5</td>\n",
       "      <td>0.0</td>\n",
       "      <td>0.0</td>\n",
       "      <td>127.677940</td>\n",
       "      <td>128</td>\n",
       "      <td>None</td>\n",
       "      <td>0</td>\n",
       "      <td>0</td>\n",
       "      <td>0</td>\n",
       "      <td>1</td>\n",
       "    </tr>\n",
       "  </tbody>\n",
       "</table>\n",
       "</div>"
      ],
      "text/plain": [
       "  company   typename ram             memory weight       price gpu_brand   os  \\\n",
       "0   Apple  Ultrabook   8            128 SSD   1.37  71378.6832     Intel  Mac   \n",
       "1   Apple  Ultrabook   8  128 Flash Storage   1.34  47895.5232     Intel  Mac   \n",
       "\n",
       "       cpu_brand  touchscreen  ips         ppi first second  layer1HDD  \\\n",
       "0  Intel Core i5          0.0  1.0  226.983005   128   None          0   \n",
       "1  Intel Core i5          0.0  0.0  127.677940   128   None          0   \n",
       "\n",
       "   layer1SSD  layer1Hybrid  layer1Flash_Storage  \n",
       "0          1             0                    0  \n",
       "1          0             0                    1  "
      ]
     },
     "execution_count": 402,
     "metadata": {},
     "output_type": "execute_result"
    }
   ],
   "source": [
    "df.head(2)"
   ]
  },
  {
   "cell_type": "code",
   "execution_count": 403,
   "id": "097bee74",
   "metadata": {},
   "outputs": [],
   "source": [
    "df[\"second\"].fillna(\"0\", inplace = True)"
   ]
  },
  {
   "cell_type": "code",
   "execution_count": 404,
   "id": "d9c5dd9f",
   "metadata": {},
   "outputs": [],
   "source": [
    "df[\"layer2HDD\"] = df[\"second\"].apply(lambda x: 1 if \"HDD\" in x else 0)\n",
    "df[\"layer2SSD\"] = df[\"second\"].apply(lambda x: 1 if \"SSD\" in x else 0)\n",
    "df[\"layer2Hybrid\"] = df[\"second\"].apply(lambda x: 1 if \"Hybrid\" in x else 0)\n",
    "df[\"layer2Flash_Storage\"] = df[\"second\"].apply(lambda x: 1 if \"Flash Storage\" in x else 0)"
   ]
  },
  {
   "cell_type": "code",
   "execution_count": 405,
   "id": "e6c28b01",
   "metadata": {},
   "outputs": [],
   "source": [
    "df['second'] = df['second'].str.replace(r'\\D', '')"
   ]
  },
  {
   "cell_type": "code",
   "execution_count": 406,
   "id": "dd6588e3",
   "metadata": {},
   "outputs": [],
   "source": [
    "def change_type(value):\n",
    "    if value != '':\n",
    "        return int(value)\n",
    "    else:\n",
    "        return int(0)"
   ]
  },
  {
   "cell_type": "code",
   "execution_count": 407,
   "id": "73f0b799",
   "metadata": {},
   "outputs": [],
   "source": [
    "df['first'] =  df['first'].apply(change_type)\n",
    "df['second'] =  df['second'].apply(change_type)"
   ]
  },
  {
   "cell_type": "code",
   "execution_count": 408,
   "id": "b37cbde5",
   "metadata": {},
   "outputs": [],
   "source": [
    "df[\"HDD\"]=(df[\"first\"]*df[\"layer1HDD\"]+df[\"second\"]*df[\"layer2HDD\"])\n",
    "df[\"SSD\"]=(df[\"first\"]*df[\"layer1SSD\"]+df[\"second\"]*df[\"layer2SSD\"])\n",
    "df[\"Hybrid\"]=(df[\"first\"]*df[\"layer1Hybrid\"]+df[\"second\"]*df[\"layer2Hybrid\"])\n",
    "df[\"Flash_Storage\"]=(df[\"first\"]*df[\"layer1Flash_Storage\"]+df[\"second\"]*df[\"layer2Flash_Storage\"])"
   ]
  },
  {
   "cell_type": "code",
   "execution_count": 409,
   "id": "c31caf7f",
   "metadata": {},
   "outputs": [],
   "source": [
    "# now, we delete all un-necessary columns\n",
    "\n",
    "df.drop(columns=['first', 'second', 'layer1HDD', 'layer1SSD', 'layer1Hybrid',\n",
    "       'layer1Flash_Storage', 'layer2HDD', 'layer2SSD', 'layer2Hybrid',\n",
    "       'layer2Flash_Storage'],inplace=True)"
   ]
  },
  {
   "cell_type": "code",
   "execution_count": 410,
   "id": "a583a327",
   "metadata": {},
   "outputs": [
    {
     "data": {
      "text/html": [
       "<div>\n",
       "<style scoped>\n",
       "    .dataframe tbody tr th:only-of-type {\n",
       "        vertical-align: middle;\n",
       "    }\n",
       "\n",
       "    .dataframe tbody tr th {\n",
       "        vertical-align: top;\n",
       "    }\n",
       "\n",
       "    .dataframe thead th {\n",
       "        text-align: right;\n",
       "    }\n",
       "</style>\n",
       "<table border=\"1\" class=\"dataframe\">\n",
       "  <thead>\n",
       "    <tr style=\"text-align: right;\">\n",
       "      <th></th>\n",
       "      <th>company</th>\n",
       "      <th>typename</th>\n",
       "      <th>ram</th>\n",
       "      <th>memory</th>\n",
       "      <th>weight</th>\n",
       "      <th>price</th>\n",
       "      <th>gpu_brand</th>\n",
       "      <th>os</th>\n",
       "      <th>cpu_brand</th>\n",
       "      <th>touchscreen</th>\n",
       "      <th>ips</th>\n",
       "      <th>ppi</th>\n",
       "      <th>HDD</th>\n",
       "      <th>SSD</th>\n",
       "      <th>Hybrid</th>\n",
       "      <th>Flash_Storage</th>\n",
       "    </tr>\n",
       "  </thead>\n",
       "  <tbody>\n",
       "    <tr>\n",
       "      <th>1094</th>\n",
       "      <td>HP</td>\n",
       "      <td>Netbook</td>\n",
       "      <td>4</td>\n",
       "      <td>128 SSD</td>\n",
       "      <td>2.4</td>\n",
       "      <td>85194.72</td>\n",
       "      <td>Intel</td>\n",
       "      <td>Windows</td>\n",
       "      <td>Intel Core i5</td>\n",
       "      <td>0.0</td>\n",
       "      <td>0.0</td>\n",
       "      <td>125.367428</td>\n",
       "      <td>0</td>\n",
       "      <td>128</td>\n",
       "      <td>0</td>\n",
       "      <td>0</td>\n",
       "    </tr>\n",
       "    <tr>\n",
       "      <th>699</th>\n",
       "      <td>NaN</td>\n",
       "      <td>NaN</td>\n",
       "      <td>NaN</td>\n",
       "      <td>nan</td>\n",
       "      <td>NaN</td>\n",
       "      <td>NaN</td>\n",
       "      <td>NaN</td>\n",
       "      <td>NaN</td>\n",
       "      <td>NaN</td>\n",
       "      <td>NaN</td>\n",
       "      <td>NaN</td>\n",
       "      <td>141.211998</td>\n",
       "      <td>0</td>\n",
       "      <td>0</td>\n",
       "      <td>0</td>\n",
       "      <td>0</td>\n",
       "    </tr>\n",
       "    <tr>\n",
       "      <th>176</th>\n",
       "      <td>Acer</td>\n",
       "      <td>Notebook</td>\n",
       "      <td>4</td>\n",
       "      <td>128 SSD</td>\n",
       "      <td>2.1</td>\n",
       "      <td>23922.72</td>\n",
       "      <td>Intel</td>\n",
       "      <td>Windows</td>\n",
       "      <td>Intel Core i3</td>\n",
       "      <td>0.0</td>\n",
       "      <td>0.0</td>\n",
       "      <td>100.454670</td>\n",
       "      <td>0</td>\n",
       "      <td>128</td>\n",
       "      <td>0</td>\n",
       "      <td>0</td>\n",
       "    </tr>\n",
       "  </tbody>\n",
       "</table>\n",
       "</div>"
      ],
      "text/plain": [
       "     company  typename  ram   memory weight     price gpu_brand       os  \\\n",
       "1094      HP   Netbook    4  128 SSD    2.4  85194.72     Intel  Windows   \n",
       "699      NaN       NaN  NaN      nan    NaN       NaN       NaN      NaN   \n",
       "176     Acer  Notebook    4  128 SSD    2.1  23922.72     Intel  Windows   \n",
       "\n",
       "          cpu_brand  touchscreen  ips         ppi  HDD  SSD  Hybrid  \\\n",
       "1094  Intel Core i5          0.0  0.0  125.367428    0  128       0   \n",
       "699             NaN          NaN  NaN  141.211998    0    0       0   \n",
       "176   Intel Core i3          0.0  0.0  100.454670    0  128       0   \n",
       "\n",
       "      Flash_Storage  \n",
       "1094              0  \n",
       "699               0  \n",
       "176               0  "
      ]
     },
     "execution_count": 410,
     "metadata": {},
     "output_type": "execute_result"
    }
   ],
   "source": [
    "df.sample(3)"
   ]
  },
  {
   "cell_type": "code",
   "execution_count": 411,
   "id": "7955f7ee",
   "metadata": {},
   "outputs": [],
   "source": [
    "df.drop('memory', axis=1, inplace=True)"
   ]
  },
  {
   "cell_type": "code",
   "execution_count": null,
   "id": "31fba77f",
   "metadata": {},
   "outputs": [],
   "source": []
  },
  {
   "cell_type": "markdown",
   "id": "b72d88cf",
   "metadata": {},
   "source": [
    "### Modify Data-Types of the Columns"
   ]
  },
  {
   "cell_type": "code",
   "execution_count": 412,
   "id": "1851630c",
   "metadata": {},
   "outputs": [
    {
     "data": {
      "text/plain": [
       "company           object\n",
       "typename          object\n",
       "ram               object\n",
       "weight            object\n",
       "price            float64\n",
       "gpu_brand         object\n",
       "os                object\n",
       "cpu_brand         object\n",
       "touchscreen      float64\n",
       "ips              float64\n",
       "ppi              float64\n",
       "HDD                int64\n",
       "SSD                int64\n",
       "Hybrid             int64\n",
       "Flash_Storage      int64\n",
       "dtype: object"
      ]
     },
     "execution_count": 412,
     "metadata": {},
     "output_type": "execute_result"
    }
   ],
   "source": [
    "df.dtypes\n",
    "\n",
    "# Two columns`(ram, weight)` in our dataframe have object, we need to modify \n",
    "# the data-tpes of these columns"
   ]
  },
  {
   "cell_type": "code",
   "execution_count": 413,
   "id": "3c5c988f",
   "metadata": {},
   "outputs": [],
   "source": [
    "# df.isna().sum()"
   ]
  },
  {
   "cell_type": "code",
   "execution_count": 414,
   "id": "6cd56144",
   "metadata": {},
   "outputs": [],
   "source": [
    "df.ram = df.ram.astype(float)\n",
    "df.weight = df.weight.astype(float)"
   ]
  },
  {
   "cell_type": "code",
   "execution_count": 415,
   "id": "4be1e175",
   "metadata": {},
   "outputs": [
    {
     "data": {
      "text/plain": [
       "company           object\n",
       "typename          object\n",
       "ram              float64\n",
       "weight           float64\n",
       "price            float64\n",
       "gpu_brand         object\n",
       "os                object\n",
       "cpu_brand         object\n",
       "touchscreen      float64\n",
       "ips              float64\n",
       "ppi              float64\n",
       "HDD                int64\n",
       "SSD                int64\n",
       "Hybrid             int64\n",
       "Flash_Storage      int64\n",
       "dtype: object"
      ]
     },
     "execution_count": 415,
     "metadata": {},
     "output_type": "execute_result"
    }
   ],
   "source": [
    "df.dtypes"
   ]
  },
  {
   "cell_type": "code",
   "execution_count": null,
   "id": "3514576c",
   "metadata": {},
   "outputs": [],
   "source": []
  },
  {
   "cell_type": "markdown",
   "id": "ecc5541e",
   "metadata": {},
   "source": [
    "## Exploratory Data Analysis\n",
    "\n",
    "\n",
    "- Correlation analysis\n",
    "- Distribution analysis\n",
    "- Outlier detection"
   ]
  },
  {
   "cell_type": "code",
   "execution_count": 416,
   "id": "588544ae",
   "metadata": {},
   "outputs": [
    {
     "name": "stdout",
     "output_type": "stream",
     "text": [
      "Numerical Columns are:  ['ram', 'weight', 'price', 'touchscreen', 'ips', 'ppi', 'HDD', 'SSD', 'Hybrid', 'Flash_Storage']\n",
      "Categorical columns are:  ['company', 'typename', 'gpu_brand', 'os', 'cpu_brand']\n"
     ]
    }
   ],
   "source": [
    "# Separate Numerical columns and Categorical columns\n",
    "numerical_columns = df.select_dtypes(include=np.number).columns.to_list()\n",
    "print(\"Numerical Columns are: \", numerical_columns)\n",
    "\n",
    "\n",
    "categorical_columns = df.select_dtypes(exclude=np.number).columns.to_list()\n",
    "print(\"Categorical columns are: \", categorical_columns)"
   ]
  },
  {
   "cell_type": "code",
   "execution_count": 417,
   "id": "74257172",
   "metadata": {},
   "outputs": [
    {
     "data": {
      "text/html": [
       "<div>\n",
       "<style scoped>\n",
       "    .dataframe tbody tr th:only-of-type {\n",
       "        vertical-align: middle;\n",
       "    }\n",
       "\n",
       "    .dataframe tbody tr th {\n",
       "        vertical-align: top;\n",
       "    }\n",
       "\n",
       "    .dataframe thead th {\n",
       "        text-align: right;\n",
       "    }\n",
       "</style>\n",
       "<table border=\"1\" class=\"dataframe\">\n",
       "  <thead>\n",
       "    <tr style=\"text-align: right;\">\n",
       "      <th></th>\n",
       "      <th>ram</th>\n",
       "      <th>weight</th>\n",
       "      <th>price</th>\n",
       "      <th>touchscreen</th>\n",
       "      <th>ips</th>\n",
       "      <th>ppi</th>\n",
       "      <th>HDD</th>\n",
       "      <th>SSD</th>\n",
       "      <th>Hybrid</th>\n",
       "      <th>Flash_Storage</th>\n",
       "    </tr>\n",
       "  </thead>\n",
       "  <tbody>\n",
       "    <tr>\n",
       "      <th>count</th>\n",
       "      <td>1272.000000</td>\n",
       "      <td>1271.000000</td>\n",
       "      <td>1272.000000</td>\n",
       "      <td>1272.000000</td>\n",
       "      <td>1272.000000</td>\n",
       "      <td>1301.000000</td>\n",
       "      <td>1302.000000</td>\n",
       "      <td>1302.000000</td>\n",
       "      <td>1302.000000</td>\n",
       "      <td>1302.000000</td>\n",
       "    </tr>\n",
       "    <tr>\n",
       "      <th>mean</th>\n",
       "      <td>8.466195</td>\n",
       "      <td>2.078348</td>\n",
       "      <td>59975.345751</td>\n",
       "      <td>0.144654</td>\n",
       "      <td>0.281447</td>\n",
       "      <td>145.834769</td>\n",
       "      <td>405.652842</td>\n",
       "      <td>179.231951</td>\n",
       "      <td>8.838710</td>\n",
       "      <td>4.460829</td>\n",
       "    </tr>\n",
       "    <tr>\n",
       "      <th>std</th>\n",
       "      <td>5.565188</td>\n",
       "      <td>0.807706</td>\n",
       "      <td>37340.426973</td>\n",
       "      <td>0.351890</td>\n",
       "      <td>0.449882</td>\n",
       "      <td>42.900756</td>\n",
       "      <td>514.783600</td>\n",
       "      <td>186.393746</td>\n",
       "      <td>92.602429</td>\n",
       "      <td>30.222077</td>\n",
       "    </tr>\n",
       "    <tr>\n",
       "      <th>min</th>\n",
       "      <td>1.000000</td>\n",
       "      <td>0.000200</td>\n",
       "      <td>9270.720000</td>\n",
       "      <td>0.000000</td>\n",
       "      <td>0.000000</td>\n",
       "      <td>44.019462</td>\n",
       "      <td>0.000000</td>\n",
       "      <td>0.000000</td>\n",
       "      <td>0.000000</td>\n",
       "      <td>0.000000</td>\n",
       "    </tr>\n",
       "    <tr>\n",
       "      <th>25%</th>\n",
       "      <td>4.000000</td>\n",
       "      <td>1.500000</td>\n",
       "      <td>31914.720000</td>\n",
       "      <td>0.000000</td>\n",
       "      <td>0.000000</td>\n",
       "      <td>127.335675</td>\n",
       "      <td>0.000000</td>\n",
       "      <td>0.000000</td>\n",
       "      <td>0.000000</td>\n",
       "      <td>0.000000</td>\n",
       "    </tr>\n",
       "    <tr>\n",
       "      <th>50%</th>\n",
       "      <td>8.000000</td>\n",
       "      <td>2.040000</td>\n",
       "      <td>52161.120000</td>\n",
       "      <td>0.000000</td>\n",
       "      <td>0.000000</td>\n",
       "      <td>141.211998</td>\n",
       "      <td>0.000000</td>\n",
       "      <td>128.000000</td>\n",
       "      <td>0.000000</td>\n",
       "      <td>0.000000</td>\n",
       "    </tr>\n",
       "    <tr>\n",
       "      <th>75%</th>\n",
       "      <td>8.000000</td>\n",
       "      <td>2.320000</td>\n",
       "      <td>79346.840400</td>\n",
       "      <td>0.000000</td>\n",
       "      <td>1.000000</td>\n",
       "      <td>157.350512</td>\n",
       "      <td>1000.000000</td>\n",
       "      <td>256.000000</td>\n",
       "      <td>0.000000</td>\n",
       "      <td>0.000000</td>\n",
       "    </tr>\n",
       "    <tr>\n",
       "      <th>max</th>\n",
       "      <td>64.000000</td>\n",
       "      <td>11.100000</td>\n",
       "      <td>324954.720000</td>\n",
       "      <td>1.000000</td>\n",
       "      <td>1.000000</td>\n",
       "      <td>352.465147</td>\n",
       "      <td>2000.000000</td>\n",
       "      <td>1024.000000</td>\n",
       "      <td>1000.000000</td>\n",
       "      <td>512.000000</td>\n",
       "    </tr>\n",
       "  </tbody>\n",
       "</table>\n",
       "</div>"
      ],
      "text/plain": [
       "               ram       weight          price  touchscreen          ips  \\\n",
       "count  1272.000000  1271.000000    1272.000000  1272.000000  1272.000000   \n",
       "mean      8.466195     2.078348   59975.345751     0.144654     0.281447   \n",
       "std       5.565188     0.807706   37340.426973     0.351890     0.449882   \n",
       "min       1.000000     0.000200    9270.720000     0.000000     0.000000   \n",
       "25%       4.000000     1.500000   31914.720000     0.000000     0.000000   \n",
       "50%       8.000000     2.040000   52161.120000     0.000000     0.000000   \n",
       "75%       8.000000     2.320000   79346.840400     0.000000     1.000000   \n",
       "max      64.000000    11.100000  324954.720000     1.000000     1.000000   \n",
       "\n",
       "               ppi          HDD          SSD       Hybrid  Flash_Storage  \n",
       "count  1301.000000  1302.000000  1302.000000  1302.000000    1302.000000  \n",
       "mean    145.834769   405.652842   179.231951     8.838710       4.460829  \n",
       "std      42.900756   514.783600   186.393746    92.602429      30.222077  \n",
       "min      44.019462     0.000000     0.000000     0.000000       0.000000  \n",
       "25%     127.335675     0.000000     0.000000     0.000000       0.000000  \n",
       "50%     141.211998     0.000000   128.000000     0.000000       0.000000  \n",
       "75%     157.350512  1000.000000   256.000000     0.000000       0.000000  \n",
       "max     352.465147  2000.000000  1024.000000  1000.000000     512.000000  "
      ]
     },
     "execution_count": 417,
     "metadata": {},
     "output_type": "execute_result"
    }
   ],
   "source": [
    "# Descriptive statistics\n",
    "\n",
    "df.describe()"
   ]
  },
  {
   "cell_type": "code",
   "execution_count": 418,
   "id": "df23883f",
   "metadata": {},
   "outputs": [
    {
     "data": {
      "text/html": [
       "<div>\n",
       "<style scoped>\n",
       "    .dataframe tbody tr th:only-of-type {\n",
       "        vertical-align: middle;\n",
       "    }\n",
       "\n",
       "    .dataframe tbody tr th {\n",
       "        vertical-align: top;\n",
       "    }\n",
       "\n",
       "    .dataframe thead th {\n",
       "        text-align: right;\n",
       "    }\n",
       "</style>\n",
       "<table border=\"1\" class=\"dataframe\">\n",
       "  <thead>\n",
       "    <tr style=\"text-align: right;\">\n",
       "      <th></th>\n",
       "      <th>ram</th>\n",
       "      <th>weight</th>\n",
       "      <th>price</th>\n",
       "      <th>touchscreen</th>\n",
       "      <th>ips</th>\n",
       "      <th>ppi</th>\n",
       "      <th>HDD</th>\n",
       "      <th>SSD</th>\n",
       "      <th>Hybrid</th>\n",
       "      <th>Flash_Storage</th>\n",
       "    </tr>\n",
       "  </thead>\n",
       "  <tbody>\n",
       "    <tr>\n",
       "      <th>ram</th>\n",
       "      <td>1.000000</td>\n",
       "      <td>0.282795</td>\n",
       "      <td>0.685521</td>\n",
       "      <td>0.096109</td>\n",
       "      <td>0.216237</td>\n",
       "      <td>0.291125</td>\n",
       "      <td>0.075651</td>\n",
       "      <td>0.568094</td>\n",
       "      <td>0.034111</td>\n",
       "      <td>-0.055145</td>\n",
       "    </tr>\n",
       "    <tr>\n",
       "      <th>weight</th>\n",
       "      <td>0.282795</td>\n",
       "      <td>1.000000</td>\n",
       "      <td>0.175448</td>\n",
       "      <td>-0.249658</td>\n",
       "      <td>0.003669</td>\n",
       "      <td>-0.275170</td>\n",
       "      <td>0.406987</td>\n",
       "      <td>-0.027494</td>\n",
       "      <td>0.074647</td>\n",
       "      <td>-0.153042</td>\n",
       "    </tr>\n",
       "    <tr>\n",
       "      <th>price</th>\n",
       "      <td>0.685521</td>\n",
       "      <td>0.175448</td>\n",
       "      <td>1.000000</td>\n",
       "      <td>0.190738</td>\n",
       "      <td>0.255987</td>\n",
       "      <td>0.471335</td>\n",
       "      <td>-0.095855</td>\n",
       "      <td>0.668271</td>\n",
       "      <td>0.007794</td>\n",
       "      <td>-0.037881</td>\n",
       "    </tr>\n",
       "    <tr>\n",
       "      <th>touchscreen</th>\n",
       "      <td>0.096109</td>\n",
       "      <td>-0.249658</td>\n",
       "      <td>0.190738</td>\n",
       "      <td>1.000000</td>\n",
       "      <td>0.150160</td>\n",
       "      <td>0.441472</td>\n",
       "      <td>-0.202834</td>\n",
       "      <td>0.248718</td>\n",
       "      <td>-0.039732</td>\n",
       "      <td>-0.024002</td>\n",
       "    </tr>\n",
       "    <tr>\n",
       "      <th>ips</th>\n",
       "      <td>0.216237</td>\n",
       "      <td>0.003669</td>\n",
       "      <td>0.255987</td>\n",
       "      <td>0.150160</td>\n",
       "      <td>1.000000</td>\n",
       "      <td>0.304672</td>\n",
       "      <td>-0.096804</td>\n",
       "      <td>0.234058</td>\n",
       "      <td>-0.023128</td>\n",
       "      <td>0.066671</td>\n",
       "    </tr>\n",
       "    <tr>\n",
       "      <th>ppi</th>\n",
       "      <td>0.291125</td>\n",
       "      <td>-0.275170</td>\n",
       "      <td>0.471335</td>\n",
       "      <td>0.441472</td>\n",
       "      <td>0.304672</td>\n",
       "      <td>1.000000</td>\n",
       "      <td>-0.285326</td>\n",
       "      <td>0.502921</td>\n",
       "      <td>-0.018547</td>\n",
       "      <td>0.076746</td>\n",
       "    </tr>\n",
       "    <tr>\n",
       "      <th>HDD</th>\n",
       "      <td>0.075651</td>\n",
       "      <td>0.406987</td>\n",
       "      <td>-0.095855</td>\n",
       "      <td>-0.202834</td>\n",
       "      <td>-0.096804</td>\n",
       "      <td>-0.285326</td>\n",
       "      <td>1.000000</td>\n",
       "      <td>-0.373160</td>\n",
       "      <td>-0.075271</td>\n",
       "      <td>-0.113239</td>\n",
       "    </tr>\n",
       "    <tr>\n",
       "      <th>SSD</th>\n",
       "      <td>0.568094</td>\n",
       "      <td>-0.027494</td>\n",
       "      <td>0.668271</td>\n",
       "      <td>0.248718</td>\n",
       "      <td>0.234058</td>\n",
       "      <td>0.502921</td>\n",
       "      <td>-0.373160</td>\n",
       "      <td>1.000000</td>\n",
       "      <td>-0.057651</td>\n",
       "      <td>-0.142039</td>\n",
       "    </tr>\n",
       "    <tr>\n",
       "      <th>Hybrid</th>\n",
       "      <td>0.034111</td>\n",
       "      <td>0.074647</td>\n",
       "      <td>0.007794</td>\n",
       "      <td>-0.039732</td>\n",
       "      <td>-0.023128</td>\n",
       "      <td>-0.018547</td>\n",
       "      <td>-0.075271</td>\n",
       "      <td>-0.057651</td>\n",
       "      <td>1.000000</td>\n",
       "      <td>-0.014099</td>\n",
       "    </tr>\n",
       "    <tr>\n",
       "      <th>Flash_Storage</th>\n",
       "      <td>-0.055145</td>\n",
       "      <td>-0.153042</td>\n",
       "      <td>-0.037881</td>\n",
       "      <td>-0.024002</td>\n",
       "      <td>0.066671</td>\n",
       "      <td>0.076746</td>\n",
       "      <td>-0.113239</td>\n",
       "      <td>-0.142039</td>\n",
       "      <td>-0.014099</td>\n",
       "      <td>1.000000</td>\n",
       "    </tr>\n",
       "  </tbody>\n",
       "</table>\n",
       "</div>"
      ],
      "text/plain": [
       "                    ram    weight     price  touchscreen       ips       ppi  \\\n",
       "ram            1.000000  0.282795  0.685521     0.096109  0.216237  0.291125   \n",
       "weight         0.282795  1.000000  0.175448    -0.249658  0.003669 -0.275170   \n",
       "price          0.685521  0.175448  1.000000     0.190738  0.255987  0.471335   \n",
       "touchscreen    0.096109 -0.249658  0.190738     1.000000  0.150160  0.441472   \n",
       "ips            0.216237  0.003669  0.255987     0.150160  1.000000  0.304672   \n",
       "ppi            0.291125 -0.275170  0.471335     0.441472  0.304672  1.000000   \n",
       "HDD            0.075651  0.406987 -0.095855    -0.202834 -0.096804 -0.285326   \n",
       "SSD            0.568094 -0.027494  0.668271     0.248718  0.234058  0.502921   \n",
       "Hybrid         0.034111  0.074647  0.007794    -0.039732 -0.023128 -0.018547   \n",
       "Flash_Storage -0.055145 -0.153042 -0.037881    -0.024002  0.066671  0.076746   \n",
       "\n",
       "                    HDD       SSD    Hybrid  Flash_Storage  \n",
       "ram            0.075651  0.568094  0.034111      -0.055145  \n",
       "weight         0.406987 -0.027494  0.074647      -0.153042  \n",
       "price         -0.095855  0.668271  0.007794      -0.037881  \n",
       "touchscreen   -0.202834  0.248718 -0.039732      -0.024002  \n",
       "ips           -0.096804  0.234058 -0.023128       0.066671  \n",
       "ppi           -0.285326  0.502921 -0.018547       0.076746  \n",
       "HDD            1.000000 -0.373160 -0.075271      -0.113239  \n",
       "SSD           -0.373160  1.000000 -0.057651      -0.142039  \n",
       "Hybrid        -0.075271 -0.057651  1.000000      -0.014099  \n",
       "Flash_Storage -0.113239 -0.142039 -0.014099       1.000000  "
      ]
     },
     "execution_count": 418,
     "metadata": {},
     "output_type": "execute_result"
    }
   ],
   "source": [
    "corr = df.corr()\n",
    "corr"
   ]
  },
  {
   "cell_type": "code",
   "execution_count": 419,
   "id": "b83ac8e2",
   "metadata": {},
   "outputs": [
    {
     "data": {
      "image/png": "[encoded data removed]",
      "text/plain": [
       "<Figure size 576x576 with 2 Axes>"
      ]
     },
     "metadata": {},
     "output_type": "display_data"
    }
   ],
   "source": [
    "# Correlation analysis\n",
    "sns.set_style('darkgrid')\n",
    "plt.figure(figsize=(8,8))\n",
    "corr = df.corr()\n",
    "sns.heatmap(corr, annot=True, cmap='coolwarm');"
   ]
  },
  {
   "cell_type": "code",
   "execution_count": 420,
   "id": "b17c680c",
   "metadata": {
    "scrolled": true
   },
   "outputs": [
    {
     "data": {
      "image/png": "[encoded data removed]",
      "text/plain": [
       "<Figure size 432x288 with 1 Axes>"
      ]
     },
     "metadata": {},
     "output_type": "display_data"
    },
    {
     "data": {
      "image/png": "[encoded data removed]",
      "text/plain": [
       "<Figure size 360x360 with 1 Axes>"
      ]
     },
     "metadata": {},
     "output_type": "display_data"
    },
    {
     "data": {
      "image/png": "[encoded data removed]",
      "text/plain": [
       "<Figure size 360x360 with 1 Axes>"
      ]
     },
     "metadata": {},
     "output_type": "display_data"
    },
    {
     "data": {
      "image/png": "[encoded data removed]",
      "text/plain": [
       "<Figure size 360x360 with 1 Axes>"
      ]
     },
     "metadata": {},
     "output_type": "display_data"
    },
    {
     "data": {
      "image/png": "[encoded data removed]",
      "text/plain": [
       "<Figure size 360x360 with 1 Axes>"
      ]
     },
     "metadata": {},
     "output_type": "display_data"
    },
    {
     "data": {
      "image/png": "[encoded data removed]",
      "text/plain": [
       "<Figure size 360x360 with 1 Axes>"
      ]
     },
     "metadata": {},
     "output_type": "display_data"
    },
    {
     "data": {
      "image/png": "[encoded data removed]",
      "text/plain": [
       "<Figure size 360x360 with 1 Axes>"
      ]
     },
     "metadata": {},
     "output_type": "display_data"
    },
    {
     "data": {
      "image/png": "[encoded data removed]",
      "text/plain": [
       "<Figure size 360x360 with 1 Axes>"
      ]
     },
     "metadata": {},
     "output_type": "display_data"
    },
    {
     "data": {
      "image/png": "[encoded data removed]",
      "text/plain": [
       "<Figure size 360x360 with 1 Axes>"
      ]
     },
     "metadata": {},
     "output_type": "display_data"
    },
    {
     "data": {
      "image/png": "[encoded data removed]",
      "text/plain": [
       "<Figure size 360x360 with 1 Axes>"
      ]
     },
     "metadata": {},
     "output_type": "display_data"
    },
    {
     "data": {
      "image/png": "[encoded data removed]",
      "text/plain": [
       "<Figure size 360x360 with 1 Axes>"
      ]
     },
     "metadata": {},
     "output_type": "display_data"
    }
   ],
   "source": [
    "# Distribution analysis\n",
    "for col in numerical_columns:\n",
    "    plt.title(col, fontsize=15)\n",
    "    sns.displot(df[col], kde=True)"
   ]
  },
  {
   "cell_type": "code",
   "execution_count": 424,
   "id": "c96cb7b3",
   "metadata": {},
   "outputs": [
    {
     "data": {
      "image/png": "[encoded data removed]",
      "text/plain": [
       "<Figure size 576x576 with 1 Axes>"
      ]
     },
     "metadata": {},
     "output_type": "display_data"
    }
   ],
   "source": [
    "# Outlier detection\n",
    "plt.figure(figsize=(8,8))\n",
    "sns.boxplot(data=df.drop('price', axis=1));"
   ]
  },
  {
   "cell_type": "code",
   "execution_count": 425,
   "id": "65256749",
   "metadata": {
    "collapsed": true
   },
   "outputs": [
    {
     "data": {
      "image/png": "[encoded data removed]",
      "text/plain": [
       "<Figure size 576x576 with 1 Axes>"
      ]
     },
     "metadata": {},
     "output_type": "display_data"
    }
   ],
   "source": [
    "# Outlier detection\n",
    "plt.figure(figsize=(8,8))\n",
    "sns.boxplot(data=df['price']);"
   ]
  },
  {
   "cell_type": "code",
   "execution_count": 315,
   "id": "f9a87901",
   "metadata": {},
   "outputs": [
    {
     "data": {
      "image/png": "[encoded data removed]",
      "text/plain": [
       "<Figure size 576x576 with 1 Axes>"
      ]
     },
     "metadata": {},
     "output_type": "display_data"
    },
    {
     "data": {
      "image/png": "[encoded data removed]",
      "text/plain": [
       "<Figure size 432x288 with 1 Axes>"
      ]
     },
     "metadata": {},
     "output_type": "display_data"
    },
    {
     "data": {
      "image/png": "[encoded data removed]",
      "text/plain": [
       "<Figure size 432x288 with 1 Axes>"
      ]
     },
     "metadata": {},
     "output_type": "display_data"
    },
    {
     "data": {
      "image/png": "[encoded data removed]",
      "text/plain": [
       "<Figure size 432x288 with 1 Axes>"
      ]
     },
     "metadata": {},
     "output_type": "display_data"
    },
    {
     "data": {
      "image/png": "[encoded data removed]",
      "text/plain": [
       "<Figure size 432x288 with 1 Axes>"
      ]
     },
     "metadata": {},
     "output_type": "display_data"
    },
    {
     "data": {
      "image/png": "[encoded data removed]",
      "text/plain": [
       "<Figure size 432x288 with 1 Axes>"
      ]
     },
     "metadata": {},
     "output_type": "display_data"
    },
    {
     "data": {
      "image/png": "[encoded data removed]",
      "text/plain": [
       "<Figure size 432x288 with 1 Axes>"
      ]
     },
     "metadata": {},
     "output_type": "display_data"
    },
    {
     "data": {
      "image/png": "[encoded data removed]",
      "text/plain": [
       "<Figure size 432x288 with 1 Axes>"
      ]
     },
     "metadata": {},
     "output_type": "display_data"
    },
    {
     "data": {
      "image/png": "[encoded data removed]",
      "text/plain": [
       "<Figure size 432x288 with 1 Axes>"
      ]
     },
     "metadata": {},
     "output_type": "display_data"
    },
    {
     "data": {
      "image/png": "[encoded data removed]",
      "text/plain": [
       "<Figure size 432x288 with 1 Axes>"
      ]
     },
     "metadata": {},
     "output_type": "display_data"
    }
   ],
   "source": [
    "# Bi-Variate Analysis\n",
    "\n",
    "plt.figure(figsize=(8,8))\n",
    "\n",
    "for col in numerical_columns:\n",
    "    sns.scatterplot(x=df[col], y=df.price)\n",
    "    plt.title(f\"Scatter Plot of {col} vs Price\")\n",
    "    plt.show()"
   ]
  },
  {
   "cell_type": "code",
   "execution_count": 427,
   "id": "5cc62b75",
   "metadata": {},
   "outputs": [
    {
     "data": {
      "image/png": "[encoded data removed]",
      "text/plain": [
       "<Figure size 576x576 with 1 Axes>"
      ]
     },
     "metadata": {},
     "output_type": "display_data"
    },
    {
     "data": {
      "image/png": "[encoded data removed]",
      "text/plain": [
       "<Figure size 432x288 with 1 Axes>"
      ]
     },
     "metadata": {},
     "output_type": "display_data"
    },
    {
     "data": {
      "image/png": "[encoded data removed]",
      "text/plain": [
       "<Figure size 432x288 with 1 Axes>"
      ]
     },
     "metadata": {},
     "output_type": "display_data"
    },
    {
     "data": {
      "image/png": "[encoded data removed]",
      "text/plain": [
       "<Figure size 432x288 with 1 Axes>"
      ]
     },
     "metadata": {},
     "output_type": "display_data"
    },
    {
     "data": {
      "image/png": "[encoded data removed]",
      "text/plain": [
       "<Figure size 432x288 with 1 Axes>"
      ]
     },
     "metadata": {},
     "output_type": "display_data"
    }
   ],
   "source": [
    "# Bi-Variate Analysis\n",
    "\n",
    "plt.figure(figsize=(8,8))\n",
    "\n",
    "for col in categorical_columns:\n",
    "    sns.boxplot(y=df[col], x=df.price)\n",
    "    plt.title(f\"Scatter Plot of {col} vs Price\")\n",
    "    plt.show()"
   ]
  },
  {
   "cell_type": "markdown",
   "id": "2ebdd705",
   "metadata": {},
   "source": [
    "> **Observation:** Almost every-column contains outliers"
   ]
  },
  {
   "cell_type": "code",
   "execution_count": null,
   "id": "b214c469",
   "metadata": {},
   "outputs": [],
   "source": []
  },
  {
   "cell_type": "code",
   "execution_count": null,
   "id": "54215afd",
   "metadata": {},
   "outputs": [],
   "source": []
  },
  {
   "cell_type": "code",
   "execution_count": null,
   "id": "836ee2df",
   "metadata": {},
   "outputs": [],
   "source": []
  },
  {
   "cell_type": "markdown",
   "id": "2c30c9e2",
   "metadata": {},
   "source": [
    "## Feature Engineering\n",
    "\n",
    "#### Pipeline for\n",
    "- Missing values Imputation\n",
    "- Encoding of Categorical Variables\n",
    "- Handling Outliers\n",
    "- Scaling of Numerical Columns"
   ]
  },
  {
   "cell_type": "markdown",
   "id": "78c63a90",
   "metadata": {},
   "source": [
    "### Detection and Removal of Outliers\n",
    "\n",
    "There are several methods to **detect outliers** in data, including:\n",
    "\n",
    "- **Visualization:** This involves creating graphs and charts to visually inspect the data for any unusual patterns or observations that stand out.\n",
    "\n",
    "- **Descriptive statistics:** This involves using statistical measures such as mean, median, standard deviation, and interquartile range (IQR) to identify any data points that are significantly different from the rest of the data.\n",
    "\n",
    "- **Box plot:** This is a graphical representation of the distribution of data based on the median, IQR, and range of the data. Any data points that fall outside the whiskers of the box plot can be considered outliers.\n",
    "\n",
    "- **Interquatile range:** This involes several quartile values, and an adjustment factor to calculate boundaries for what constitutes minor and major outliers. Minor and major denote the unusualness of the outlier relative to the overall distribution of values. Major outliers are more extreme. Analysts also refer to these categorizations as mild and extreme outliers.\n",
    "\n",
    "- **Z-score:** This involves calculating the number of standard deviations a data point is from the mean. Any data point with a z-score greater than a certain threshold (usually 2 or 3) can be considered an outlier.\n",
    "\n",
    "- **Grubbs' test:** This involves using a statistical test to determine if a data point is significantly different from the rest of the data. The test identifies the most extreme data point and compares it to the rest of the data to determine if it is an outlier. [Here](https://www.statisticshowto.com/grubbs-test/) you can read more about this method.\n",
    "\n",
    "- **Local outlier factor (LOF):** This is a machine learning algorithm that assigns an outlier score to each data point based on the density of its surrounding data points. [Here](https://towardsdatascience.com/local-outlier-factor-lof-algorithm-for-outlier-identification-8efb887d9843) you can read more about this method.\n",
    "\n",
    "Further Reading: [5 ways to Find Outliers in You Data](https://statisticsbyjim.com/basics/outliers/)\n",
    "\n",
    "\n",
    "There are several methods to **handle outliers** in the data, including:\n",
    "\n",
    "- **Deletion:** This involves removing any data points that are considered outliers. This method can be effective but may result in loss of important information and reduction in sample size.\n",
    "\n",
    "- **Imputation:** This involves replacing the outlier values with a substitute value such as the mean, median, or mode. This method may be useful when there are only a few outliers or when the outliers are believed to be due to measurement errors.\n",
    "\n",
    "- **Winsorization:** This involves replacing the extreme values with the nearest value that is not an outlier. For example, the 95th percentile could be replaced with the value at the 95th percentile.\n",
    "\n",
    "- **Transformations:** This involves applying mathematical transformations to the data to reduce the impact of outliers. For example, the data can be transformed using the logarithm function or the square root function.\n",
    "\n",
    "- **Binning:** This involves grouping the data into categories or bins based on the values of the variable. This can be useful when the variable is continuous and there are many outliers.\n",
    "\n",
    "- **Model-based methods:** This involves using statistical models to identify and handle outliers. For example, robust regression models can be used that are less sensitive to outlier.\n",
    "\n",
    "Further Reading: [How to Remove Outliers for Machine Learning?](https://medium.com/analytics-vidhya/how-to-remove-outliers-for-machine-learning-24620c4657e8)"
   ]
  },
  {
   "cell_type": "code",
   "execution_count": 937,
   "id": "68d71ad8",
   "metadata": {},
   "outputs": [],
   "source": [
    "# function to handle outliers for output label\n",
    "from sklearn.preprocessing import FunctionTransformer\n",
    "from sklearn.pipeline import Pipeline\n",
    "\n",
    "def handle_outliers(df, col):\n",
    "    q1 = df[col].quantile(0.25)\n",
    "    q3 = df[col].quantile(0.75)\n",
    "    iqr = q3 - q1\n",
    "    low = q1 - 1.3 * iqr\n",
    "    high = q3 + 1.3 * iqr\n",
    "    return df[(df[col] >= low) & (df[col] <= high)]\n"
   ]
  },
  {
   "cell_type": "code",
   "execution_count": 942,
   "id": "fdf90dda",
   "metadata": {},
   "outputs": [],
   "source": [
    "df = handle_outliers(df, 'price')"
   ]
  },
  {
   "cell_type": "code",
   "execution_count": 944,
   "id": "c5c8ef67",
   "metadata": {},
   "outputs": [
    {
     "data": {
      "image/png": "[encoded data removed]",
      "text/plain": [
       "<Figure size 432x288 with 1 Axes>"
      ]
     },
     "metadata": {},
     "output_type": "display_data"
    }
   ],
   "source": [
    "sns.boxplot(df.price);"
   ]
  },
  {
   "cell_type": "code",
   "execution_count": null,
   "id": "b96c66f8",
   "metadata": {},
   "outputs": [],
   "source": []
  },
  {
   "cell_type": "code",
   "execution_count": null,
   "id": "23da871e",
   "metadata": {},
   "outputs": [],
   "source": []
  },
  {
   "cell_type": "markdown",
   "id": "c8bafd7c",
   "metadata": {},
   "source": [
    "<img src=\"images/outlier.png\">"
   ]
  },
  {
   "cell_type": "code",
   "execution_count": null,
   "id": "aee9dd18",
   "metadata": {},
   "outputs": [],
   "source": []
  },
  {
   "cell_type": "markdown",
   "id": "0f5253a6",
   "metadata": {},
   "source": [
    "### Pipeline for Feature Engineering"
   ]
  },
  {
   "cell_type": "markdown",
   "id": "29c72e07",
   "metadata": {},
   "source": [
    "#### Dealing Missing Values of Numerical Columns\n",
    "\n",
    "- If we use the **mean** strategy, SimpleImputer replaces missing values with the mean value of the non-missing values in the column. This strategy is suitable when the missing values are missing at random, and the distribution of the variable is not skewed.\n",
    "\n",
    "- If we use the **median** strategy, SimpleImputer replaces missing values with the median value of the non-missing values in the column. This strategy is suitable when the variable has a skewed distribution, and the median is a more representative measure of central tendency than the mean.\n",
    "\n",
    "#### Dealing Missing Values of Categorical Columns\n",
    "\n",
    "- Label encoding is used when the categorical data has an inherent order or hierarchy. In label encoding, each unique category is assigned a numerical label, with the labels assigned in ascending order based on their perceived order or hierarchy. For example, if the categorical feature is \"size\" with labels \"small\", \"medium\", and \"large\", label encoding might assign \"small\" a label of 1, \"medium\" a label of 2, and \"large\" a label of 3.\n",
    "\n",
    "- One-hot encoding, on the other hand, is used when the categorical data has no inherent order or hierarchy, and each category is considered equally important. In one-hot encoding, each unique category is assigned a binary feature, with a value of 1 indicating that the instance belongs to that category, and a value of 0 indicating that it does not. For example, if the categorical feature is \"color\" with labels \"red\", \"green\", and \"blue\", one-hot encoding might create three binary features, with a value of 1 in the \"red\" feature indicating that the instance is red, and 0 in the \"green\" and \"blue\" features indicating that it is not green or blue."
   ]
  },
  {
   "cell_type": "code",
   "execution_count": 480,
   "id": "d1dbb667",
   "metadata": {},
   "outputs": [],
   "source": []
  },
  {
   "cell_type": "code",
   "execution_count": null,
   "id": "f5f6fb52",
   "metadata": {},
   "outputs": [],
   "source": []
  },
  {
   "cell_type": "code",
   "execution_count": null,
   "id": "5b861ce4",
   "metadata": {},
   "outputs": [],
   "source": []
  },
  {
   "cell_type": "code",
   "execution_count": null,
   "id": "e1e2ee2e",
   "metadata": {},
   "outputs": [],
   "source": []
  },
  {
   "cell_type": "code",
   "execution_count": null,
   "id": "4fa15eae",
   "metadata": {},
   "outputs": [],
   "source": []
  },
  {
   "cell_type": "code",
   "execution_count": null,
   "id": "2184b5dc",
   "metadata": {},
   "outputs": [],
   "source": []
  },
  {
   "cell_type": "code",
   "execution_count": null,
   "id": "2dde236f",
   "metadata": {},
   "outputs": [],
   "source": []
  },
  {
   "cell_type": "markdown",
   "id": "db2731e9",
   "metadata": {},
   "source": [
    "#### Function to handle Outliers"
   ]
  },
  {
   "cell_type": "code",
   "execution_count": 866,
   "id": "da9e174d",
   "metadata": {},
   "outputs": [],
   "source": [
    "# def handle_outliers(df):\n",
    "#     for col in df.columns:\n",
    "#         Q1 = df[col].quantile(0.25)\n",
    "#         Q3 = df[col].quantile(0.75)\n",
    "#         IQR = Q3 - Q1\n",
    "#         lower_bound = Q1 - (1.3 * IQR)\n",
    "#         upper_bound = Q3 + (1.3 * IQR)\n",
    "#         df = df[(df[col] >= lower_bound) & (df[col] <= upper_bound)]\n",
    "#     return df\n"
   ]
  },
  {
   "cell_type": "code",
   "execution_count": null,
   "id": "6dd24f87",
   "metadata": {},
   "outputs": [],
   "source": []
  },
  {
   "cell_type": "code",
   "execution_count": null,
   "id": "ae743be7",
   "metadata": {},
   "outputs": [],
   "source": []
  },
  {
   "cell_type": "code",
   "execution_count": null,
   "id": "377cfdcc",
   "metadata": {},
   "outputs": [],
   "source": []
  },
  {
   "cell_type": "code",
   "execution_count": null,
   "id": "c2699c85",
   "metadata": {},
   "outputs": [],
   "source": []
  },
  {
   "cell_type": "code",
   "execution_count": null,
   "id": "72d1b057",
   "metadata": {},
   "outputs": [],
   "source": []
  },
  {
   "cell_type": "markdown",
   "id": "6a35af24",
   "metadata": {},
   "source": [
    "### Pipeline for Feature Engineering of Numerical Columns"
   ]
  },
  {
   "cell_type": "code",
   "execution_count": 946,
   "id": "09c25b85",
   "metadata": {},
   "outputs": [],
   "source": [
    "from sklearn.impute import SimpleImputer\n",
    "from sklearn.compose import ColumnTransformer\n",
    "from sklearn.pipeline import Pipeline\n",
    "from sklearn.impute import SimpleImputer\n",
    "from sklearn.preprocessing import StandardScaler, OneHotEncoder\n",
    "\n",
    "num_pipeline = Pipeline([\n",
    "    # Fill missing of numerical columns values with median\n",
    "    ('num_imputer', SimpleImputer(strategy='median', add_indicator=False)),\n",
    "    \n",
    "    # Remove outliers from the numerical columns\n",
    "    ('num_robust', RobustScaler()),\n",
    "    \n",
    "    # Scaling of numerical columns\n",
    "    ('num_scaling', StandardScaler())\n",
    "])"
   ]
  },
  {
   "cell_type": "code",
   "execution_count": null,
   "id": "888408ff",
   "metadata": {},
   "outputs": [],
   "source": []
  },
  {
   "cell_type": "code",
   "execution_count": 842,
   "id": "4738d7f9",
   "metadata": {},
   "outputs": [],
   "source": [
    "# we perform robustscaler on ram, weight, ppi, SSD, HDD, Hybrid, Flash_Storage\n",
    "# we perform standar scaling on ram, weight, ppi, SSD, HDD, Hybrid, Flash_Storage"
   ]
  },
  {
   "cell_type": "code",
   "execution_count": null,
   "id": "584a67f9",
   "metadata": {},
   "outputs": [],
   "source": []
  },
  {
   "cell_type": "code",
   "execution_count": null,
   "id": "ab24f928",
   "metadata": {},
   "outputs": [],
   "source": []
  },
  {
   "cell_type": "code",
   "execution_count": null,
   "id": "3fceaef9",
   "metadata": {},
   "outputs": [],
   "source": []
  },
  {
   "cell_type": "markdown",
   "id": "92160a6b",
   "metadata": {},
   "source": [
    "### Pipeline for Feature Engineering of Categorical Columns"
   ]
  },
  {
   "cell_type": "code",
   "execution_count": 947,
   "id": "19cabf95",
   "metadata": {},
   "outputs": [],
   "source": [
    "cat_pipeline = Pipeline([\n",
    "    # filling missing values of categorical columns with most frequent value\n",
    "    ('cat_imputer', SimpleImputer(strategy='most_frequent')),\n",
    "    \n",
    "    # encoding of categorical columns\n",
    "    ('cat_encoding', OneHotEncoder(sparse=False, handle_unknown='ignore'))\n",
    "])"
   ]
  },
  {
   "cell_type": "code",
   "execution_count": null,
   "id": "00dce63d",
   "metadata": {},
   "outputs": [],
   "source": []
  },
  {
   "cell_type": "code",
   "execution_count": null,
   "id": "dd83efcf",
   "metadata": {},
   "outputs": [],
   "source": []
  },
  {
   "cell_type": "code",
   "execution_count": null,
   "id": "334a04b5",
   "metadata": {},
   "outputs": [],
   "source": []
  },
  {
   "cell_type": "markdown",
   "id": "7310265a",
   "metadata": {},
   "source": [
    "### Column-Transformer for Feature Engineering"
   ]
  },
  {
   "cell_type": "code",
   "execution_count": 948,
   "id": "30a03f05",
   "metadata": {},
   "outputs": [],
   "source": [
    "preprocessor = ColumnTransformer(\n",
    "    transformers=[\n",
    "       ('cat_pipe', cat_pipeline, ['company','typename','gpu_brand','os','cpu_brand']),\n",
    "        ('num_pipe', num_pipeline, ['ram', 'weight', 'ppi', 'SSD', 'HDD', 'Hybrid', 'Flash_Storage'])\n",
    "    ])"
   ]
  },
  {
   "cell_type": "code",
   "execution_count": null,
   "id": "81b75e96",
   "metadata": {},
   "outputs": [],
   "source": []
  },
  {
   "cell_type": "code",
   "execution_count": 1053,
   "id": "7386a67e",
   "metadata": {},
   "outputs": [
    {
     "data": {
      "text/html": [
       "<style>div.sk-top-container {color: black;background-color: white;}div.sk-toggleable {background-color: white;}label.sk-toggleable__label {cursor: pointer;display: block;width: 100%;margin-bottom: 0;padding: 0.2em 0.3em;box-sizing: border-box;text-align: center;}div.sk-toggleable__content {max-height: 0;max-width: 0;overflow: hidden;text-align: left;background-color: #f0f8ff;}div.sk-toggleable__content pre {margin: 0.2em;color: black;border-radius: 0.25em;background-color: #f0f8ff;}input.sk-toggleable__control:checked~div.sk-toggleable__content {max-height: 200px;max-width: 100%;overflow: auto;}div.sk-estimator input.sk-toggleable__control:checked~label.sk-toggleable__label {background-color: #d4ebff;}div.sk-label input.sk-toggleable__control:checked~label.sk-toggleable__label {background-color: #d4ebff;}input.sk-hidden--visually {border: 0;clip: rect(1px 1px 1px 1px);clip: rect(1px, 1px, 1px, 1px);height: 1px;margin: -1px;overflow: hidden;padding: 0;position: absolute;width: 1px;}div.sk-estimator {font-family: monospace;background-color: #f0f8ff;margin: 0.25em 0.25em;border: 1px dotted black;border-radius: 0.25em;box-sizing: border-box;}div.sk-estimator:hover {background-color: #d4ebff;}div.sk-parallel-item::after {content: \"\";width: 100%;border-bottom: 1px solid gray;flex-grow: 1;}div.sk-label:hover label.sk-toggleable__label {background-color: #d4ebff;}div.sk-serial::before {content: \"\";position: absolute;border-left: 1px solid gray;box-sizing: border-box;top: 2em;bottom: 0;left: 50%;}div.sk-serial {display: flex;flex-direction: column;align-items: center;background-color: white;}div.sk-item {z-index: 1;}div.sk-parallel {display: flex;align-items: stretch;justify-content: center;background-color: white;}div.sk-parallel-item {display: flex;flex-direction: column;position: relative;background-color: white;}div.sk-parallel-item:first-child::after {align-self: flex-end;width: 50%;}div.sk-parallel-item:last-child::after {align-self: flex-start;width: 50%;}div.sk-parallel-item:only-child::after {width: 0;}div.sk-dashed-wrapped {border: 1px dashed gray;margin: 0.2em;box-sizing: border-box;padding-bottom: 0.1em;background-color: white;position: relative;}div.sk-label label {font-family: monospace;font-weight: bold;background-color: white;display: inline-block;line-height: 1.2em;}div.sk-label-container {position: relative;z-index: 2;text-align: center;}div.sk-container {display: inline-block;position: relative;}</style><div class=\"sk-top-container\"><div class=\"sk-container\"><div class=\"sk-item sk-dashed-wrapped\"><div class=\"sk-label-container\"><div class=\"sk-label sk-toggleable\"><input class=\"sk-toggleable__control sk-hidden--visually\" id=\"5c3f6c60-f4a9-4732-a1ba-03916fdeb689\" type=\"checkbox\" ><label class=\"sk-toggleable__label\" for=\"5c3f6c60-f4a9-4732-a1ba-03916fdeb689\">ColumnTransformer</label><div class=\"sk-toggleable__content\"><pre>ColumnTransformer(transformers=[('cat_pipe',\n",
       "                                 Pipeline(steps=[('cat_imputer',\n",
       "                                                  SimpleImputer(strategy='most_frequent')),\n",
       "                                                 ('cat_encoding',\n",
       "                                                  OneHotEncoder(handle_unknown='ignore',\n",
       "                                                                sparse=False))]),\n",
       "                                 ['company', 'typename', 'gpu_brand', 'os',\n",
       "                                  'cpu_brand']),\n",
       "                                ('num_pipe',\n",
       "                                 Pipeline(steps=[('num_imputer',\n",
       "                                                  SimpleImputer(strategy='median')),\n",
       "                                                 ('num_robust', RobustScaler()),\n",
       "                                                 ('num_scaling',\n",
       "                                                  StandardScaler())]),\n",
       "                                 ['ram', 'weight', 'ppi', 'SSD', 'HDD',\n",
       "                                  'Hybrid', 'Flash_Storage'])])</pre></div></div></div><div class=\"sk-parallel\"><div class=\"sk-parallel-item\"><div class=\"sk-item\"><div class=\"sk-label-container\"><div class=\"sk-label sk-toggleable\"><input class=\"sk-toggleable__control sk-hidden--visually\" id=\"a074fd96-6dcc-4bf5-a04e-cac874140fbc\" type=\"checkbox\" ><label class=\"sk-toggleable__label\" for=\"a074fd96-6dcc-4bf5-a04e-cac874140fbc\">cat_pipe</label><div class=\"sk-toggleable__content\"><pre>['company', 'typename', 'gpu_brand', 'os', 'cpu_brand']</pre></div></div></div><div class=\"sk-serial\"><div class=\"sk-item\"><div class=\"sk-serial\"><div class=\"sk-item\"><div class=\"sk-estimator sk-toggleable\"><input class=\"sk-toggleable__control sk-hidden--visually\" id=\"bb8d8bce-6c5e-4d12-a6bd-30301b3d4843\" type=\"checkbox\" ><label class=\"sk-toggleable__label\" for=\"bb8d8bce-6c5e-4d12-a6bd-30301b3d4843\">SimpleImputer</label><div class=\"sk-toggleable__content\"><pre>SimpleImputer(strategy='most_frequent')</pre></div></div></div><div class=\"sk-item\"><div class=\"sk-estimator sk-toggleable\"><input class=\"sk-toggleable__control sk-hidden--visually\" id=\"531a1022-4b4f-47bd-9356-3fb446a05572\" type=\"checkbox\" ><label class=\"sk-toggleable__label\" for=\"531a1022-4b4f-47bd-9356-3fb446a05572\">OneHotEncoder</label><div class=\"sk-toggleable__content\"><pre>OneHotEncoder(handle_unknown='ignore', sparse=False)</pre></div></div></div></div></div></div></div></div><div class=\"sk-parallel-item\"><div class=\"sk-item\"><div class=\"sk-label-container\"><div class=\"sk-label sk-toggleable\"><input class=\"sk-toggleable__control sk-hidden--visually\" id=\"605f70fa-1c7d-4fe6-8da3-b7225c4c8a16\" type=\"checkbox\" ><label class=\"sk-toggleable__label\" for=\"605f70fa-1c7d-4fe6-8da3-b7225c4c8a16\">num_pipe</label><div class=\"sk-toggleable__content\"><pre>['ram', 'weight', 'ppi', 'SSD', 'HDD', 'Hybrid', 'Flash_Storage']</pre></div></div></div><div class=\"sk-serial\"><div class=\"sk-item\"><div class=\"sk-serial\"><div class=\"sk-item\"><div class=\"sk-estimator sk-toggleable\"><input class=\"sk-toggleable__control sk-hidden--visually\" id=\"4acbba10-9557-46e7-9817-617dd7f2a85a\" type=\"checkbox\" ><label class=\"sk-toggleable__label\" for=\"4acbba10-9557-46e7-9817-617dd7f2a85a\">SimpleImputer</label><div class=\"sk-toggleable__content\"><pre>SimpleImputer(strategy='median')</pre></div></div></div><div class=\"sk-item\"><div class=\"sk-estimator sk-toggleable\"><input class=\"sk-toggleable__control sk-hidden--visually\" id=\"e56b6b5e-6503-40dc-ab7c-96508a77944b\" type=\"checkbox\" ><label class=\"sk-toggleable__label\" for=\"e56b6b5e-6503-40dc-ab7c-96508a77944b\">RobustScaler</label><div class=\"sk-toggleable__content\"><pre>RobustScaler()</pre></div></div></div><div class=\"sk-item\"><div class=\"sk-estimator sk-toggleable\"><input class=\"sk-toggleable__control sk-hidden--visually\" id=\"c2ed1b77-fbce-48e3-832f-3022ce1559cd\" type=\"checkbox\" ><label class=\"sk-toggleable__label\" for=\"c2ed1b77-fbce-48e3-832f-3022ce1559cd\">StandardScaler</label><div class=\"sk-toggleable__content\"><pre>StandardScaler()</pre></div></div></div></div></div></div></div></div></div></div></div></div>"
      ],
      "text/plain": [
       "ColumnTransformer(transformers=[('cat_pipe',\n",
       "                                 Pipeline(steps=[('cat_imputer',\n",
       "                                                  SimpleImputer(strategy='most_frequent')),\n",
       "                                                 ('cat_encoding',\n",
       "                                                  OneHotEncoder(handle_unknown='ignore',\n",
       "                                                                sparse=False))]),\n",
       "                                 ['company', 'typename', 'gpu_brand', 'os',\n",
       "                                  'cpu_brand']),\n",
       "                                ('num_pipe',\n",
       "                                 Pipeline(steps=[('num_imputer',\n",
       "                                                  SimpleImputer(strategy='median')),\n",
       "                                                 ('num_robust', RobustScaler()),\n",
       "                                                 ('num_scaling',\n",
       "                                                  StandardScaler())]),\n",
       "                                 ['ram', 'weight', 'ppi', 'SSD', 'HDD',\n",
       "                                  'Hybrid', 'Flash_Storage'])])"
      ]
     },
     "metadata": {},
     "output_type": "display_data"
    }
   ],
   "source": [
    "from sklearn import set_config\n",
    "set_config(display='diagram')\n",
    "display(preprocessor)"
   ]
  },
  {
   "cell_type": "code",
   "execution_count": null,
   "id": "21b3f96d",
   "metadata": {},
   "outputs": [],
   "source": []
  },
  {
   "cell_type": "code",
   "execution_count": null,
   "id": "9d1e5d45",
   "metadata": {},
   "outputs": [],
   "source": []
  },
  {
   "cell_type": "code",
   "execution_count": null,
   "id": "9b97216e",
   "metadata": {},
   "outputs": [],
   "source": []
  },
  {
   "cell_type": "markdown",
   "id": "0d77bc2c",
   "metadata": {},
   "source": [
    "### Save Column-Transformer Instance using joblib"
   ]
  },
  {
   "cell_type": "code",
   "execution_count": 1055,
   "id": "a10ce101",
   "metadata": {},
   "outputs": [
    {
     "data": {
      "text/plain": [
       "['model/column_Transfomer']"
      ]
     },
     "execution_count": 1055,
     "metadata": {},
     "output_type": "execute_result"
    }
   ],
   "source": [
    "joblib.dump(preprocessor, 'model/column_Transfomer')"
   ]
  },
  {
   "cell_type": "code",
   "execution_count": null,
   "id": "a71f1217",
   "metadata": {},
   "outputs": [],
   "source": []
  },
  {
   "cell_type": "code",
   "execution_count": null,
   "id": "69008c84",
   "metadata": {},
   "outputs": [],
   "source": []
  },
  {
   "cell_type": "code",
   "execution_count": null,
   "id": "ebcc7102",
   "metadata": {},
   "outputs": [],
   "source": []
  },
  {
   "cell_type": "code",
   "execution_count": null,
   "id": "4cffd608",
   "metadata": {},
   "outputs": [],
   "source": []
  },
  {
   "cell_type": "markdown",
   "id": "277e868c",
   "metadata": {},
   "source": [
    "## Model Building\n",
    "\n",
    "- Separate Features and target variable \n",
    "- Train/Test/Validate Split\n",
    "- Model Training\n",
    "- Model Prediction\n",
    "- Impact of features on target variable"
   ]
  },
  {
   "cell_type": "code",
   "execution_count": 950,
   "id": "f4ab8c7a",
   "metadata": {},
   "outputs": [],
   "source": [
    "# Separate features columns and label column\n",
    "\n",
    "features = df.drop('price', axis=1)\n",
    "label = df['price']"
   ]
  },
  {
   "cell_type": "code",
   "execution_count": 951,
   "id": "2f530272",
   "metadata": {},
   "outputs": [],
   "source": [
    "# Split the dataset into training and testing datasets\n",
    "X_train, X_test, y_train, y_test = train_test_split(features, label, test_size=0.2, random_state=42)\n",
    "\n"
   ]
  },
  {
   "cell_type": "code",
   "execution_count": 952,
   "id": "498b84ab",
   "metadata": {},
   "outputs": [
    {
     "name": "stdout",
     "output_type": "stream",
     "text": [
      "Numerical Columns are:  ['ram', 'weight', 'touchscreen', 'ips', 'ppi', 'HDD', 'SSD', 'Hybrid', 'Flash_Storage']\n",
      "Categorical columns are:  ['company', 'typename', 'gpu_brand', 'os', 'cpu_brand']\n"
     ]
    }
   ],
   "source": [
    "# Separate Numerical columns and Categorical columns\n",
    "numerical_columns = X_train.select_dtypes(include=np.number).columns.to_list()\n",
    "print(\"Numerical Columns are: \", numerical_columns)\n",
    "\n",
    "\n",
    "categorical_columns = X_train.select_dtypes(exclude=np.number).columns.to_list()\n",
    "print(\"Categorical columns are: \", categorical_columns)"
   ]
  },
  {
   "cell_type": "code",
   "execution_count": null,
   "id": "3c88c996",
   "metadata": {},
   "outputs": [],
   "source": []
  },
  {
   "cell_type": "code",
   "execution_count": null,
   "id": "4efa98ee",
   "metadata": {},
   "outputs": [],
   "source": []
  },
  {
   "cell_type": "markdown",
   "id": "fcda3138",
   "metadata": {},
   "source": [
    "#### Fit and Transform"
   ]
  },
  {
   "cell_type": "code",
   "execution_count": 953,
   "id": "2e578d7f",
   "metadata": {},
   "outputs": [],
   "source": [
    "# Fit and transform training data\n",
    "X_train_processed = preprocessor.fit_transform(X_train)"
   ]
  },
  {
   "cell_type": "code",
   "execution_count": 954,
   "id": "ced69fa8",
   "metadata": {},
   "outputs": [],
   "source": [
    "# Transform  test data using the fitted transformer\n",
    "X_test_processed = preprocessor.transform(X_test)"
   ]
  },
  {
   "cell_type": "code",
   "execution_count": null,
   "id": "ff115dba",
   "metadata": {},
   "outputs": [],
   "source": []
  },
  {
   "cell_type": "markdown",
   "id": "2f032f8a",
   "metadata": {},
   "source": [
    "### Linear Regression"
   ]
  },
  {
   "cell_type": "code",
   "execution_count": 955,
   "id": "73d0c003",
   "metadata": {},
   "outputs": [],
   "source": [
    "from sklearn.linear_model import LinearRegression\n",
    "from sklearn.metrics import r2_score, mean_squared_error\n",
    "\n",
    "# create instance/object of linear regression\n",
    "lin_reg = LinearRegression()"
   ]
  },
  {
   "cell_type": "code",
   "execution_count": 956,
   "id": "4963a36d",
   "metadata": {},
   "outputs": [
    {
     "data": {
      "text/html": [
       "<style>div.sk-top-container {color: black;background-color: white;}div.sk-toggleable {background-color: white;}label.sk-toggleable__label {cursor: pointer;display: block;width: 100%;margin-bottom: 0;padding: 0.2em 0.3em;box-sizing: border-box;text-align: center;}div.sk-toggleable__content {max-height: 0;max-width: 0;overflow: hidden;text-align: left;background-color: #f0f8ff;}div.sk-toggleable__content pre {margin: 0.2em;color: black;border-radius: 0.25em;background-color: #f0f8ff;}input.sk-toggleable__control:checked~div.sk-toggleable__content {max-height: 200px;max-width: 100%;overflow: auto;}div.sk-estimator input.sk-toggleable__control:checked~label.sk-toggleable__label {background-color: #d4ebff;}div.sk-label input.sk-toggleable__control:checked~label.sk-toggleable__label {background-color: #d4ebff;}input.sk-hidden--visually {border: 0;clip: rect(1px 1px 1px 1px);clip: rect(1px, 1px, 1px, 1px);height: 1px;margin: -1px;overflow: hidden;padding: 0;position: absolute;width: 1px;}div.sk-estimator {font-family: monospace;background-color: #f0f8ff;margin: 0.25em 0.25em;border: 1px dotted black;border-radius: 0.25em;box-sizing: border-box;}div.sk-estimator:hover {background-color: #d4ebff;}div.sk-parallel-item::after {content: \"\";width: 100%;border-bottom: 1px solid gray;flex-grow: 1;}div.sk-label:hover label.sk-toggleable__label {background-color: #d4ebff;}div.sk-serial::before {content: \"\";position: absolute;border-left: 1px solid gray;box-sizing: border-box;top: 2em;bottom: 0;left: 50%;}div.sk-serial {display: flex;flex-direction: column;align-items: center;background-color: white;}div.sk-item {z-index: 1;}div.sk-parallel {display: flex;align-items: stretch;justify-content: center;background-color: white;}div.sk-parallel-item {display: flex;flex-direction: column;position: relative;background-color: white;}div.sk-parallel-item:first-child::after {align-self: flex-end;width: 50%;}div.sk-parallel-item:last-child::after {align-self: flex-start;width: 50%;}div.sk-parallel-item:only-child::after {width: 0;}div.sk-dashed-wrapped {border: 1px dashed gray;margin: 0.2em;box-sizing: border-box;padding-bottom: 0.1em;background-color: white;position: relative;}div.sk-label label {font-family: monospace;font-weight: bold;background-color: white;display: inline-block;line-height: 1.2em;}div.sk-label-container {position: relative;z-index: 2;text-align: center;}div.sk-container {display: inline-block;position: relative;}</style><div class=\"sk-top-container\"><div class=\"sk-container\"><div class=\"sk-item\"><div class=\"sk-estimator sk-toggleable\"><input class=\"sk-toggleable__control sk-hidden--visually\" id=\"82380ba3-f88f-4931-8bed-db725f1fea6e\" type=\"checkbox\" checked><label class=\"sk-toggleable__label\" for=\"82380ba3-f88f-4931-8bed-db725f1fea6e\">LinearRegression</label><div class=\"sk-toggleable__content\"><pre>LinearRegression()</pre></div></div></div></div></div>"
      ],
      "text/plain": [
       "LinearRegression()"
      ]
     },
     "execution_count": 956,
     "metadata": {},
     "output_type": "execute_result"
    }
   ],
   "source": [
    "lin_reg.fit(X_train_processed, y_train)"
   ]
  },
  {
   "cell_type": "code",
   "execution_count": 957,
   "id": "eecef9d4",
   "metadata": {},
   "outputs": [],
   "source": [
    "regression_y_pred = lin_reg.predict(X_test_processed)"
   ]
  },
  {
   "cell_type": "code",
   "execution_count": 958,
   "id": "80dce329",
   "metadata": {},
   "outputs": [
    {
     "name": "stdout",
     "output_type": "stream",
     "text": [
      "Mean Squared Error: \n"
     ]
    },
    {
     "data": {
      "text/plain": [
       "17558.4754845448"
      ]
     },
     "execution_count": 958,
     "metadata": {},
     "output_type": "execute_result"
    }
   ],
   "source": [
    "print(\"Mean Squared Error: \")\n",
    "np.sqrt(mean_squared_error(regression_y_pred,y_test))"
   ]
  },
  {
   "cell_type": "code",
   "execution_count": 959,
   "id": "6325086a",
   "metadata": {},
   "outputs": [
    {
     "name": "stdout",
     "output_type": "stream",
     "text": [
      "R2 Score: \n",
      "0.6193507186549406\n"
     ]
    }
   ],
   "source": [
    "print(\"R2 Score: \")\n",
    "print(r2_score(regression_y_pred,y_test))"
   ]
  },
  {
   "cell_type": "code",
   "execution_count": 960,
   "id": "db947787",
   "metadata": {},
   "outputs": [
    {
     "data": {
      "text/plain": [
       "1.6496184454779085e+17"
      ]
     },
     "execution_count": 960,
     "metadata": {},
     "output_type": "execute_result"
    }
   ],
   "source": [
    "# intercept of the model\n",
    "lin_reg.intercept_"
   ]
  },
  {
   "cell_type": "code",
   "execution_count": 961,
   "id": "ba393960",
   "metadata": {},
   "outputs": [
    {
     "data": {
      "text/plain": [
       "array([-3.14195587e+17, -5.63552855e+17, -3.14195587e+17, -3.14195587e+17,\n",
       "       -3.14195587e+17, -3.14195587e+17, -3.14195587e+17, -3.14195587e+17,\n",
       "       -3.14195587e+17, -3.14195587e+17, -3.14195587e+17, -3.14195587e+17,\n",
       "       -3.14195587e+17, -3.14195587e+17, -3.14195587e+17, -3.14195587e+17,\n",
       "       -3.14195587e+17, -3.14195587e+17, -3.14195587e+17, -1.84066105e+17,\n",
       "       -1.84066105e+17, -1.84066105e+17, -1.84066105e+17, -1.84066105e+17,\n",
       "       -1.84066105e+17,  1.65677782e+17,  1.65677782e+17,  1.65677782e+17,\n",
       "        2.09288529e+17, -4.00687393e+16, -4.00687393e+16,  2.07690805e+17,\n",
       "        2.07690805e+17,  2.07690805e+17,  2.07690805e+17,  2.07690805e+17,\n",
       "        4.35200000e+03,  1.60000000e+03,  5.18400000e+03,  8.64000000e+03,\n",
       "        1.69600000e+03,  6.40000000e+01,  1.04800000e+03])"
      ]
     },
     "execution_count": 961,
     "metadata": {},
     "output_type": "execute_result"
    }
   ],
   "source": [
    "# weights of the model features\n",
    "lin_reg.coef_"
   ]
  },
  {
   "cell_type": "code",
   "execution_count": null,
   "id": "e40e79b4",
   "metadata": {},
   "outputs": [],
   "source": []
  },
  {
   "cell_type": "code",
   "execution_count": null,
   "id": "414df4ea",
   "metadata": {},
   "outputs": [],
   "source": []
  },
  {
   "cell_type": "code",
   "execution_count": 962,
   "id": "7e12eaf3",
   "metadata": {},
   "outputs": [
    {
     "data": {
      "text/html": [
       "<div>\n",
       "<style scoped>\n",
       "    .dataframe tbody tr th:only-of-type {\n",
       "        vertical-align: middle;\n",
       "    }\n",
       "\n",
       "    .dataframe tbody tr th {\n",
       "        vertical-align: top;\n",
       "    }\n",
       "\n",
       "    .dataframe thead th {\n",
       "        text-align: right;\n",
       "    }\n",
       "</style>\n",
       "<table border=\"1\" class=\"dataframe\">\n",
       "  <thead>\n",
       "    <tr style=\"text-align: right;\">\n",
       "      <th></th>\n",
       "      <th>Actual Value</th>\n",
       "      <th>Predicted Value</th>\n",
       "    </tr>\n",
       "  </thead>\n",
       "  <tbody>\n",
       "    <tr>\n",
       "      <th>1252</th>\n",
       "      <td>30316.32</td>\n",
       "      <td>35392.0</td>\n",
       "    </tr>\n",
       "    <tr>\n",
       "      <th>917</th>\n",
       "      <td>85194.72</td>\n",
       "      <td>96448.0</td>\n",
       "    </tr>\n",
       "    <tr>\n",
       "      <th>104</th>\n",
       "      <td>71395.20</td>\n",
       "      <td>81312.0</td>\n",
       "    </tr>\n",
       "    <tr>\n",
       "      <th>458</th>\n",
       "      <td>95850.72</td>\n",
       "      <td>74016.0</td>\n",
       "    </tr>\n",
       "    <tr>\n",
       "      <th>61</th>\n",
       "      <td>46833.12</td>\n",
       "      <td>70528.0</td>\n",
       "    </tr>\n",
       "    <tr>\n",
       "      <th>1189</th>\n",
       "      <td>138474.72</td>\n",
       "      <td>80800.0</td>\n",
       "    </tr>\n",
       "    <tr>\n",
       "      <th>339</th>\n",
       "      <td>60885.72</td>\n",
       "      <td>51936.0</td>\n",
       "    </tr>\n",
       "    <tr>\n",
       "      <th>1037</th>\n",
       "      <td>91908.00</td>\n",
       "      <td>84064.0</td>\n",
       "    </tr>\n",
       "    <tr>\n",
       "      <th>430</th>\n",
       "      <td>14332.32</td>\n",
       "      <td>38656.0</td>\n",
       "    </tr>\n",
       "    <tr>\n",
       "      <th>906</th>\n",
       "      <td>79014.24</td>\n",
       "      <td>89824.0</td>\n",
       "    </tr>\n",
       "  </tbody>\n",
       "</table>\n",
       "</div>"
      ],
      "text/plain": [
       "      Actual Value   Predicted Value \n",
       "1252       30316.32           35392.0\n",
       "917        85194.72           96448.0\n",
       "104        71395.20           81312.0\n",
       "458        95850.72           74016.0\n",
       "61         46833.12           70528.0\n",
       "1189      138474.72           80800.0\n",
       "339        60885.72           51936.0\n",
       "1037       91908.00           84064.0\n",
       "430        14332.32           38656.0\n",
       "906        79014.24           89824.0"
      ]
     },
     "execution_count": 962,
     "metadata": {},
     "output_type": "execute_result"
    }
   ],
   "source": [
    "# There is some difference between actual and predicted values\n",
    "pd.DataFrame({'Actual Value ':y_test, 'Predicted Value ': regression_y_pred}).head(10)"
   ]
  },
  {
   "cell_type": "code",
   "execution_count": null,
   "id": "27b905d7",
   "metadata": {},
   "outputs": [],
   "source": []
  },
  {
   "cell_type": "code",
   "execution_count": null,
   "id": "28962feb",
   "metadata": {},
   "outputs": [],
   "source": []
  },
  {
   "cell_type": "code",
   "execution_count": null,
   "id": "f7d01f89",
   "metadata": {},
   "outputs": [],
   "source": []
  },
  {
   "cell_type": "markdown",
   "id": "cef15727",
   "metadata": {},
   "source": [
    "### Lasso Regression"
   ]
  },
  {
   "cell_type": "code",
   "execution_count": 963,
   "id": "bca98c16",
   "metadata": {},
   "outputs": [],
   "source": [
    "# create instance/object of lasso regression\n",
    "las_reg = Lasso()"
   ]
  },
  {
   "cell_type": "code",
   "execution_count": 964,
   "id": "9337d01c",
   "metadata": {},
   "outputs": [
    {
     "data": {
      "text/html": [
       "<style>div.sk-top-container {color: black;background-color: white;}div.sk-toggleable {background-color: white;}label.sk-toggleable__label {cursor: pointer;display: block;width: 100%;margin-bottom: 0;padding: 0.2em 0.3em;box-sizing: border-box;text-align: center;}div.sk-toggleable__content {max-height: 0;max-width: 0;overflow: hidden;text-align: left;background-color: #f0f8ff;}div.sk-toggleable__content pre {margin: 0.2em;color: black;border-radius: 0.25em;background-color: #f0f8ff;}input.sk-toggleable__control:checked~div.sk-toggleable__content {max-height: 200px;max-width: 100%;overflow: auto;}div.sk-estimator input.sk-toggleable__control:checked~label.sk-toggleable__label {background-color: #d4ebff;}div.sk-label input.sk-toggleable__control:checked~label.sk-toggleable__label {background-color: #d4ebff;}input.sk-hidden--visually {border: 0;clip: rect(1px 1px 1px 1px);clip: rect(1px, 1px, 1px, 1px);height: 1px;margin: -1px;overflow: hidden;padding: 0;position: absolute;width: 1px;}div.sk-estimator {font-family: monospace;background-color: #f0f8ff;margin: 0.25em 0.25em;border: 1px dotted black;border-radius: 0.25em;box-sizing: border-box;}div.sk-estimator:hover {background-color: #d4ebff;}div.sk-parallel-item::after {content: \"\";width: 100%;border-bottom: 1px solid gray;flex-grow: 1;}div.sk-label:hover label.sk-toggleable__label {background-color: #d4ebff;}div.sk-serial::before {content: \"\";position: absolute;border-left: 1px solid gray;box-sizing: border-box;top: 2em;bottom: 0;left: 50%;}div.sk-serial {display: flex;flex-direction: column;align-items: center;background-color: white;}div.sk-item {z-index: 1;}div.sk-parallel {display: flex;align-items: stretch;justify-content: center;background-color: white;}div.sk-parallel-item {display: flex;flex-direction: column;position: relative;background-color: white;}div.sk-parallel-item:first-child::after {align-self: flex-end;width: 50%;}div.sk-parallel-item:last-child::after {align-self: flex-start;width: 50%;}div.sk-parallel-item:only-child::after {width: 0;}div.sk-dashed-wrapped {border: 1px dashed gray;margin: 0.2em;box-sizing: border-box;padding-bottom: 0.1em;background-color: white;position: relative;}div.sk-label label {font-family: monospace;font-weight: bold;background-color: white;display: inline-block;line-height: 1.2em;}div.sk-label-container {position: relative;z-index: 2;text-align: center;}div.sk-container {display: inline-block;position: relative;}</style><div class=\"sk-top-container\"><div class=\"sk-container\"><div class=\"sk-item\"><div class=\"sk-estimator sk-toggleable\"><input class=\"sk-toggleable__control sk-hidden--visually\" id=\"e1783d1a-dc16-4b1c-9a27-749f9e71dea5\" type=\"checkbox\" checked><label class=\"sk-toggleable__label\" for=\"e1783d1a-dc16-4b1c-9a27-749f9e71dea5\">Lasso</label><div class=\"sk-toggleable__content\"><pre>Lasso()</pre></div></div></div></div></div>"
      ],
      "text/plain": [
       "Lasso()"
      ]
     },
     "execution_count": 964,
     "metadata": {},
     "output_type": "execute_result"
    }
   ],
   "source": [
    "las_reg.fit(X_train_processed, y_train)"
   ]
  },
  {
   "cell_type": "code",
   "execution_count": 965,
   "id": "8b7bb949",
   "metadata": {},
   "outputs": [],
   "source": [
    "lasso_y_pred = las_reg.predict(X_test_processed)"
   ]
  },
  {
   "cell_type": "code",
   "execution_count": 966,
   "id": "690ba209",
   "metadata": {},
   "outputs": [
    {
     "name": "stdout",
     "output_type": "stream",
     "text": [
      "Mean Squared Error: \n"
     ]
    },
    {
     "data": {
      "text/plain": [
       "17352.805530796562"
      ]
     },
     "execution_count": 966,
     "metadata": {},
     "output_type": "execute_result"
    }
   ],
   "source": [
    "print(\"Mean Squared Error: \")\n",
    "np.sqrt(mean_squared_error(lasso_y_pred,y_test))"
   ]
  },
  {
   "cell_type": "code",
   "execution_count": 967,
   "id": "fa7223f7",
   "metadata": {},
   "outputs": [
    {
     "name": "stdout",
     "output_type": "stream",
     "text": [
      "R2 Score: \n",
      "0.5994638549698932\n"
     ]
    }
   ],
   "source": [
    "print(\"R2 Score: \")\n",
    "print(r2_score(lasso_y_pred,y_test))"
   ]
  },
  {
   "cell_type": "code",
   "execution_count": null,
   "id": "6f86cafe",
   "metadata": {},
   "outputs": [],
   "source": []
  },
  {
   "cell_type": "code",
   "execution_count": null,
   "id": "0b2895ca",
   "metadata": {},
   "outputs": [],
   "source": []
  },
  {
   "cell_type": "code",
   "execution_count": null,
   "id": "5a9faec6",
   "metadata": {},
   "outputs": [],
   "source": []
  },
  {
   "cell_type": "markdown",
   "id": "def82979",
   "metadata": {},
   "source": [
    "### Ridge Regression"
   ]
  },
  {
   "cell_type": "code",
   "execution_count": 968,
   "id": "2708472e",
   "metadata": {},
   "outputs": [],
   "source": [
    "# create instance of ridge regression\n",
    "rid_reg = Ridge()"
   ]
  },
  {
   "cell_type": "code",
   "execution_count": 969,
   "id": "c9e394f5",
   "metadata": {},
   "outputs": [
    {
     "data": {
      "text/html": [
       "<style>div.sk-top-container {color: black;background-color: white;}div.sk-toggleable {background-color: white;}label.sk-toggleable__label {cursor: pointer;display: block;width: 100%;margin-bottom: 0;padding: 0.2em 0.3em;box-sizing: border-box;text-align: center;}div.sk-toggleable__content {max-height: 0;max-width: 0;overflow: hidden;text-align: left;background-color: #f0f8ff;}div.sk-toggleable__content pre {margin: 0.2em;color: black;border-radius: 0.25em;background-color: #f0f8ff;}input.sk-toggleable__control:checked~div.sk-toggleable__content {max-height: 200px;max-width: 100%;overflow: auto;}div.sk-estimator input.sk-toggleable__control:checked~label.sk-toggleable__label {background-color: #d4ebff;}div.sk-label input.sk-toggleable__control:checked~label.sk-toggleable__label {background-color: #d4ebff;}input.sk-hidden--visually {border: 0;clip: rect(1px 1px 1px 1px);clip: rect(1px, 1px, 1px, 1px);height: 1px;margin: -1px;overflow: hidden;padding: 0;position: absolute;width: 1px;}div.sk-estimator {font-family: monospace;background-color: #f0f8ff;margin: 0.25em 0.25em;border: 1px dotted black;border-radius: 0.25em;box-sizing: border-box;}div.sk-estimator:hover {background-color: #d4ebff;}div.sk-parallel-item::after {content: \"\";width: 100%;border-bottom: 1px solid gray;flex-grow: 1;}div.sk-label:hover label.sk-toggleable__label {background-color: #d4ebff;}div.sk-serial::before {content: \"\";position: absolute;border-left: 1px solid gray;box-sizing: border-box;top: 2em;bottom: 0;left: 50%;}div.sk-serial {display: flex;flex-direction: column;align-items: center;background-color: white;}div.sk-item {z-index: 1;}div.sk-parallel {display: flex;align-items: stretch;justify-content: center;background-color: white;}div.sk-parallel-item {display: flex;flex-direction: column;position: relative;background-color: white;}div.sk-parallel-item:first-child::after {align-self: flex-end;width: 50%;}div.sk-parallel-item:last-child::after {align-self: flex-start;width: 50%;}div.sk-parallel-item:only-child::after {width: 0;}div.sk-dashed-wrapped {border: 1px dashed gray;margin: 0.2em;box-sizing: border-box;padding-bottom: 0.1em;background-color: white;position: relative;}div.sk-label label {font-family: monospace;font-weight: bold;background-color: white;display: inline-block;line-height: 1.2em;}div.sk-label-container {position: relative;z-index: 2;text-align: center;}div.sk-container {display: inline-block;position: relative;}</style><div class=\"sk-top-container\"><div class=\"sk-container\"><div class=\"sk-item\"><div class=\"sk-estimator sk-toggleable\"><input class=\"sk-toggleable__control sk-hidden--visually\" id=\"79c1968f-a487-4437-ac3f-9cf435d4ce19\" type=\"checkbox\" checked><label class=\"sk-toggleable__label\" for=\"79c1968f-a487-4437-ac3f-9cf435d4ce19\">Ridge</label><div class=\"sk-toggleable__content\"><pre>Ridge()</pre></div></div></div></div></div>"
      ],
      "text/plain": [
       "Ridge()"
      ]
     },
     "execution_count": 969,
     "metadata": {},
     "output_type": "execute_result"
    }
   ],
   "source": [
    "rid_reg.fit(X_train_processed, y_train)"
   ]
  },
  {
   "cell_type": "code",
   "execution_count": 970,
   "id": "2eb03788",
   "metadata": {},
   "outputs": [],
   "source": [
    "rid_y_pred = rid_reg.predict(X_test_processed)"
   ]
  },
  {
   "cell_type": "code",
   "execution_count": 971,
   "id": "6995f33a",
   "metadata": {},
   "outputs": [
    {
     "name": "stdout",
     "output_type": "stream",
     "text": [
      "Mean Squared Error: \n"
     ]
    },
    {
     "data": {
      "text/plain": [
       "17154.402190343502"
      ]
     },
     "execution_count": 971,
     "metadata": {},
     "output_type": "execute_result"
    }
   ],
   "source": [
    "print(\"Mean Squared Error: \")\n",
    "np.sqrt(mean_squared_error(rid_y_pred,y_test))"
   ]
  },
  {
   "cell_type": "code",
   "execution_count": 972,
   "id": "da7681d3",
   "metadata": {},
   "outputs": [
    {
     "name": "stdout",
     "output_type": "stream",
     "text": [
      "R2 Score: \n",
      "0.6038037750906864\n"
     ]
    }
   ],
   "source": [
    "print(\"R2 Score: \")\n",
    "print(r2_score(rid_y_pred,y_test))"
   ]
  },
  {
   "cell_type": "code",
   "execution_count": null,
   "id": "9ca169f1",
   "metadata": {},
   "outputs": [],
   "source": []
  },
  {
   "cell_type": "code",
   "execution_count": null,
   "id": "f990c3ee",
   "metadata": {},
   "outputs": [],
   "source": []
  },
  {
   "cell_type": "code",
   "execution_count": null,
   "id": "35c0a3e0",
   "metadata": {},
   "outputs": [],
   "source": []
  },
  {
   "cell_type": "code",
   "execution_count": null,
   "id": "2736faeb",
   "metadata": {},
   "outputs": [],
   "source": []
  },
  {
   "cell_type": "markdown",
   "id": "e082208e",
   "metadata": {},
   "source": [
    "## Model Evaluation\n",
    "\n",
    "\n",
    "<img src=\"images/evaluation.gif\" height=500px width=500px>\n",
    "\n",
    "\n",
    "- **Mean Absolute Error(MAE)**\n",
    "- **Mean Squared Error(MSE)**\n",
    "- **Root Mean Squared Error(MSE)**\n",
    "- **R-Squared (R2)**\n",
    "- **Adjusted R-Squared**"
   ]
  },
  {
   "cell_type": "code",
   "execution_count": 973,
   "id": "96309d8e",
   "metadata": {},
   "outputs": [],
   "source": [
    "# Function to evaluate the performance of different models\n",
    "\n",
    "from sklearn.metrics import mean_absolute_error, mean_squared_error, r2_score\n",
    "\n",
    "def evaluate_linear_regression(model, y_true, y_pred):\n",
    "    \"\"\"\n",
    "    This function evaluates the performance of a linear regression model using various evaluation techniques.\n",
    "    \n",
    "    Args:\n",
    "    - model: name of the model which we want to evaluate\n",
    "    - y_true: numpy array or Pandas Series of the true target values\n",
    "    - y_pred: numpy array or Pandas Series of the predicted target values\n",
    "    \n",
    "    Returns:\n",
    "    - dictionary containing the evaluation metrics\n",
    "    \"\"\"\n",
    "    \n",
    "    # Compute the evaluation metrics\n",
    "    mae = mean_absolute_error(y_true, y_pred)\n",
    "    mse = mean_squared_error(y_true, y_pred)\n",
    "    rmse = np.sqrt(mse)\n",
    "    r2 = r2_score(y_true, y_pred)\n",
    "    \n",
    "    # Create a dictionary of the evaluation metrics\n",
    "    evaluation_metrics = {'Model': model,\n",
    "                          'Mean Absolute Error': mae,\n",
    "                          'Mean Squared Error': mse,\n",
    "                          'Root Mean Squared Error': rmse,\n",
    "                          'R-squared': r2}\n",
    "    \n",
    "    return evaluation_metrics\n"
   ]
  },
  {
   "cell_type": "code",
   "execution_count": null,
   "id": "c3c1083e",
   "metadata": {},
   "outputs": [],
   "source": []
  },
  {
   "cell_type": "code",
   "execution_count": null,
   "id": "2abe7b30",
   "metadata": {},
   "outputs": [],
   "source": []
  },
  {
   "cell_type": "code",
   "execution_count": 901,
   "id": "7692ff52",
   "metadata": {},
   "outputs": [
    {
     "data": {
      "text/plain": [
       "{'Model': 'Linear Regression ',\n",
       " 'Mean Absolute Error': 14979.01617991968,\n",
       " 'Mean Squared Error': 534552763.63572794,\n",
       " 'Root Mean Squared Error': 23120.397134040064,\n",
       " 'R-squared': 0.6908934242294513}"
      ]
     },
     "execution_count": 901,
     "metadata": {},
     "output_type": "execute_result"
    }
   ],
   "source": [
    "# performance of linear regression\n",
    "\n",
    "evaluate_linear_regression(\"Linear Regression \", y_test, regression_y_pred)"
   ]
  },
  {
   "cell_type": "code",
   "execution_count": 976,
   "id": "9d44b707",
   "metadata": {},
   "outputs": [
    {
     "data": {
      "text/plain": [
       "{'Model': 'Lasso Regression ',\n",
       " 'Mean Absolute Error': 12172.130650528494,\n",
       " 'Mean Squared Error': 301119859.7896437,\n",
       " 'Root Mean Squared Error': 17352.805530796562,\n",
       " 'R-squared': 0.6760607560241602}"
      ]
     },
     "execution_count": 976,
     "metadata": {},
     "output_type": "execute_result"
    }
   ],
   "source": [
    "# performance of lasso regression\n",
    "\n",
    "evaluate_linear_regression(\"Lasso Regression \", y_test, lasso_y_pred)"
   ]
  },
  {
   "cell_type": "code",
   "execution_count": 977,
   "id": "3c8b81c0",
   "metadata": {},
   "outputs": [
    {
     "data": {
      "text/plain": [
       "{'Model': 'Ridg Regression ',\n",
       " 'Mean Absolute Error': 12137.026853008309,\n",
       " 'Mean Squared Error': 294273514.50806195,\n",
       " 'Root Mean Squared Error': 17154.402190343502,\n",
       " 'R-squared': 0.6834259292015868}"
      ]
     },
     "execution_count": 977,
     "metadata": {},
     "output_type": "execute_result"
    }
   ],
   "source": [
    "# performance of ridge regression\n",
    "\n",
    "evaluate_linear_regression(\"Ridg Regression \", y_test, rid_y_pred)"
   ]
  },
  {
   "cell_type": "code",
   "execution_count": null,
   "id": "608560ae",
   "metadata": {},
   "outputs": [],
   "source": []
  },
  {
   "cell_type": "code",
   "execution_count": null,
   "id": "7adc5b06",
   "metadata": {},
   "outputs": [],
   "source": []
  },
  {
   "cell_type": "markdown",
   "id": "5844684c",
   "metadata": {},
   "source": [
    "## **Observation**\n",
    "- Performance of all the models are almost same."
   ]
  },
  {
   "cell_type": "code",
   "execution_count": null,
   "id": "b8972b81",
   "metadata": {},
   "outputs": [],
   "source": []
  },
  {
   "cell_type": "markdown",
   "id": "164551cf",
   "metadata": {},
   "source": [
    "## Cross Validation and Hyper-Parameter Tunning\n",
    "\n",
    "\n",
    "<img src=\"images/cross_validation.png\" height=700px width=700px>\n",
    "\n",
    "- **Choose a Model**\n",
    "- **Cross Validation**\n",
    "- **Define HyperParameters for Model**\n",
    "- **Grid Search**\n",
    "- **Evaluate Performance**\n",
    "- **Impact of feature variables on Target**\n",
    "- **Make Prediction on new unseen data**"
   ]
  },
  {
   "cell_type": "code",
   "execution_count": 981,
   "id": "4ab6ae30",
   "metadata": {},
   "outputs": [],
   "source": [
    "from sklearn.model_selection import GridSearchCV, cross_val_score\n",
    "\n",
    "\n",
    "\n",
    "\n",
    "# The hyperparameters to tune for each model\n",
    "linear_params = {'fit_intercept': [True, False]}\n",
    "lasso_params = {'alpha': [0.0001, 0.001, 0.01, 0.1, 1, 1.1, 1.5, 2, 3, 4, 6, 8, 10]}\n",
    "ridge_params = {'alpha': [0.0001, 0.001, 0.01, 0.1, 1, 1.1, 1.5, 2, 3, 4, 6, 8, 10]}\n",
    "\n",
    "\n",
    "\n",
    "\n",
    "# Instance of the models\n",
    "linear_reg = LinearRegression()\n",
    "lasso_reg = Lasso()\n",
    "ridge_reg = Ridge()"
   ]
  },
  {
   "cell_type": "code",
   "execution_count": 982,
   "id": "0f9ccd7c",
   "metadata": {},
   "outputs": [],
   "source": [
    "# The GridSearchCV objects for each model\n",
    "\n",
    "# for Linear Regression\n",
    "linear_grid = GridSearchCV(linear_reg, param_grid=linear_params, cv=10, scoring='neg_mean_squared_error')\n",
    "\n",
    "# for Lasso Regression\n",
    "lasso_grid = GridSearchCV(lasso_reg, param_grid=lasso_params, cv=10, scoring='neg_mean_squared_error')\n",
    "\n",
    "# for ridge regression\n",
    "ridge_grid = GridSearchCV(ridge_reg, param_grid=ridge_params, cv=10, scoring='neg_mean_squared_error')"
   ]
  },
  {
   "cell_type": "code",
   "execution_count": 983,
   "id": "4846e406",
   "metadata": {},
   "outputs": [
    {
     "data": {
      "text/html": [
       "<style>div.sk-top-container {color: black;background-color: white;}div.sk-toggleable {background-color: white;}label.sk-toggleable__label {cursor: pointer;display: block;width: 100%;margin-bottom: 0;padding: 0.2em 0.3em;box-sizing: border-box;text-align: center;}div.sk-toggleable__content {max-height: 0;max-width: 0;overflow: hidden;text-align: left;background-color: #f0f8ff;}div.sk-toggleable__content pre {margin: 0.2em;color: black;border-radius: 0.25em;background-color: #f0f8ff;}input.sk-toggleable__control:checked~div.sk-toggleable__content {max-height: 200px;max-width: 100%;overflow: auto;}div.sk-estimator input.sk-toggleable__control:checked~label.sk-toggleable__label {background-color: #d4ebff;}div.sk-label input.sk-toggleable__control:checked~label.sk-toggleable__label {background-color: #d4ebff;}input.sk-hidden--visually {border: 0;clip: rect(1px 1px 1px 1px);clip: rect(1px, 1px, 1px, 1px);height: 1px;margin: -1px;overflow: hidden;padding: 0;position: absolute;width: 1px;}div.sk-estimator {font-family: monospace;background-color: #f0f8ff;margin: 0.25em 0.25em;border: 1px dotted black;border-radius: 0.25em;box-sizing: border-box;}div.sk-estimator:hover {background-color: #d4ebff;}div.sk-parallel-item::after {content: \"\";width: 100%;border-bottom: 1px solid gray;flex-grow: 1;}div.sk-label:hover label.sk-toggleable__label {background-color: #d4ebff;}div.sk-serial::before {content: \"\";position: absolute;border-left: 1px solid gray;box-sizing: border-box;top: 2em;bottom: 0;left: 50%;}div.sk-serial {display: flex;flex-direction: column;align-items: center;background-color: white;}div.sk-item {z-index: 1;}div.sk-parallel {display: flex;align-items: stretch;justify-content: center;background-color: white;}div.sk-parallel-item {display: flex;flex-direction: column;position: relative;background-color: white;}div.sk-parallel-item:first-child::after {align-self: flex-end;width: 50%;}div.sk-parallel-item:last-child::after {align-self: flex-start;width: 50%;}div.sk-parallel-item:only-child::after {width: 0;}div.sk-dashed-wrapped {border: 1px dashed gray;margin: 0.2em;box-sizing: border-box;padding-bottom: 0.1em;background-color: white;position: relative;}div.sk-label label {font-family: monospace;font-weight: bold;background-color: white;display: inline-block;line-height: 1.2em;}div.sk-label-container {position: relative;z-index: 2;text-align: center;}div.sk-container {display: inline-block;position: relative;}</style><div class=\"sk-top-container\"><div class=\"sk-container\"><div class=\"sk-item sk-dashed-wrapped\"><div class=\"sk-label-container\"><div class=\"sk-label sk-toggleable\"><input class=\"sk-toggleable__control sk-hidden--visually\" id=\"bb7a887b-356e-4447-9745-2a2d8c7a923f\" type=\"checkbox\" ><label class=\"sk-toggleable__label\" for=\"bb7a887b-356e-4447-9745-2a2d8c7a923f\">GridSearchCV</label><div class=\"sk-toggleable__content\"><pre>GridSearchCV(cv=10, estimator=Ridge(),\n",
       "             param_grid={'alpha': [0.0001, 0.001, 0.01, 0.1, 1, 1.1, 1.5, 2, 3,\n",
       "                                   4, 6, 8, 10]},\n",
       "             scoring='neg_mean_squared_error')</pre></div></div></div><div class=\"sk-parallel\"><div class=\"sk-parallel-item\"><div class=\"sk-item\"><div class=\"sk-serial\"><div class=\"sk-item\"><div class=\"sk-estimator sk-toggleable\"><input class=\"sk-toggleable__control sk-hidden--visually\" id=\"ce8e7b3f-9898-42fa-8245-62409a2bf2fb\" type=\"checkbox\" ><label class=\"sk-toggleable__label\" for=\"ce8e7b3f-9898-42fa-8245-62409a2bf2fb\">Ridge</label><div class=\"sk-toggleable__content\"><pre>Ridge()</pre></div></div></div></div></div></div></div></div></div></div>"
      ],
      "text/plain": [
       "GridSearchCV(cv=10, estimator=Ridge(),\n",
       "             param_grid={'alpha': [0.0001, 0.001, 0.01, 0.1, 1, 1.1, 1.5, 2, 3,\n",
       "                                   4, 6, 8, 10]},\n",
       "             scoring='neg_mean_squared_error')"
      ]
     },
     "execution_count": 983,
     "metadata": {},
     "output_type": "execute_result"
    }
   ],
   "source": [
    "# Fit the models on training data\n",
    "\n",
    "linear_grid.fit(X_train_processed, y_train)\n",
    "lasso_grid.fit(X_train_processed, y_train)\n",
    "ridge_grid.fit(X_train_processed, y_train)"
   ]
  },
  {
   "cell_type": "code",
   "execution_count": null,
   "id": "8c188971",
   "metadata": {},
   "outputs": [],
   "source": []
  },
  {
   "cell_type": "code",
   "execution_count": 984,
   "id": "7a6d24a1",
   "metadata": {},
   "outputs": [
    {
     "name": "stdout",
     "output_type": "stream",
     "text": [
      "Linear Regression:\n",
      "Best hyperparameters:  {'fit_intercept': True}\n",
      "Training MSE: 232382064.92415512\n",
      "Testing MSE: 308300061.34136075\n"
     ]
    }
   ],
   "source": [
    "# The best hyperparameters and the corresponding mean squared error on the train/test set for linear regression model\n",
    "\n",
    "print(\"Linear Regression:\")\n",
    "print(\"Best hyperparameters: \", linear_grid.best_params_)\n",
    "print('Training MSE:', mean_squared_error(y_train, linear_grid.predict(X_train_processed)))\n",
    "print('Testing MSE:', mean_squared_error(y_test, linear_grid.predict(X_test_processed)))"
   ]
  },
  {
   "cell_type": "code",
   "execution_count": null,
   "id": "30d9f77f",
   "metadata": {},
   "outputs": [],
   "source": []
  },
  {
   "cell_type": "code",
   "execution_count": 985,
   "id": "849c0da2",
   "metadata": {},
   "outputs": [
    {
     "name": "stdout",
     "output_type": "stream",
     "text": [
      "Lasso Regression:\n",
      "Best hyperparameters:  {'alpha': 8}\n",
      "Training MSE: 230168359.30454764\n",
      "Testing MSE: 299852766.44096947\n"
     ]
    }
   ],
   "source": [
    "# The best hyperparameters and the corresponding mean squared error on the train/test set for lasso reg. model\n",
    "\n",
    "print(\"Lasso Regression:\")\n",
    "print(\"Best hyperparameters: \", lasso_grid.best_params_)\n",
    "print('Training MSE:', mean_squared_error(y_train, lasso_grid.predict(X_train_processed)))\n",
    "print('Testing MSE:', mean_squared_error(y_test, lasso_grid.predict(X_test_processed)))"
   ]
  },
  {
   "cell_type": "code",
   "execution_count": null,
   "id": "5c438efe",
   "metadata": {},
   "outputs": [],
   "source": []
  },
  {
   "cell_type": "code",
   "execution_count": 986,
   "id": "2ea3856c",
   "metadata": {},
   "outputs": [
    {
     "name": "stdout",
     "output_type": "stream",
     "text": [
      "Ridge Regression:\n",
      "Best hyperparameters:  {'alpha': 1}\n",
      "Training MSE: 230527516.5859303\n",
      "Testing MSE: 294273514.50806195\n"
     ]
    }
   ],
   "source": [
    "# The best hyperparameters and the corresponding mean squared error on the train/test set for ridge reg. model\n",
    "\n",
    "\n",
    "print(\"Ridge Regression:\")\n",
    "print(\"Best hyperparameters: \", ridge_grid.best_params_)\n",
    "print('Training MSE:', mean_squared_error(y_train, ridge_grid.predict(X_train_processed)))\n",
    "print('Testing MSE:', mean_squared_error(y_test, ridge_grid.predict(X_test_processed)))"
   ]
  },
  {
   "cell_type": "code",
   "execution_count": null,
   "id": "67b5595e",
   "metadata": {},
   "outputs": [],
   "source": []
  },
  {
   "cell_type": "markdown",
   "id": "4a73c4be",
   "metadata": {},
   "source": [
    "### Observation\n",
    "\n",
    "- From above analysis , we can interpret that Ridge regression performance is better than linear and lasso regression"
   ]
  },
  {
   "cell_type": "code",
   "execution_count": null,
   "id": "ffaf762f",
   "metadata": {},
   "outputs": [],
   "source": []
  },
  {
   "cell_type": "code",
   "execution_count": null,
   "id": "94173f84",
   "metadata": {},
   "outputs": [],
   "source": []
  },
  {
   "cell_type": "code",
   "execution_count": null,
   "id": "e35b32f7",
   "metadata": {},
   "outputs": [],
   "source": []
  },
  {
   "cell_type": "markdown",
   "id": "d61b1560",
   "metadata": {},
   "source": [
    "## Make Prediction of New Data "
   ]
  },
  {
   "cell_type": "code",
   "execution_count": 1000,
   "id": "ddaaa4ff",
   "metadata": {},
   "outputs": [
    {
     "data": {
      "text/html": [
       "<div>\n",
       "<style scoped>\n",
       "    .dataframe tbody tr th:only-of-type {\n",
       "        vertical-align: middle;\n",
       "    }\n",
       "\n",
       "    .dataframe tbody tr th {\n",
       "        vertical-align: top;\n",
       "    }\n",
       "\n",
       "    .dataframe thead th {\n",
       "        text-align: right;\n",
       "    }\n",
       "</style>\n",
       "<table border=\"1\" class=\"dataframe\">\n",
       "  <thead>\n",
       "    <tr style=\"text-align: right;\">\n",
       "      <th></th>\n",
       "      <th>company</th>\n",
       "      <th>typename</th>\n",
       "      <th>ram</th>\n",
       "      <th>weight</th>\n",
       "      <th>price</th>\n",
       "      <th>gpu_brand</th>\n",
       "      <th>os</th>\n",
       "      <th>cpu_brand</th>\n",
       "      <th>touchscreen</th>\n",
       "      <th>ips</th>\n",
       "      <th>ppi</th>\n",
       "      <th>HDD</th>\n",
       "      <th>SSD</th>\n",
       "      <th>Hybrid</th>\n",
       "      <th>Flash_Storage</th>\n",
       "    </tr>\n",
       "  </thead>\n",
       "  <tbody>\n",
       "    <tr>\n",
       "      <th>825</th>\n",
       "      <td>Toshiba</td>\n",
       "      <td>Notebook</td>\n",
       "      <td>4.0</td>\n",
       "      <td>1.75</td>\n",
       "      <td>26586.72</td>\n",
       "      <td>Intel</td>\n",
       "      <td>Windows</td>\n",
       "      <td>Other Intel Processor</td>\n",
       "      <td>0.0</td>\n",
       "      <td>0.0</td>\n",
       "      <td>111.935204</td>\n",
       "      <td>0.0</td>\n",
       "      <td>128.0</td>\n",
       "      <td>0.0</td>\n",
       "      <td>0.0</td>\n",
       "    </tr>\n",
       "    <tr>\n",
       "      <th>1132</th>\n",
       "      <td>Asus</td>\n",
       "      <td>Notebook</td>\n",
       "      <td>4.0</td>\n",
       "      <td>1.50</td>\n",
       "      <td>14811.84</td>\n",
       "      <td>Intel</td>\n",
       "      <td>Windows</td>\n",
       "      <td>Other Intel Processor</td>\n",
       "      <td>0.0</td>\n",
       "      <td>0.0</td>\n",
       "      <td>111.935204</td>\n",
       "      <td>0.0</td>\n",
       "      <td>0.0</td>\n",
       "      <td>0.0</td>\n",
       "      <td>32.0</td>\n",
       "    </tr>\n",
       "  </tbody>\n",
       "</table>\n",
       "</div>"
      ],
      "text/plain": [
       "      company  typename  ram  weight     price gpu_brand       os  \\\n",
       "825   Toshiba  Notebook  4.0    1.75  26586.72     Intel  Windows   \n",
       "1132     Asus  Notebook  4.0    1.50  14811.84     Intel  Windows   \n",
       "\n",
       "                  cpu_brand  touchscreen  ips         ppi  HDD    SSD  Hybrid  \\\n",
       "825   Other Intel Processor          0.0  0.0  111.935204  0.0  128.0     0.0   \n",
       "1132  Other Intel Processor          0.0  0.0  111.935204  0.0    0.0     0.0   \n",
       "\n",
       "      Flash_Storage  \n",
       "825             0.0  \n",
       "1132           32.0  "
      ]
     },
     "execution_count": 1000,
     "metadata": {},
     "output_type": "execute_result"
    }
   ],
   "source": [
    "df.sample(2)"
   ]
  },
  {
   "cell_type": "code",
   "execution_count": 995,
   "id": "d5191fd1",
   "metadata": {},
   "outputs": [],
   "source": [
    "Input = {\n",
    "    'company':'HP',\n",
    "    'typename': 'Notebook',\n",
    "    'ram': 16,\n",
    "    'weight': 1.45,\n",
    "    'gpu_brand' : 'Intel',\n",
    "    'os' : 'Windows',\n",
    "    'cpu_brand': 'Intel Core i7',\n",
    "    'touchscreen' : 1,\n",
    "    'ips': 1,\n",
    "    'ppi' : 130,\n",
    "    'HDD' : 500,\n",
    "    'SSD' : 512,\n",
    "    'Hybrid' : 0,\n",
    "    'Flash_Storage': 0\n",
    "}\n",
    "\n",
    "data = pd.DataFrame(data=Input, index=[0])\n",
    "data = preprocessor.transform(data)"
   ]
  },
  {
   "cell_type": "code",
   "execution_count": 998,
   "id": "2194271f",
   "metadata": {},
   "outputs": [
    {
     "name": "stdout",
     "output_type": "stream",
     "text": [
      "price of new laptop is : \n"
     ]
    },
    {
     "data": {
      "text/plain": [
       "85107.30726589655"
      ]
     },
     "execution_count": 998,
     "metadata": {},
     "output_type": "execute_result"
    }
   ],
   "source": [
    "print(\"price of new laptop is : \")\n",
    "ridge_grid.predict(data)[0]"
   ]
  },
  {
   "cell_type": "code",
   "execution_count": null,
   "id": "e0bd04f8",
   "metadata": {},
   "outputs": [],
   "source": []
  },
  {
   "cell_type": "code",
   "execution_count": null,
   "id": "04d63fcc",
   "metadata": {},
   "outputs": [],
   "source": []
  },
  {
   "cell_type": "code",
   "execution_count": null,
   "id": "2f7a2751",
   "metadata": {},
   "outputs": [],
   "source": []
  },
  {
   "cell_type": "code",
   "execution_count": null,
   "id": "5e151a48",
   "metadata": {},
   "outputs": [],
   "source": []
  },
  {
   "cell_type": "markdown",
   "id": "d21d5044",
   "metadata": {},
   "source": [
    "## Save Model for WebApp Development"
   ]
  },
  {
   "cell_type": "code",
   "execution_count": 1001,
   "id": "abb5dccf",
   "metadata": {},
   "outputs": [],
   "source": [
    "!mkdir model"
   ]
  },
  {
   "cell_type": "code",
   "execution_count": 1003,
   "id": "2bb71d7d",
   "metadata": {},
   "outputs": [],
   "source": [
    "import joblib"
   ]
  },
  {
   "cell_type": "code",
   "execution_count": 1006,
   "id": "5db0ffcf",
   "metadata": {},
   "outputs": [
    {
     "data": {
      "text/plain": [
       "['model/finalized_model.sav']"
      ]
     },
     "execution_count": 1006,
     "metadata": {},
     "output_type": "execute_result"
    }
   ],
   "source": [
    "# save model\n",
    "joblib.dump(ridge_grid, 'model/finalized_model')"
   ]
  },
  {
   "cell_type": "code",
   "execution_count": 1008,
   "id": "d685266b",
   "metadata": {},
   "outputs": [],
   "source": []
  },
  {
   "cell_type": "code",
   "execution_count": 1011,
   "id": "629f1347",
   "metadata": {},
   "outputs": [],
   "source": [
    "# load model\n",
    "model = joblib.load('model/finalized_model')"
   ]
  },
  {
   "cell_type": "code",
   "execution_count": 1013,
   "id": "2aea10f5",
   "metadata": {},
   "outputs": [
    {
     "data": {
      "text/plain": [
       "85107.30726589655"
      ]
     },
     "execution_count": 1013,
     "metadata": {},
     "output_type": "execute_result"
    }
   ],
   "source": [
    "model.predict(data)[0]"
   ]
  },
  {
   "cell_type": "code",
   "execution_count": null,
   "id": "2d52ef33",
   "metadata": {},
   "outputs": [],
   "source": []
  },
  {
   "cell_type": "code",
   "execution_count": null,
   "id": "169a3f57",
   "metadata": {},
   "outputs": [],
   "source": []
  },
  {
   "cell_type": "code",
   "execution_count": null,
   "id": "ce8b4726",
   "metadata": {},
   "outputs": [],
   "source": []
  },
  {
   "cell_type": "markdown",
   "id": "1cc8c7a9",
   "metadata": {},
   "source": [
    "## WebApp Development using Streamlit\n",
    "\n",
    "<img src=\"images/streamlit.png\" height=500px width=500px align='right'>\n",
    "\n",
    "- **Load the model** and **Create a Streamlit app**\n",
    "- **Install required packages**\n",
    "- **Create `requirements.txt`**\n",
    "- **Create a `setup.sh` file**\n",
    "- **Create a `Procfile`**\n",
    "- **Create a `Heroku account`**\n",
    "- **Connect app to `Git` repository**\n",
    "- **Deploy app to Heroku**\n",
    "- **Test the app**"
   ]
  },
  {
   "cell_type": "code",
   "execution_count": null,
   "id": "00dcabb7",
   "metadata": {},
   "outputs": [],
   "source": []
  },
  {
   "cell_type": "code",
   "execution_count": null,
   "id": "9088592a",
   "metadata": {},
   "outputs": [],
   "source": [
    "# Streamlit App\n",
    "!cat app.py"
   ]
  },
  {
   "cell_type": "markdown",
   "id": "d08aa6bc",
   "metadata": {},
   "source": [
    "### Application User Interface"
   ]
  },
  {
   "cell_type": "markdown",
   "id": "16017ffb",
   "metadata": {},
   "source": [
    "![](images/App.png)"
   ]
  },
  {
   "cell_type": "code",
   "execution_count": null,
   "id": "bdc9500f",
   "metadata": {},
   "outputs": [],
   "source": []
  },
  {
   "cell_type": "code",
   "execution_count": null,
   "id": "24b0f6fe",
   "metadata": {},
   "outputs": [],
   "source": []
  },
  {
   "cell_type": "code",
   "execution_count": 1059,
   "id": "164a9087",
   "metadata": {},
   "outputs": [],
   "source": [
    "# To create a requirements.txt file\n",
    "!pip3 freeze  > requirements.txt"
   ]
  },
  {
   "cell_type": "code",
   "execution_count": null,
   "id": "7989caad",
   "metadata": {},
   "outputs": [],
   "source": [
    "# To create a setup.sh file, we use following lines\n",
    "\n",
    "mkdir -p ~/.streamlit/\n",
    "\n",
    "echo \"\\\n",
    "[general]\\n\\\n",
    "email = \\\"your-email@domain.com\\\"\\n\\\n",
    "\" > ~/.streamlit/credentials.toml\n",
    "\n",
    "echo \"\\\n",
    "[server]\\n\\\n",
    "headless = true\\n\\\n",
    "port = $PORT\\n\\\n",
    "enableCORS = false\\n\\\n",
    "\\n\\\n",
    "\" > ~/.streamlit/config.toml"
   ]
  },
  {
   "cell_type": "markdown",
   "id": "bea9d9a0",
   "metadata": {},
   "source": [
    "**These lines create the necessary directories for Streamlit, set the email for Streamlit credentials, and configure the Streamlit server to run on the port specified by the $PORT environment variable.**"
   ]
  },
  {
   "cell_type": "code",
   "execution_count": null,
   "id": "a187f4d0",
   "metadata": {},
   "outputs": [],
   "source": [
    "# To create a Procfile\n",
    "\n",
    "web: sh setup.sh && streamlit run app.py"
   ]
  },
  {
   "cell_type": "code",
   "execution_count": null,
   "id": "347eef4c",
   "metadata": {},
   "outputs": [],
   "source": []
  },
  {
   "cell_type": "code",
   "execution_count": null,
   "id": "ac83ed91",
   "metadata": {},
   "outputs": [],
   "source": []
  },
  {
   "cell_type": "code",
   "execution_count": null,
   "id": "1e373aef",
   "metadata": {},
   "outputs": [],
   "source": []
  },
  {
   "cell_type": "code",
   "execution_count": null,
   "id": "5b477ca1",
   "metadata": {},
   "outputs": [],
   "source": []
  },
  {
   "cell_type": "code",
   "execution_count": null,
   "id": "3ee9e48b",
   "metadata": {},
   "outputs": [],
   "source": []
  },
  {
   "cell_type": "code",
   "execution_count": null,
   "id": "0467c9e2",
   "metadata": {},
   "outputs": [],
   "source": []
  },
  {
   "cell_type": "markdown",
   "id": "3b210676",
   "metadata": {},
   "source": [
    "## Containerizing the WebApp using Docker\n",
    "\n",
    "\n",
    "<img src=\"images/vm_vs_docker.png\" height=500px width=500px>\n",
    "\n",
    "\n",
    "- **Install Docker from this [website](https://www.simplilearn.com/tutorials/docker-tutorial/how-to-install-docker-on-ubuntu)**\n",
    "- **Create a Dockerfile**\n",
    "- **Build the Docker image**\n",
    "- **Test the Docker image**\n",
    "- **Publish the Docker image**\n",
    "- **Deploy the Docker image**\n",
    "\n",
    "\n",
    "### Step by Step Implementation\n",
    "\n",
    "#### Step1: Copy the following files to the project directory:\n",
    "- app.py\n",
    "- laptop_price_prediction_model.pkl\n",
    "- categorical_encoder.pkl\n",
    "- numerical_scaler.pkl\n",
    "- requirements.txt\n",
    "- setup.sh\n",
    "- Procfile\n",
    "\n",
    "#### Step2: Create a new file named `Dockerfile` in the project directory\n",
    "\n",
    "#### Step3: In the Dockerfile, specify the base image , by using following code\n",
    "\n",
    "<p style=\"text-align:center; color:red\"><b>FROM python:3.8-slim-buster</b></p>\n",
    "\n",
    "\n",
    "#### Step4: Set the working directory for the application by using following code\n",
    "<p style=\"text-align:center; color:red\"><b>WORKDIR /app</b></p>\n",
    "\n",
    "\n",
    "#### Step5: Copy the files needed for the application into the container \n",
    "<p style=\"text-align:center; color:red\"><b>COPY . .</b></p>\n",
    "\n",
    "\n",
    "#### Step6: Install the dependencies needed for the application\n",
    "\n",
    "<p style=\"text-align:center; color:red\"><b>RUN pip3 install -r requirements.txt</b></p>\n",
    "\n",
    "\n",
    "#### Step7: Expose the port that the application listens\n",
    "<p style=\"text-align:center; color:red\"><b>EXPOSE 8501</b></p>\n",
    "\n",
    "#### Step8: Start the application by following command\n",
    "<p style=\"text-align:center; color:red\"><b>CMD streamlit run app.py</b></p>\n"
   ]
  },
  {
   "cell_type": "code",
   "execution_count": null,
   "id": "25d58d7e",
   "metadata": {},
   "outputs": [],
   "source": []
  },
  {
   "cell_type": "markdown",
   "id": "7afb8c82",
   "metadata": {},
   "source": [
    "#### Step9: To build the Docker image, run following command\n",
    "<p style=\"text-align:center; color:red\"><b>docker build -t laptop-price-prediction-app .\n",
    " </b></p>\n",
    " \n",
    " <p>This process will take some time and install all the libraries.</p>\n",
    "\n",
    "\n",
    "#### Step10: To run docker container\n",
    "\n",
    "<p style=\"text-align:center; color:red\"><b>docker run -p 8501:8501 laptop-price-prediction-app</b></p>\n",
    "    \n",
    "    \n",
    "> **Note**: This will start a container from the laptop-price-prediction-app image and map port 8501 in the container to port `8501` on the host machine. The Streamlit application should be accessible at `http://localhost:8501` in a web browser."
   ]
  },
  {
   "cell_type": "code",
   "execution_count": null,
   "id": "cfd41e5d",
   "metadata": {},
   "outputs": [],
   "source": []
  },
  {
   "cell_type": "code",
   "execution_count": null,
   "id": "59d9f102",
   "metadata": {},
   "outputs": [],
   "source": [
    "# Use an official Python runtime as a parent image\n",
    "FROM python:3.7\n",
    "\n",
    "# Copy the current directory contents into the container at /app\n",
    "COPY . /app\n",
    "\n",
    "\n",
    "# Set the working directory to /app\n",
    "WORKDIR /app\n",
    "\n",
    "\n",
    "# Install any needed packages specified in requirements.txt\n",
    "RUN pip3 install -r requirements.txt\n",
    "\n",
    "# Expose the port for Streamlit\n",
    "EXPOSE 8501\n",
    "\n",
    "# Run app.py when the container launches\n",
    "CMD streamlit run app.py\n"
   ]
  },
  {
   "cell_type": "code",
   "execution_count": null,
   "id": "985c49bf",
   "metadata": {},
   "outputs": [],
   "source": []
  },
  {
   "cell_type": "code",
   "execution_count": null,
   "id": "328a9eff",
   "metadata": {},
   "outputs": [],
   "source": []
  },
  {
   "cell_type": "code",
   "execution_count": null,
   "id": "a340bf4b",
   "metadata": {},
   "outputs": [],
   "source": []
  },
  {
   "cell_type": "code",
   "execution_count": null,
   "id": "ad1fc017",
   "metadata": {},
   "outputs": [],
   "source": []
  },
  {
   "cell_type": "code",
   "execution_count": null,
   "id": "64543348",
   "metadata": {},
   "outputs": [],
   "source": []
  },
  {
   "cell_type": "code",
   "execution_count": null,
   "id": "cb9e46f0",
   "metadata": {},
   "outputs": [],
   "source": []
  }
 ],
 "metadata": {
  "kernelspec": {
   "display_name": "Python 3 (ipykernel)",
   "language": "python",
   "name": "python3"
  },
  "language_info": {
   "codemirror_mode": {
    "name": "ipython",
    "version": 3
   },
   "file_extension": ".py",
   "mimetype": "text/x-python",
   "name": "python",
   "nbconvert_exporter": "python",
   "pygments_lexer": "ipython3",
   "version": "3.8.10"
  }
 },
 "nbformat": 4,
 "nbformat_minor": 5
}
